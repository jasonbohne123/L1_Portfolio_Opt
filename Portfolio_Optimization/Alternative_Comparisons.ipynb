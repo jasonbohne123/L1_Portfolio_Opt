{
 "cells": [
  {
   "cell_type": "markdown",
   "metadata": {},
   "source": [
    "### Alternatives to the Markowitz Portfolio Problem"
   ]
  },
  {
   "cell_type": "code",
   "execution_count": 1,
   "metadata": {},
   "outputs": [],
   "source": [
    "import sys\n",
    "import numpy as np\n",
    "import pandas as pd\n",
    "import itertools\n",
    "import  matplotlib.pyplot as plt\n",
    "path='/home/jbohn/jupyter/personal/L1_Portfolio_Opt/'\n",
    "sys.path.append(path)\n",
    "\n",
    "from Features.features import load_features\n",
    "from Split_Bregman.split_bregman_opt import split_bregman\n",
    "from Split_Bregman.grid_search import grid_search\n",
    "from Parameter_Estimation.bias_cov import reg_cov\n",
    "from Parameter_Estimation.bias_mean import reg_mean\n",
    "\n",
    "from Portfolio_Optimization.max_var_port import MaxRetPort\n",
    "from Portfolio_Optimization.min_var_port import MinVarPort\n",
    "from Portfolio_Optimization.mean_var_port import MeanVarPort, optimize_sharpe"
   ]
  },
  {
   "cell_type": "markdown",
   "metadata": {},
   "source": [
    "### Prep Data and Features"
   ]
  },
  {
   "cell_type": "code",
   "execution_count": 2,
   "metadata": {},
   "outputs": [
    {
     "data": {
      "text/html": [
       "<div>\n",
       "<style scoped>\n",
       "    .dataframe tbody tr th:only-of-type {\n",
       "        vertical-align: middle;\n",
       "    }\n",
       "\n",
       "    .dataframe tbody tr th {\n",
       "        vertical-align: top;\n",
       "    }\n",
       "\n",
       "    .dataframe thead th {\n",
       "        text-align: right;\n",
       "    }\n",
       "</style>\n",
       "<table border=\"1\" class=\"dataframe\">\n",
       "  <thead>\n",
       "    <tr style=\"text-align: right;\">\n",
       "      <th></th>\n",
       "      <th>MMM</th>\n",
       "      <th>AOS</th>\n",
       "      <th>ABT</th>\n",
       "      <th>ABMD</th>\n",
       "      <th>ACN</th>\n",
       "      <th>ATVI</th>\n",
       "      <th>ADM</th>\n",
       "      <th>ADBE</th>\n",
       "      <th>ADP</th>\n",
       "      <th>AAP</th>\n",
       "      <th>...</th>\n",
       "      <th>WHR</th>\n",
       "      <th>WMB</th>\n",
       "      <th>WTW</th>\n",
       "      <th>GWW</th>\n",
       "      <th>WYNN</th>\n",
       "      <th>XEL</th>\n",
       "      <th>YUM</th>\n",
       "      <th>ZBRA</th>\n",
       "      <th>ZBH</th>\n",
       "      <th>ZION</th>\n",
       "    </tr>\n",
       "    <tr>\n",
       "      <th>Date</th>\n",
       "      <th></th>\n",
       "      <th></th>\n",
       "      <th></th>\n",
       "      <th></th>\n",
       "      <th></th>\n",
       "      <th></th>\n",
       "      <th></th>\n",
       "      <th></th>\n",
       "      <th></th>\n",
       "      <th></th>\n",
       "      <th></th>\n",
       "      <th></th>\n",
       "      <th></th>\n",
       "      <th></th>\n",
       "      <th></th>\n",
       "      <th></th>\n",
       "      <th></th>\n",
       "      <th></th>\n",
       "      <th></th>\n",
       "      <th></th>\n",
       "      <th></th>\n",
       "    </tr>\n",
       "  </thead>\n",
       "  <tbody>\n",
       "    <tr>\n",
       "      <th>2010-01-05</th>\n",
       "      <td>-0.628321</td>\n",
       "      <td>-1.285971</td>\n",
       "      <td>-0.811210</td>\n",
       "      <td>-2.432083</td>\n",
       "      <td>0.616121</td>\n",
       "      <td>0.176830</td>\n",
       "      <td>0.538743</td>\n",
       "      <td>1.631272</td>\n",
       "      <td>-0.538452</td>\n",
       "      <td>-0.596131</td>\n",
       "      <td>...</td>\n",
       "      <td>-0.207657</td>\n",
       "      <td>1.241682</td>\n",
       "      <td>-0.224387</td>\n",
       "      <td>0.041128</td>\n",
       "      <td>5.904149</td>\n",
       "      <td>-1.193047</td>\n",
       "      <td>-0.342566</td>\n",
       "      <td>-0.174548</td>\n",
       "      <td>3.116535</td>\n",
       "      <td>3.465148</td>\n",
       "    </tr>\n",
       "    <tr>\n",
       "      <th>2010-01-06</th>\n",
       "      <td>1.408218</td>\n",
       "      <td>0.045393</td>\n",
       "      <td>0.553813</td>\n",
       "      <td>-1.535767</td>\n",
       "      <td>1.057458</td>\n",
       "      <td>-0.531440</td>\n",
       "      <td>-0.253164</td>\n",
       "      <td>-0.212432</td>\n",
       "      <td>-0.235015</td>\n",
       "      <td>0.868174</td>\n",
       "      <td>...</td>\n",
       "      <td>-0.884311</td>\n",
       "      <td>3.193428</td>\n",
       "      <td>1.597067</td>\n",
       "      <td>0.379627</td>\n",
       "      <td>-1.320395</td>\n",
       "      <td>0.191851</td>\n",
       "      <td>-0.717461</td>\n",
       "      <td>-0.771667</td>\n",
       "      <td>-0.032304</td>\n",
       "      <td>8.338160</td>\n",
       "    </tr>\n",
       "    <tr>\n",
       "      <th>2010-01-07</th>\n",
       "      <td>0.071691</td>\n",
       "      <td>0.294622</td>\n",
       "      <td>0.825011</td>\n",
       "      <td>0.000000</td>\n",
       "      <td>-0.093539</td>\n",
       "      <td>-2.427090</td>\n",
       "      <td>-1.051132</td>\n",
       "      <td>-1.959530</td>\n",
       "      <td>-0.047069</td>\n",
       "      <td>-0.024706</td>\n",
       "      <td>...</td>\n",
       "      <td>2.123851</td>\n",
       "      <td>-0.710789</td>\n",
       "      <td>-0.295205</td>\n",
       "      <td>0.937728</td>\n",
       "      <td>2.113119</td>\n",
       "      <td>-0.432174</td>\n",
       "      <td>-0.028805</td>\n",
       "      <td>-2.531778</td>\n",
       "      <td>2.268103</td>\n",
       "      <td>10.616021</td>\n",
       "    </tr>\n",
       "    <tr>\n",
       "      <th>2010-01-08</th>\n",
       "      <td>0.702170</td>\n",
       "      <td>1.460205</td>\n",
       "      <td>0.509927</td>\n",
       "      <td>-2.044570</td>\n",
       "      <td>-0.398552</td>\n",
       "      <td>-0.822299</td>\n",
       "      <td>-1.256660</td>\n",
       "      <td>-0.543629</td>\n",
       "      <td>-0.141351</td>\n",
       "      <td>0.394477</td>\n",
       "      <td>...</td>\n",
       "      <td>2.103321</td>\n",
       "      <td>0.799284</td>\n",
       "      <td>-0.110934</td>\n",
       "      <td>1.169962</td>\n",
       "      <td>-0.719055</td>\n",
       "      <td>0.048113</td>\n",
       "      <td>0.028805</td>\n",
       "      <td>-0.325557</td>\n",
       "      <td>-2.122811</td>\n",
       "      <td>-1.631952</td>\n",
       "    </tr>\n",
       "    <tr>\n",
       "      <th>2010-01-11</th>\n",
       "      <td>-0.404037</td>\n",
       "      <td>-0.469430</td>\n",
       "      <td>0.507340</td>\n",
       "      <td>-1.839410</td>\n",
       "      <td>-0.094009</td>\n",
       "      <td>-0.091779</td>\n",
       "      <td>0.064831</td>\n",
       "      <td>-1.316890</td>\n",
       "      <td>0.446902</td>\n",
       "      <td>-0.989122</td>\n",
       "      <td>...</td>\n",
       "      <td>-0.640649</td>\n",
       "      <td>-0.621110</td>\n",
       "      <td>0.993936</td>\n",
       "      <td>0.420251</td>\n",
       "      <td>-0.324534</td>\n",
       "      <td>0.957398</td>\n",
       "      <td>1.713344</td>\n",
       "      <td>0.325557</td>\n",
       "      <td>2.185967</td>\n",
       "      <td>0.607538</td>\n",
       "    </tr>\n",
       "    <tr>\n",
       "      <th>...</th>\n",
       "      <td>...</td>\n",
       "      <td>...</td>\n",
       "      <td>...</td>\n",
       "      <td>...</td>\n",
       "      <td>...</td>\n",
       "      <td>...</td>\n",
       "      <td>...</td>\n",
       "      <td>...</td>\n",
       "      <td>...</td>\n",
       "      <td>...</td>\n",
       "      <td>...</td>\n",
       "      <td>...</td>\n",
       "      <td>...</td>\n",
       "      <td>...</td>\n",
       "      <td>...</td>\n",
       "      <td>...</td>\n",
       "      <td>...</td>\n",
       "      <td>...</td>\n",
       "      <td>...</td>\n",
       "      <td>...</td>\n",
       "      <td>...</td>\n",
       "    </tr>\n",
       "    <tr>\n",
       "      <th>2014-12-24</th>\n",
       "      <td>0.053927</td>\n",
       "      <td>0.303000</td>\n",
       "      <td>-0.043755</td>\n",
       "      <td>0.338579</td>\n",
       "      <td>-0.109443</td>\n",
       "      <td>0.591430</td>\n",
       "      <td>-0.112905</td>\n",
       "      <td>0.482834</td>\n",
       "      <td>0.082154</td>\n",
       "      <td>-0.597355</td>\n",
       "      <td>...</td>\n",
       "      <td>0.010458</td>\n",
       "      <td>-0.834438</td>\n",
       "      <td>-0.088298</td>\n",
       "      <td>-0.318574</td>\n",
       "      <td>-0.522166</td>\n",
       "      <td>2.232856</td>\n",
       "      <td>0.151239</td>\n",
       "      <td>0.319673</td>\n",
       "      <td>0.562442</td>\n",
       "      <td>-0.035058</td>\n",
       "    </tr>\n",
       "    <tr>\n",
       "      <th>2014-12-26</th>\n",
       "      <td>-0.420151</td>\n",
       "      <td>0.762348</td>\n",
       "      <td>0.327685</td>\n",
       "      <td>0.466928</td>\n",
       "      <td>-0.065722</td>\n",
       "      <td>0.343389</td>\n",
       "      <td>0.581993</td>\n",
       "      <td>-0.093701</td>\n",
       "      <td>-0.046938</td>\n",
       "      <td>-0.143644</td>\n",
       "      <td>...</td>\n",
       "      <td>0.677794</td>\n",
       "      <td>0.615528</td>\n",
       "      <td>-0.044178</td>\n",
       "      <td>0.042790</td>\n",
       "      <td>-0.351843</td>\n",
       "      <td>0.961420</td>\n",
       "      <td>0.479675</td>\n",
       "      <td>-0.294066</td>\n",
       "      <td>0.052565</td>\n",
       "      <td>0.140151</td>\n",
       "    </tr>\n",
       "    <tr>\n",
       "      <th>2014-12-29</th>\n",
       "      <td>0.270302</td>\n",
       "      <td>0.088268</td>\n",
       "      <td>-0.546748</td>\n",
       "      <td>-0.414938</td>\n",
       "      <td>-0.814182</td>\n",
       "      <td>-0.294259</td>\n",
       "      <td>-0.544341</td>\n",
       "      <td>-0.725811</td>\n",
       "      <td>-0.388069</td>\n",
       "      <td>0.759608</td>\n",
       "      <td>...</td>\n",
       "      <td>0.300925</td>\n",
       "      <td>0.021909</td>\n",
       "      <td>-0.331971</td>\n",
       "      <td>0.686111</td>\n",
       "      <td>1.733903</td>\n",
       "      <td>1.815025</td>\n",
       "      <td>0.572598</td>\n",
       "      <td>-0.064035</td>\n",
       "      <td>-0.588570</td>\n",
       "      <td>0.558660</td>\n",
       "    </tr>\n",
       "    <tr>\n",
       "      <th>2014-12-30</th>\n",
       "      <td>-0.523237</td>\n",
       "      <td>0.211533</td>\n",
       "      <td>0.197174</td>\n",
       "      <td>-0.312335</td>\n",
       "      <td>-0.365220</td>\n",
       "      <td>-0.591139</td>\n",
       "      <td>-0.452749</td>\n",
       "      <td>-1.426552</td>\n",
       "      <td>-0.899523</td>\n",
       "      <td>-0.740861</td>\n",
       "      <td>...</td>\n",
       "      <td>0.325845</td>\n",
       "      <td>-0.549271</td>\n",
       "      <td>0.420308</td>\n",
       "      <td>-0.530647</td>\n",
       "      <td>-1.183448</td>\n",
       "      <td>-2.363274</td>\n",
       "      <td>-0.381368</td>\n",
       "      <td>0.345331</td>\n",
       "      <td>0.938314</td>\n",
       "      <td>-0.174244</td>\n",
       "    </tr>\n",
       "    <tr>\n",
       "      <th>2014-12-31</th>\n",
       "      <td>-0.920766</td>\n",
       "      <td>-0.671382</td>\n",
       "      <td>-1.477258</td>\n",
       "      <td>-0.785137</td>\n",
       "      <td>-0.980515</td>\n",
       "      <td>-0.445656</td>\n",
       "      <td>-1.697055</td>\n",
       "      <td>-0.521341</td>\n",
       "      <td>-0.883691</td>\n",
       "      <td>-0.469764</td>\n",
       "      <td>...</td>\n",
       "      <td>0.041302</td>\n",
       "      <td>-0.996357</td>\n",
       "      <td>-1.087569</td>\n",
       "      <td>-1.014877</td>\n",
       "      <td>-1.626921</td>\n",
       "      <td>-1.272501</td>\n",
       "      <td>-0.588514</td>\n",
       "      <td>-1.168698</td>\n",
       "      <td>-1.008821</td>\n",
       "      <td>-0.559637</td>\n",
       "    </tr>\n",
       "  </tbody>\n",
       "</table>\n",
       "<p>1257 rows × 439 columns</p>\n",
       "</div>"
      ],
      "text/plain": [
       "                 MMM       AOS       ABT      ABMD       ACN      ATVI  \\\n",
       "Date                                                                     \n",
       "2010-01-05 -0.628321 -1.285971 -0.811210 -2.432083  0.616121  0.176830   \n",
       "2010-01-06  1.408218  0.045393  0.553813 -1.535767  1.057458 -0.531440   \n",
       "2010-01-07  0.071691  0.294622  0.825011  0.000000 -0.093539 -2.427090   \n",
       "2010-01-08  0.702170  1.460205  0.509927 -2.044570 -0.398552 -0.822299   \n",
       "2010-01-11 -0.404037 -0.469430  0.507340 -1.839410 -0.094009 -0.091779   \n",
       "...              ...       ...       ...       ...       ...       ...   \n",
       "2014-12-24  0.053927  0.303000 -0.043755  0.338579 -0.109443  0.591430   \n",
       "2014-12-26 -0.420151  0.762348  0.327685  0.466928 -0.065722  0.343389   \n",
       "2014-12-29  0.270302  0.088268 -0.546748 -0.414938 -0.814182 -0.294259   \n",
       "2014-12-30 -0.523237  0.211533  0.197174 -0.312335 -0.365220 -0.591139   \n",
       "2014-12-31 -0.920766 -0.671382 -1.477258 -0.785137 -0.980515 -0.445656   \n",
       "\n",
       "                 ADM      ADBE       ADP       AAP  ...       WHR       WMB  \\\n",
       "Date                                                ...                       \n",
       "2010-01-05  0.538743  1.631272 -0.538452 -0.596131  ... -0.207657  1.241682   \n",
       "2010-01-06 -0.253164 -0.212432 -0.235015  0.868174  ... -0.884311  3.193428   \n",
       "2010-01-07 -1.051132 -1.959530 -0.047069 -0.024706  ...  2.123851 -0.710789   \n",
       "2010-01-08 -1.256660 -0.543629 -0.141351  0.394477  ...  2.103321  0.799284   \n",
       "2010-01-11  0.064831 -1.316890  0.446902 -0.989122  ... -0.640649 -0.621110   \n",
       "...              ...       ...       ...       ...  ...       ...       ...   \n",
       "2014-12-24 -0.112905  0.482834  0.082154 -0.597355  ...  0.010458 -0.834438   \n",
       "2014-12-26  0.581993 -0.093701 -0.046938 -0.143644  ...  0.677794  0.615528   \n",
       "2014-12-29 -0.544341 -0.725811 -0.388069  0.759608  ...  0.300925  0.021909   \n",
       "2014-12-30 -0.452749 -1.426552 -0.899523 -0.740861  ...  0.325845 -0.549271   \n",
       "2014-12-31 -1.697055 -0.521341 -0.883691 -0.469764  ...  0.041302 -0.996357   \n",
       "\n",
       "                 WTW       GWW      WYNN       XEL       YUM      ZBRA  \\\n",
       "Date                                                                     \n",
       "2010-01-05 -0.224387  0.041128  5.904149 -1.193047 -0.342566 -0.174548   \n",
       "2010-01-06  1.597067  0.379627 -1.320395  0.191851 -0.717461 -0.771667   \n",
       "2010-01-07 -0.295205  0.937728  2.113119 -0.432174 -0.028805 -2.531778   \n",
       "2010-01-08 -0.110934  1.169962 -0.719055  0.048113  0.028805 -0.325557   \n",
       "2010-01-11  0.993936  0.420251 -0.324534  0.957398  1.713344  0.325557   \n",
       "...              ...       ...       ...       ...       ...       ...   \n",
       "2014-12-24 -0.088298 -0.318574 -0.522166  2.232856  0.151239  0.319673   \n",
       "2014-12-26 -0.044178  0.042790 -0.351843  0.961420  0.479675 -0.294066   \n",
       "2014-12-29 -0.331971  0.686111  1.733903  1.815025  0.572598 -0.064035   \n",
       "2014-12-30  0.420308 -0.530647 -1.183448 -2.363274 -0.381368  0.345331   \n",
       "2014-12-31 -1.087569 -1.014877 -1.626921 -1.272501 -0.588514 -1.168698   \n",
       "\n",
       "                 ZBH       ZION  \n",
       "Date                             \n",
       "2010-01-05  3.116535   3.465148  \n",
       "2010-01-06 -0.032304   8.338160  \n",
       "2010-01-07  2.268103  10.616021  \n",
       "2010-01-08 -2.122811  -1.631952  \n",
       "2010-01-11  2.185967   0.607538  \n",
       "...              ...        ...  \n",
       "2014-12-24  0.562442  -0.035058  \n",
       "2014-12-26  0.052565   0.140151  \n",
       "2014-12-29 -0.588570   0.558660  \n",
       "2014-12-30  0.938314  -0.174244  \n",
       "2014-12-31 -1.008821  -0.559637  \n",
       "\n",
       "[1257 rows x 439 columns]"
      ]
     },
     "execution_count": 2,
     "metadata": {},
     "output_type": "execute_result"
    }
   ],
   "source": [
    "train_test_split=0.5\n",
    "train_data, test_data = load_features(train_test_split)\n",
    "train_data"
   ]
  },
  {
   "cell_type": "code",
   "execution_count": 3,
   "metadata": {},
   "outputs": [],
   "source": [
    "cov=np.cov(train_data.T)\n",
    "mean=np.mean(train_data,axis=0).values\n",
    "\n",
    "biased_cov=reg_cov(train_data)\n",
    "biased_mean=reg_mean(train_data,train_data.shape[0])"
   ]
  },
  {
   "cell_type": "markdown",
   "metadata": {},
   "source": [
    "\n",
    "Solved via QP\n",
    "- Minimum Variance Objective\n",
    "- Mean Variance Objective\n",
    "- Mean Variance Objective with Biased Estimators\n",
    "\n",
    "Solved via Split Bregman\n",
    "- Mean Variance Objective with Elastic Net Penalty\n",
    "- Mean Variance Objective with Biased Estimators and Elastic Net Penalty\n",
    "\n",
    "Solutions to each are for cross-validated optimal parameters for $\\lambda_1$ and $\\lambda_2$\n",
    "\n",
    "Unit Box constraints allowing for shorts (-1,1)"
   ]
  },
  {
   "cell_type": "code",
   "execution_count": 4,
   "metadata": {},
   "outputs": [],
   "source": [
    "lb,ub=0.0,0.33\n",
    "cutoff_threshold=0.01\n",
    "\n",
    "lambda1_grid=np.geomspace(10e-6,1,5)\n",
    "lambda2_grid=np.geomspace(10e-6,1,5)\n",
    "\n",
    "# take all possible combinations of lambda1 and lambda2\n",
    "params=[]\n",
    "for i in itertools.product(lambda1_grid,lambda2_grid):\n",
    "    params.append(i)"
   ]
  },
  {
   "cell_type": "markdown",
   "metadata": {},
   "source": [
    "### Minimum Variance with Unbiased Sample Estimates"
   ]
  },
  {
   "cell_type": "code",
   "execution_count": 5,
   "metadata": {},
   "outputs": [
    {
     "name": "stdout",
     "output_type": "stream",
     "text": [
      "Minimum variance portfolio return: 0.04\n"
     ]
    }
   ],
   "source": [
    "min_var_weights=MinVarPort(cov,max_pos=ub)\n",
    "min_port_return=np.dot(min_var_weights,mean)\n",
    "print(f\"Minimum variance portfolio return: {round(min_port_return,2)}\")"
   ]
  },
  {
   "cell_type": "code",
   "execution_count": 6,
   "metadata": {},
   "outputs": [
    {
     "data": {
      "text/plain": [
       "Text(0, 0.5, 'Weight')"
      ]
     },
     "execution_count": 6,
     "metadata": {},
     "output_type": "execute_result"
    },
    {
     "data": {
      "image/png": "[encoded data removed]",
      "text/plain": [
       "<Figure size 720x360 with 1 Axes>"
      ]
     },
     "metadata": {
      "needs_background": "light"
     },
     "output_type": "display_data"
    }
   ],
   "source": [
    "fig,ax=plt.subplots(figsize=(10,5))\n",
    "ax.set_title(\"Minimum Variance Portfolio Weights\")\n",
    "ax.stem(min_var_weights)\n",
    "ax.set_xlabel(\"Asset\")\n",
    "ax.set_ylabel(\"Weight\")"
   ]
  },
  {
   "cell_type": "markdown",
   "metadata": {},
   "source": [
    "### Mean Variance with Unbiased Sample Estimates\n",
    "\n",
    "First need to determine bounds of potential mean-variance portfolios by computing min_var and max_return portfolios "
   ]
  },
  {
   "cell_type": "code",
   "execution_count": 7,
   "metadata": {},
   "outputs": [
    {
     "name": "stdout",
     "output_type": "stream",
     "text": [
      "Maximum Return Portfolio Expected Return: 0.2\n"
     ]
    }
   ],
   "source": [
    "max_ret_port=MaxRetPort(mean,max_pos=ub)\n",
    "max_port_return = max_ret_port.dot(mean.T)\n",
    "\n",
    "\n",
    "print(f\"Maximum Return Portfolio Expected Return: {round(max_port_return,2)}\")"
   ]
  },
  {
   "cell_type": "code",
   "execution_count": 8,
   "metadata": {},
   "outputs": [
    {
     "data": {
      "text/plain": [
       "Text(0, 0.5, 'Weight')"
      ]
     },
     "execution_count": 8,
     "metadata": {},
     "output_type": "execute_result"
    },
    {
     "data": {
      "image/png": "[encoded data removed]",
      "text/plain": [
       "<Figure size 720x360 with 1 Axes>"
      ]
     },
     "metadata": {
      "needs_background": "light"
     },
     "output_type": "display_data"
    }
   ],
   "source": [
    "fig,ax=plt.subplots(figsize=(10,5))\n",
    "ax.set_title(\"Max-Return Portfolio Weights\")\n",
    "ax.stem(max_ret_port)\n",
    "ax.set_xlabel(\"Asset\")\n",
    "ax.set_ylabel(\"Weight\")"
   ]
  },
  {
   "cell_type": "markdown",
   "metadata": {},
   "source": [
    "### Generate a Sample Efficient Frontier"
   ]
  },
  {
   "cell_type": "code",
   "execution_count": 9,
   "metadata": {},
   "outputs": [
    {
     "name": "stderr",
     "output_type": "stream",
     "text": [
      "/home/jbohn/miniconda3/envs/research/lib/python3.10/site-packages/scipy/optimize/_hessian_update_strategy.py:182: UserWarning: delta_grad == 0.0. Check if the approximated function is linear. If the function is linear better results can be obtained by defining the Hessian as zero instead of using quasi-Newton approximations.\n",
      "  warn('delta_grad == 0.0. Check if the approximated '\n"
     ]
    },
    {
     "name": "stdout",
     "output_type": "stream",
     "text": [
      "For expected portfolio return of  0.04182050507925457\n",
      "Portfolio Risk:  1.0797774709002035\n",
      "Portfolio Return:  0.0607319058343762\n",
      "\n",
      "For expected portfolio return of  0.057818863834950225\n",
      "Portfolio Risk:  0.9800550491005182\n",
      "Portfolio Return:  0.059793861586044814\n",
      "\n",
      "For expected portfolio return of  0.07381722259064588\n",
      "Portfolio Risk:  1.0163504128569798\n",
      "Portfolio Return:  0.0730376844745835\n",
      "\n",
      "For expected portfolio return of  0.08981558134634154\n",
      "Portfolio Risk:  1.133649771638781\n",
      "Portfolio Return:  0.09007323139649859\n",
      "\n",
      "For expected portfolio return of  0.10581394010203721\n",
      "Portfolio Risk:  1.2298517969733\n",
      "Portfolio Return:  0.10602410558395586\n",
      "\n",
      "For expected portfolio return of  0.12181229885773287\n",
      "Portfolio Risk:  1.432955998055036\n",
      "Portfolio Return:  0.12200681617154886\n",
      "\n",
      "For expected portfolio return of  0.13781065761342853\n",
      "Portfolio Risk:  1.4548111747632257\n",
      "Portfolio Return:  0.13794347049402428\n",
      "\n",
      "For expected portfolio return of  0.1538090163691242\n",
      "Portfolio Risk:  1.4362532024446772\n",
      "Portfolio Return:  0.15388482036056594\n",
      "\n",
      "For expected portfolio return of  0.16980737512481986\n",
      "Portfolio Risk:  1.604490224139358\n",
      "Portfolio Return:  0.16942399609216657\n",
      "\n",
      "For expected portfolio return of  0.18580573388051552\n",
      "Portfolio Risk:  1.7599811029342698\n",
      "Portfolio Return:  0.18572342676175396\n",
      "\n"
     ]
    }
   ],
   "source": [
    "bounds = [min_port_return, max_port_return]\n",
    "risk, ret = MeanVarPort(bounds, train_data, num_port=10,verbose=True)\n",
    "\n"
   ]
  },
  {
   "cell_type": "markdown",
   "metadata": {},
   "source": [
    "### Select optimal portfolio by maximization of sharpe ratio"
   ]
  },
  {
   "cell_type": "code",
   "execution_count": 10,
   "metadata": {},
   "outputs": [
    {
     "name": "stdout",
     "output_type": "stream",
     "text": [
      "Optimal Mean: 0.15\n",
      "Optimal Std: 1.44\n"
     ]
    }
   ],
   "source": [
    "optimal_mean, optimal_std = optimize_sharpe(risk, ret)\n",
    "print(f\"Optimal Mean: {round(optimal_mean,2)}\")\n",
    "print(f\"Optimal Std: {round(optimal_std,2)}\")\n"
   ]
  },
  {
   "cell_type": "markdown",
   "metadata": {},
   "source": [
    "### Solve for this portfolio of expected return"
   ]
  },
  {
   "cell_type": "code",
   "execution_count": 11,
   "metadata": {},
   "outputs": [],
   "source": [
    "optimal_mean_var_weights = MinVarPort(cov, mean,fixed_return=optimal_mean,flag= False)"
   ]
  },
  {
   "cell_type": "code",
   "execution_count": 12,
   "metadata": {},
   "outputs": [
    {
     "data": {
      "text/plain": [
       "Text(0, 0.5, 'Weight')"
      ]
     },
     "execution_count": 12,
     "metadata": {},
     "output_type": "execute_result"
    },
    {
     "data": {
      "image/png": "[encoded data removed]",
      "text/plain": [
       "<Figure size 720x360 with 1 Axes>"
      ]
     },
     "metadata": {
      "needs_background": "light"
     },
     "output_type": "display_data"
    }
   ],
   "source": [
    "fig,ax=plt.subplots(figsize=(10,5))\n",
    "ax.set_title(\"Optimal Mean-Variance Portfolio Weights\")\n",
    "ax.stem(optimal_mean_var_weights)\n",
    "ax.set_xlabel(\"Asset\")\n",
    "ax.set_ylabel(\"Weight\")\n"
   ]
  },
  {
   "cell_type": "markdown",
   "metadata": {},
   "source": [
    "### Biased Estimators\n",
    "\n",
    "\n",
    "- $\\mu \\rightarrow{} \\hat{\\mu}$\n",
    "- $\\Sigma\\rightarrow{} \\rho \\hat{\\Sigma}+(1-\\rho)I$"
   ]
  },
  {
   "cell_type": "code",
   "execution_count": 13,
   "metadata": {},
   "outputs": [],
   "source": [
    "bias_mean=reg_mean(train_data,train_data.shape[0])\n",
    "bias_cov=reg_cov(train_data)\n"
   ]
  },
  {
   "cell_type": "markdown",
   "metadata": {},
   "source": [
    "### Compute Min Var and Max Return Portfolio for Bounds "
   ]
  },
  {
   "cell_type": "code",
   "execution_count": 14,
   "metadata": {},
   "outputs": [
    {
     "name": "stdout",
     "output_type": "stream",
     "text": [
      "Minimum variance portfolio return: 0.04\n"
     ]
    }
   ],
   "source": [
    "min_bias_var_weights=MinVarPort(bias_cov)\n",
    "min_bias_port_return=np.dot(min_bias_var_weights,bias_mean)\n",
    "print(f\"Minimum variance portfolio return: {round(min_bias_port_return,2)}\")"
   ]
  },
  {
   "cell_type": "code",
   "execution_count": 15,
   "metadata": {},
   "outputs": [
    {
     "name": "stdout",
     "output_type": "stream",
     "text": [
      "Maximum Return Portfolio Expected Return: 0.2\n"
     ]
    }
   ],
   "source": [
    "max_bias_ret_port=MaxRetPort(bias_mean)\n",
    "max_bias_port_return = max_bias_ret_port.dot(bias_mean.T)\n",
    "print(f\"Maximum Return Portfolio Expected Return: {round(max_bias_port_return,2)}\")"
   ]
  },
  {
   "cell_type": "markdown",
   "metadata": {},
   "source": [
    "### Compute Efficient Frontier off Biased Estimators"
   ]
  },
  {
   "cell_type": "code",
   "execution_count": 16,
   "metadata": {},
   "outputs": [
    {
     "name": "stdout",
     "output_type": "stream",
     "text": [
      "For expected portfolio return of  0.043729447037962416\n",
      "Portfolio Risk:  1.068864192938847\n",
      "Portfolio Return:  0.06085048196433282\n",
      "\n",
      "For expected portfolio return of  0.059525796935417825\n",
      "Portfolio Risk:  0.9931445935565751\n",
      "Portfolio Return:  0.06040048372043597\n",
      "\n",
      "For expected portfolio return of  0.07532214683287324\n",
      "Portfolio Risk:  1.0047490973547135\n",
      "Portfolio Return:  0.07499452037038787\n",
      "\n",
      "For expected portfolio return of  0.09111849673032865\n",
      "Portfolio Risk:  1.1374839757881001\n",
      "Portfolio Return:  0.09135868972129434\n",
      "\n",
      "For expected portfolio return of  0.10691484662778405\n",
      "Portfolio Risk:  1.2274687918867615\n",
      "Portfolio Return:  0.10712056596401459\n",
      "\n",
      "For expected portfolio return of  0.12271119652523946\n",
      "Portfolio Risk:  1.4444360239289058\n",
      "Portfolio Return:  0.12291897261849104\n",
      "\n",
      "For expected portfolio return of  0.13850754642269486\n",
      "Portfolio Risk:  1.4639199221233319\n",
      "Portfolio Return:  0.13864123655479899\n",
      "\n",
      "For expected portfolio return of  0.15430389632015026\n",
      "Portfolio Risk:  1.5328383418983287\n",
      "Portfolio Return:  0.1544045524301737\n",
      "\n",
      "For expected portfolio return of  0.17010024621760567\n",
      "Portfolio Risk:  1.6212292931050858\n",
      "Portfolio Return:  0.17017049980984733\n",
      "\n",
      "For expected portfolio return of  0.18589659611506107\n",
      "Portfolio Risk:  1.770343799916478\n",
      "Portfolio Return:  0.18593178691945086\n",
      "\n",
      "For expected portfolio return of  0.20169294601251647\n",
      "Portfolio Risk:  1.8851958970474687\n",
      "Portfolio Return:  0.20076250253295766\n",
      "\n"
     ]
    }
   ],
   "source": [
    "biased_bounds=[min_bias_port_return,max_bias_port_return]\n",
    "biased_risk,biased_ret=MeanVarPort(biased_bounds,train_data,num_port=10,verbose=True)\n"
   ]
  },
  {
   "cell_type": "markdown",
   "metadata": {},
   "source": [
    "### Select Optimal Portfolio with Biased Estimators"
   ]
  },
  {
   "cell_type": "code",
   "execution_count": 17,
   "metadata": {},
   "outputs": [
    {
     "name": "stdout",
     "output_type": "stream",
     "text": [
      "Optimal Mean: 0.2\n",
      "Optimal Std: 1.89\n"
     ]
    }
   ],
   "source": [
    "biased_optimal_mean,biased_optimal_std=optimize_sharpe(biased_risk,biased_ret)\n",
    "print(f\"Optimal Mean: {round(biased_optimal_mean,2)}\")\n",
    "print(f\"Optimal Std: {round(biased_optimal_std,2)}\")"
   ]
  },
  {
   "cell_type": "markdown",
   "metadata": {},
   "source": [
    "### Solve Optimal Biased Estimators Portfolio"
   ]
  },
  {
   "cell_type": "code",
   "execution_count": 18,
   "metadata": {},
   "outputs": [],
   "source": [
    "optimal_bias_portfolio=MinVarPort(bias_cov,bias_mean,fixed_return=biased_optimal_mean,flag=False)\n"
   ]
  },
  {
   "cell_type": "code",
   "execution_count": 19,
   "metadata": {},
   "outputs": [
    {
     "data": {
      "text/plain": [
       "Text(0, 0.5, 'Weight')"
      ]
     },
     "execution_count": 19,
     "metadata": {},
     "output_type": "execute_result"
    },
    {
     "data": {
      "image/png": "[encoded data removed]",
      "text/plain": [
       "<Figure size 720x360 with 1 Axes>"
      ]
     },
     "metadata": {
      "needs_background": "light"
     },
     "output_type": "display_data"
    }
   ],
   "source": [
    "fig,ax=plt.subplots(figsize=(10,5))\n",
    "ax.set_title(\"Mean-Variance Portfolio Weights with Biased Covariance and Mean\")\n",
    "ax.stem(optimal_bias_portfolio)\n",
    "ax.set_xlabel(\"Asset\")\n",
    "ax.set_ylabel(\"Weight\")"
   ]
  },
  {
   "cell_type": "markdown",
   "metadata": {},
   "source": [
    "### Elastic Net Penalty Unbiased Sample Estimates "
   ]
  },
  {
   "cell_type": "code",
   "execution_count": 20,
   "metadata": {},
   "outputs": [
    {
     "name": "stdout",
     "output_type": "stream",
     "text": [
      " lambda1: 1e-05 lambda2: 1e-05 error: 0.08324994\n",
      " lambda1: 1e-05 lambda2: 0.00017783 error: 0.08329866\n",
      " lambda1: 1e-05 lambda2: 0.00316228 error: 0.08538705\n",
      "QP Optimization fails, Trying again\n",
      " Closed Form Optimization Failed for lambda1: 1e-05 and lambda2: 0.05623413251903491\n",
      "QP Optimization fails, Trying again\n",
      " Closed Form Optimization Failed for lambda1: 1e-05 and lambda2: 1.0\n",
      " lambda1: 0.00017783 lambda2: 1e-05 error: 0.08391582\n",
      " lambda1: 0.00017783 lambda2: 0.00017783 error: 0.08396529\n",
      " lambda1: 0.00017783 lambda2: 0.00316228 error: 0.08609002\n",
      "QP Optimization fails, Trying again\n",
      " Closed Form Optimization Failed for lambda1: 0.00017782794100389227 and lambda2: 0.05623413251903491\n",
      "QP Optimization fails, Trying again\n",
      " Closed Form Optimization Failed for lambda1: 0.00017782794100389227 and lambda2: 1.0\n",
      " lambda1: 0.00316228 lambda2: 1e-05 error: 0.09575689\n",
      " lambda1: 0.00316228 lambda2: 0.00017783 error: 0.09581988\n",
      " lambda1: 0.00316228 lambda2: 0.00316228 error: 0.09859083\n",
      "QP Optimization fails, Trying again\n",
      " Closed Form Optimization Failed for lambda1: 0.0031622776601683794 and lambda2: 0.05623413251903491\n",
      "QP Optimization fails, Trying again\n",
      " Closed Form Optimization Failed for lambda1: 0.0031622776601683794 and lambda2: 1.0\n",
      " lambda1: 0.05623413 lambda2: 1e-05 error: 0.30632419\n",
      " lambda1: 0.05623413 lambda2: 0.00017783 error: 0.30662768\n",
      " lambda1: 0.05623413 lambda2: 0.00316228 error: 0.32089022\n",
      "QP Optimization fails, Trying again\n",
      " Closed Form Optimization Failed for lambda1: 0.05623413251903491 and lambda2: 0.05623413251903491\n",
      "QP Optimization fails, Trying again\n",
      " Closed Form Optimization Failed for lambda1: 0.05623413251903491 and lambda2: 1.0\n",
      " lambda1: 1.0 lambda2: 1e-05 error: 4.05055541\n",
      " lambda1: 1.0 lambda2: 0.00017783 error: 4.05089661\n",
      " lambda1: 1.0 lambda2: 0.00316228 error: 4.05744507\n",
      " lambda1: 1.0 lambda2: 0.05623413 error: 4.28804208\n",
      "QP Optimization fails, Trying again\n",
      " Closed Form Optimization Failed for lambda1: 1.0 and lambda2: 1.0\n"
     ]
    }
   ],
   "source": [
    "sorted_dict=grid_search(params,mean,cov,optimal_mean)\n"
   ]
  },
  {
   "cell_type": "code",
   "execution_count": 21,
   "metadata": {},
   "outputs": [
    {
     "name": "stdout",
     "output_type": "stream",
     "text": [
      " Optimal lambda1: 1e-05 Optimal lambda2: 0.00017782794100389227 with error: 0.08324994465352835 and Expected return: 0.1538090163691242\n",
      "Total Cost: 0.3177270381716173\n",
      "Total Cost: 0.3177270345299669\n",
      "Total Cost: 0.31772703124167334\n",
      "Total Cost: 0.3177270283042027\n",
      "Total Cost: 0.3177270257152225\n",
      "Total Cost: 0.31772702347259146\n",
      "Total Cost: 0.31772702157434435\n",
      "Total Cost: 0.3177270200186827\n",
      "Total Cost: 0.3177270188039613\n",
      "Total Cost: 0.3177270179286808\n",
      "Total Cost: 0.3177270173914745\n",
      "Total Cost: 0.31772701719110225\n",
      "Total Cost: 0.31772701732643865\n",
      "Total Cost: 0.31772701779646767\n",
      "Total Cost: 0.3177270186002721\n",
      "Total Cost: 0.31772701973702877\n",
      "Total Cost: 0.31772702120599977\n",
      "Total Cost: 0.31772702300652805\n",
      "Total Cost: 0.31772702513803003\n",
      "Total Cost: 0.3177270275999903\n",
      "Total Cost: 0.3177270303919561\n",
      "Total Cost: 0.3177270335135342\n",
      "Total Cost: 0.31772703696438426\n",
      "Total Cost: 0.31772704074421687\n",
      "Total Cost: 0.31772704485278697\n",
      "Total Cost: 0.31772704928989276\n",
      "MaxIter Achieved\n"
     ]
    }
   ],
   "source": [
    "optimal_lambda1,optimal_lambda2=sorted_dict[0][0][0],sorted_dict[1][0][1]\n",
    "\n",
    "print(f\" Optimal lambda1: {optimal_lambda1} Optimal lambda2: {optimal_lambda2} with error: {sorted_dict[0][1][1]} and Expected return: {optimal_mean}\")\n",
    "w_sb_unbias,w_sb_unbias_err,status_sb_unbias=split_bregman(cov=cov,mean=mean,lambda1=optimal_lambda1,lambda2=optimal_lambda2,fixed_return=optimal_mean,lb=lb,ub=ub,tol=1e-8,maxiter=25,approach=\"closed-form\",verbose=True)"
   ]
  },
  {
   "cell_type": "code",
   "execution_count": 22,
   "metadata": {},
   "outputs": [
    {
     "data": {
      "text/plain": [
       "Text(0, 0.5, 'Weight')"
      ]
     },
     "execution_count": 22,
     "metadata": {},
     "output_type": "execute_result"
    },
    {
     "data": {
      "image/png": "[encoded data removed]",
      "text/plain": [
       "<Figure size 720x360 with 1 Axes>"
      ]
     },
     "metadata": {
      "needs_background": "light"
     },
     "output_type": "display_data"
    }
   ],
   "source": [
    "fig,ax=plt.subplots(figsize=(10,5))\n",
    "ax.set_title(\"Split Bregman Unbiased Portfolio Weights\")\n",
    "ax.stem(w_sb_unbias)\n",
    "\n",
    "ax.set_xlabel(\"Asset\")\n",
    "ax.set_ylabel(\"Weight\")"
   ]
  },
  {
   "cell_type": "markdown",
   "metadata": {},
   "source": [
    "### Elastic Net Penalty with Biased Estimates"
   ]
  },
  {
   "cell_type": "code",
   "execution_count": 23,
   "metadata": {},
   "outputs": [
    {
     "name": "stdout",
     "output_type": "stream",
     "text": [
      " lambda1: 1e-05 lambda2: 1e-05 error: 0.07041739\n",
      " lambda1: 1e-05 lambda2: 0.00017783 error: 0.07042041\n",
      " lambda1: 1e-05 lambda2: 0.00316228 error: 0.07047417\n",
      " lambda1: 1e-05 lambda2: 0.05623413 error: 0.07148754\n",
      "QP Optimization fails, Trying again\n",
      " Closed Form Optimization Failed for lambda1: 1e-05 and lambda2: 1.0\n",
      " lambda1: 0.00017783 lambda2: 1e-05 error: 0.07061153\n",
      " lambda1: 0.00017783 lambda2: 0.00017783 error: 0.07061454\n",
      " lambda1: 0.00017783 lambda2: 0.00316228 error: 0.0706683\n",
      " lambda1: 0.00017783 lambda2: 0.05623413 error: 0.07168162\n",
      "QP Optimization fails, Trying again\n",
      " Closed Form Optimization Failed for lambda1: 0.00017782794100389227 and lambda2: 1.0\n",
      " lambda1: 0.00316228 lambda2: 1e-05 error: 0.07406377\n",
      " lambda1: 0.00316228 lambda2: 0.00017783 error: 0.07406678\n",
      " lambda1: 0.00316228 lambda2: 0.00316228 error: 0.0741205\n",
      " lambda1: 0.00316228 lambda2: 0.05623413 error: 0.07513295\n",
      "QP Optimization fails, Trying again\n",
      " Closed Form Optimization Failed for lambda1: 0.0031622776601683794 and lambda2: 1.0\n",
      " lambda1: 0.05623413 lambda2: 1e-05 error: 0.13545432\n",
      " lambda1: 0.05623413 lambda2: 0.00017783 error: 0.13545729\n",
      " lambda1: 0.05623413 lambda2: 0.00316228 error: 0.13551025\n",
      " lambda1: 0.05623413 lambda2: 0.05623413 error: 0.13650715\n",
      "QP Optimization fails, Trying again\n",
      " Closed Form Optimization Failed for lambda1: 0.05623413251903491 and lambda2: 1.0\n",
      " lambda1: 1.0 lambda2: 1e-05 error: 1.22714988\n",
      " lambda1: 1.0 lambda2: 0.00017783 error: 1.22715211\n",
      " lambda1: 1.0 lambda2: 0.00316228 error: 1.2271918\n",
      " lambda1: 1.0 lambda2: 0.05623413 error: 1.2279384\n",
      "QP Optimization fails, Trying again\n",
      " Closed Form Optimization Failed for lambda1: 1.0 and lambda2: 1.0\n"
     ]
    }
   ],
   "source": [
    "bias_sorted_dict=grid_search(params,biased_mean,biased_cov,biased_optimal_mean,tol=10e-6,maxiter=25)\n"
   ]
  },
  {
   "cell_type": "code",
   "execution_count": 24,
   "metadata": {},
   "outputs": [
    {
     "name": "stdout",
     "output_type": "stream",
     "text": [
      " Optimal lambda1: 1e-05 Optimal lambda2: 0.00017782794100389227 with error: 0.07041739397965105 and Expected return: 0.20169294601251647\n",
      "Total Cost: 0.11326550537121922\n",
      "Total Cost: 0.11326552531175428\n",
      "Total Cost: 0.11326554525451732\n",
      "Total Cost: 0.11326556519950871\n",
      "Total Cost: 0.11326558514672885\n",
      "Total Cost: 0.113265605096178\n",
      "Total Cost: 0.1132656250478568\n",
      "Total Cost: 0.11326564500176524\n",
      "Total Cost: 0.11326566495790397\n",
      "Total Cost: 0.11326568491627328\n",
      "Total Cost: 0.11326570487687365\n",
      "Total Cost: 0.11326572483970547\n",
      "Total Cost: 0.1132657448047687\n",
      "Total Cost: 0.11326576477206433\n",
      "Total Cost: 0.11326578474159227\n",
      "Total Cost: 0.11326580471335318\n",
      "Total Cost: 0.11326582468734707\n",
      "Total Cost: 0.11326584466357482\n",
      "Total Cost: 0.1132658646420365\n",
      "Total Cost: 0.1132658846227325\n",
      "Total Cost: 0.11326590460566317\n",
      "Total Cost: 0.11326592459082893\n",
      "Total Cost: 0.11326594457823022\n",
      "Total Cost: 0.11326596456786735\n",
      "Total Cost: 0.11326598455974062\n",
      "Total Cost: 0.11326600455385069\n",
      "MaxIter Achieved\n"
     ]
    }
   ],
   "source": [
    "optimal_bias_lambda1,optimal_bias_lambda2=bias_sorted_dict[0][0][0],bias_sorted_dict[1][0][1]\n",
    "\n",
    "print(f\" Optimal lambda1: {optimal_bias_lambda1} Optimal lambda2: {optimal_bias_lambda2} with error: {bias_sorted_dict[0][1][1]} and Expected return: {biased_optimal_mean}\")\n",
    "w_sb_bias,w_sb_bias_err,status_sb_bias=split_bregman(cov=biased_cov,mean=biased_mean,lambda1=optimal_bias_lambda1,lambda2=optimal_bias_lambda2,fixed_return=biased_optimal_mean,lb=lb,ub=ub,tol=1e-8,maxiter=25,approach=\"closed-form\",verbose=True)"
   ]
  },
  {
   "cell_type": "code",
   "execution_count": 25,
   "metadata": {},
   "outputs": [
    {
     "data": {
      "text/plain": [
       "Text(0, 0.5, 'Weight')"
      ]
     },
     "execution_count": 25,
     "metadata": {},
     "output_type": "execute_result"
    },
    {
     "data": {
      "image/png": "[encoded data removed]",
      "text/plain": [
       "<Figure size 720x360 with 1 Axes>"
      ]
     },
     "metadata": {
      "needs_background": "light"
     },
     "output_type": "display_data"
    }
   ],
   "source": [
    "fig,ax=plt.subplots(figsize=(10,5))\n",
    "ax.set_title(\"Split Bregman Biased Portfolio Weights\")\n",
    "ax.stem(w_sb_bias)\n",
    "ax.set_xlabel(\"Asset\")\n",
    "ax.set_ylabel(\"Weight\")\n"
   ]
  },
  {
   "cell_type": "markdown",
   "metadata": {},
   "source": [
    "### Out of Sample Performance "
   ]
  },
  {
   "cell_type": "code",
   "execution_count": 26,
   "metadata": {},
   "outputs": [
    {
     "data": {
      "text/html": [
       "<div>\n",
       "<style scoped>\n",
       "    .dataframe tbody tr th:only-of-type {\n",
       "        vertical-align: middle;\n",
       "    }\n",
       "\n",
       "    .dataframe tbody tr th {\n",
       "        vertical-align: top;\n",
       "    }\n",
       "\n",
       "    .dataframe thead th {\n",
       "        text-align: right;\n",
       "    }\n",
       "</style>\n",
       "<table border=\"1\" class=\"dataframe\">\n",
       "  <thead>\n",
       "    <tr style=\"text-align: right;\">\n",
       "      <th>Date</th>\n",
       "      <th>2015-01-02</th>\n",
       "      <th>2015-01-05</th>\n",
       "      <th>2015-01-06</th>\n",
       "      <th>2015-01-07</th>\n",
       "      <th>2015-01-08</th>\n",
       "      <th>2015-01-09</th>\n",
       "      <th>2015-01-12</th>\n",
       "      <th>2015-01-13</th>\n",
       "      <th>2015-01-14</th>\n",
       "      <th>2015-01-15</th>\n",
       "      <th>...</th>\n",
       "      <th>2019-12-17</th>\n",
       "      <th>2019-12-18</th>\n",
       "      <th>2019-12-19</th>\n",
       "      <th>2019-12-20</th>\n",
       "      <th>2019-12-23</th>\n",
       "      <th>2019-12-24</th>\n",
       "      <th>2019-12-26</th>\n",
       "      <th>2019-12-27</th>\n",
       "      <th>2019-12-30</th>\n",
       "      <th>2019-12-31</th>\n",
       "    </tr>\n",
       "  </thead>\n",
       "  <tbody>\n",
       "    <tr>\n",
       "      <th>MMM</th>\n",
       "      <td>-0.001584</td>\n",
       "      <td>-0.022811</td>\n",
       "      <td>-0.010721</td>\n",
       "      <td>0.007223</td>\n",
       "      <td>0.023685</td>\n",
       "      <td>-0.012360</td>\n",
       "      <td>-0.005460</td>\n",
       "      <td>-0.000747</td>\n",
       "      <td>-0.004868</td>\n",
       "      <td>-0.001127</td>\n",
       "      <td>...</td>\n",
       "      <td>-0.004814</td>\n",
       "      <td>-0.005310</td>\n",
       "      <td>0.018290</td>\n",
       "      <td>0.018532</td>\n",
       "      <td>0.017523</td>\n",
       "      <td>-0.010080</td>\n",
       "      <td>-0.000510</td>\n",
       "      <td>0.003787</td>\n",
       "      <td>-0.008100</td>\n",
       "      <td>0.003350</td>\n",
       "    </tr>\n",
       "    <tr>\n",
       "      <th>AOS</th>\n",
       "      <td>-0.007116</td>\n",
       "      <td>-0.017652</td>\n",
       "      <td>-0.008211</td>\n",
       "      <td>0.007302</td>\n",
       "      <td>0.025677</td>\n",
       "      <td>-0.016083</td>\n",
       "      <td>0.003955</td>\n",
       "      <td>-0.004316</td>\n",
       "      <td>-0.002526</td>\n",
       "      <td>-0.020442</td>\n",
       "      <td>...</td>\n",
       "      <td>0.013334</td>\n",
       "      <td>0.006813</td>\n",
       "      <td>0.004657</td>\n",
       "      <td>0.001477</td>\n",
       "      <td>-0.005922</td>\n",
       "      <td>0.007608</td>\n",
       "      <td>0.005040</td>\n",
       "      <td>0.001465</td>\n",
       "      <td>-0.005033</td>\n",
       "      <td>0.001470</td>\n",
       "    </tr>\n",
       "    <tr>\n",
       "      <th>ABT</th>\n",
       "      <td>-0.002669</td>\n",
       "      <td>0.000223</td>\n",
       "      <td>-0.011421</td>\n",
       "      <td>0.008075</td>\n",
       "      <td>0.020346</td>\n",
       "      <td>-0.010563</td>\n",
       "      <td>0.008372</td>\n",
       "      <td>-0.021511</td>\n",
       "      <td>-0.007425</td>\n",
       "      <td>-0.007480</td>\n",
       "      <td>...</td>\n",
       "      <td>0.007610</td>\n",
       "      <td>-0.001494</td>\n",
       "      <td>0.004820</td>\n",
       "      <td>-0.007931</td>\n",
       "      <td>0.007931</td>\n",
       "      <td>-0.000802</td>\n",
       "      <td>0.000000</td>\n",
       "      <td>0.001374</td>\n",
       "      <td>-0.006889</td>\n",
       "      <td>0.000691</td>\n",
       "    </tr>\n",
       "    <tr>\n",
       "      <th>ABMD</th>\n",
       "      <td>-0.019902</td>\n",
       "      <td>-0.006453</td>\n",
       "      <td>-0.025684</td>\n",
       "      <td>0.031333</td>\n",
       "      <td>0.044078</td>\n",
       "      <td>-0.014218</td>\n",
       "      <td>0.003898</td>\n",
       "      <td>0.006462</td>\n",
       "      <td>-0.014534</td>\n",
       "      <td>-0.030257</td>\n",
       "      <td>...</td>\n",
       "      <td>0.014751</td>\n",
       "      <td>-0.010788</td>\n",
       "      <td>-0.043766</td>\n",
       "      <td>-0.039365</td>\n",
       "      <td>0.045308</td>\n",
       "      <td>0.010854</td>\n",
       "      <td>-0.007515</td>\n",
       "      <td>-0.010227</td>\n",
       "      <td>-0.011766</td>\n",
       "      <td>0.019534</td>\n",
       "    </tr>\n",
       "    <tr>\n",
       "      <th>ACN</th>\n",
       "      <td>-0.005276</td>\n",
       "      <td>-0.017028</td>\n",
       "      <td>-0.007239</td>\n",
       "      <td>0.020772</td>\n",
       "      <td>0.015134</td>\n",
       "      <td>-0.001113</td>\n",
       "      <td>-0.003012</td>\n",
       "      <td>0.003569</td>\n",
       "      <td>-0.011758</td>\n",
       "      <td>-0.006895</td>\n",
       "      <td>...</td>\n",
       "      <td>-0.007836</td>\n",
       "      <td>0.011536</td>\n",
       "      <td>0.012269</td>\n",
       "      <td>0.013353</td>\n",
       "      <td>-0.001280</td>\n",
       "      <td>0.003693</td>\n",
       "      <td>0.002077</td>\n",
       "      <td>0.000801</td>\n",
       "      <td>-0.007473</td>\n",
       "      <td>-0.000332</td>\n",
       "    </tr>\n",
       "    <tr>\n",
       "      <th>...</th>\n",
       "      <td>...</td>\n",
       "      <td>...</td>\n",
       "      <td>...</td>\n",
       "      <td>...</td>\n",
       "      <td>...</td>\n",
       "      <td>...</td>\n",
       "      <td>...</td>\n",
       "      <td>...</td>\n",
       "      <td>...</td>\n",
       "      <td>...</td>\n",
       "      <td>...</td>\n",
       "      <td>...</td>\n",
       "      <td>...</td>\n",
       "      <td>...</td>\n",
       "      <td>...</td>\n",
       "      <td>...</td>\n",
       "      <td>...</td>\n",
       "      <td>...</td>\n",
       "      <td>...</td>\n",
       "      <td>...</td>\n",
       "      <td>...</td>\n",
       "    </tr>\n",
       "    <tr>\n",
       "      <th>XEL</th>\n",
       "      <td>0.005553</td>\n",
       "      <td>-0.011416</td>\n",
       "      <td>0.005307</td>\n",
       "      <td>0.008598</td>\n",
       "      <td>0.011532</td>\n",
       "      <td>-0.012361</td>\n",
       "      <td>-0.008884</td>\n",
       "      <td>0.008055</td>\n",
       "      <td>0.008813</td>\n",
       "      <td>0.008736</td>\n",
       "      <td>...</td>\n",
       "      <td>0.006799</td>\n",
       "      <td>0.005187</td>\n",
       "      <td>0.000940</td>\n",
       "      <td>0.004688</td>\n",
       "      <td>-0.017772</td>\n",
       "      <td>-0.002542</td>\n",
       "      <td>-0.001114</td>\n",
       "      <td>0.005242</td>\n",
       "      <td>0.002690</td>\n",
       "      <td>0.003155</td>\n",
       "    </tr>\n",
       "    <tr>\n",
       "      <th>YUM</th>\n",
       "      <td>-0.006887</td>\n",
       "      <td>-0.020527</td>\n",
       "      <td>-0.012350</td>\n",
       "      <td>0.032601</td>\n",
       "      <td>0.017270</td>\n",
       "      <td>-0.001768</td>\n",
       "      <td>-0.007515</td>\n",
       "      <td>-0.004123</td>\n",
       "      <td>-0.004140</td>\n",
       "      <td>-0.011965</td>\n",
       "      <td>...</td>\n",
       "      <td>-0.012668</td>\n",
       "      <td>-0.008873</td>\n",
       "      <td>0.010878</td>\n",
       "      <td>0.007684</td>\n",
       "      <td>-0.007784</td>\n",
       "      <td>0.005196</td>\n",
       "      <td>0.014447</td>\n",
       "      <td>0.001080</td>\n",
       "      <td>-0.012442</td>\n",
       "      <td>0.000894</td>\n",
       "    </tr>\n",
       "    <tr>\n",
       "      <th>ZBRA</th>\n",
       "      <td>0.000258</td>\n",
       "      <td>-0.014177</td>\n",
       "      <td>-0.007231</td>\n",
       "      <td>0.025146</td>\n",
       "      <td>0.021134</td>\n",
       "      <td>0.014508</td>\n",
       "      <td>0.001489</td>\n",
       "      <td>0.023040</td>\n",
       "      <td>-0.015998</td>\n",
       "      <td>0.000615</td>\n",
       "      <td>...</td>\n",
       "      <td>-0.007900</td>\n",
       "      <td>0.007821</td>\n",
       "      <td>-0.009045</td>\n",
       "      <td>-0.002532</td>\n",
       "      <td>0.016653</td>\n",
       "      <td>-0.009392</td>\n",
       "      <td>0.000354</td>\n",
       "      <td>0.006191</td>\n",
       "      <td>-0.007410</td>\n",
       "      <td>0.005220</td>\n",
       "    </tr>\n",
       "    <tr>\n",
       "      <th>ZBH</th>\n",
       "      <td>-0.007345</td>\n",
       "      <td>0.036625</td>\n",
       "      <td>-0.008513</td>\n",
       "      <td>0.024566</td>\n",
       "      <td>0.010561</td>\n",
       "      <td>-0.014529</td>\n",
       "      <td>0.002366</td>\n",
       "      <td>0.002192</td>\n",
       "      <td>-0.013309</td>\n",
       "      <td>-0.018953</td>\n",
       "      <td>...</td>\n",
       "      <td>-0.000934</td>\n",
       "      <td>-0.006561</td>\n",
       "      <td>-0.000537</td>\n",
       "      <td>0.010163</td>\n",
       "      <td>0.006102</td>\n",
       "      <td>-0.002449</td>\n",
       "      <td>-0.003785</td>\n",
       "      <td>-0.001931</td>\n",
       "      <td>-0.008435</td>\n",
       "      <td>0.006233</td>\n",
       "    </tr>\n",
       "    <tr>\n",
       "      <th>ZION</th>\n",
       "      <td>-0.007746</td>\n",
       "      <td>-0.038189</td>\n",
       "      <td>-0.038942</td>\n",
       "      <td>0.009500</td>\n",
       "      <td>0.013897</td>\n",
       "      <td>-0.028373</td>\n",
       "      <td>-0.015468</td>\n",
       "      <td>-0.017296</td>\n",
       "      <td>-0.017197</td>\n",
       "      <td>-0.012176</td>\n",
       "      <td>...</td>\n",
       "      <td>0.006232</td>\n",
       "      <td>-0.003111</td>\n",
       "      <td>0.002723</td>\n",
       "      <td>0.002715</td>\n",
       "      <td>-0.005633</td>\n",
       "      <td>0.003694</td>\n",
       "      <td>0.002520</td>\n",
       "      <td>-0.003102</td>\n",
       "      <td>0.005229</td>\n",
       "      <td>0.002893</td>\n",
       "    </tr>\n",
       "  </tbody>\n",
       "</table>\n",
       "<p>439 rows × 1258 columns</p>\n",
       "</div>"
      ],
      "text/plain": [
       "Date  2015-01-02  2015-01-05  2015-01-06  2015-01-07  2015-01-08  2015-01-09  \\\n",
       "MMM    -0.001584   -0.022811   -0.010721    0.007223    0.023685   -0.012360   \n",
       "AOS    -0.007116   -0.017652   -0.008211    0.007302    0.025677   -0.016083   \n",
       "ABT    -0.002669    0.000223   -0.011421    0.008075    0.020346   -0.010563   \n",
       "ABMD   -0.019902   -0.006453   -0.025684    0.031333    0.044078   -0.014218   \n",
       "ACN    -0.005276   -0.017028   -0.007239    0.020772    0.015134   -0.001113   \n",
       "...          ...         ...         ...         ...         ...         ...   \n",
       "XEL     0.005553   -0.011416    0.005307    0.008598    0.011532   -0.012361   \n",
       "YUM    -0.006887   -0.020527   -0.012350    0.032601    0.017270   -0.001768   \n",
       "ZBRA    0.000258   -0.014177   -0.007231    0.025146    0.021134    0.014508   \n",
       "ZBH    -0.007345    0.036625   -0.008513    0.024566    0.010561   -0.014529   \n",
       "ZION   -0.007746   -0.038189   -0.038942    0.009500    0.013897   -0.028373   \n",
       "\n",
       "Date  2015-01-12  2015-01-13  2015-01-14  2015-01-15  ...  2019-12-17  \\\n",
       "MMM    -0.005460   -0.000747   -0.004868   -0.001127  ...   -0.004814   \n",
       "AOS     0.003955   -0.004316   -0.002526   -0.020442  ...    0.013334   \n",
       "ABT     0.008372   -0.021511   -0.007425   -0.007480  ...    0.007610   \n",
       "ABMD    0.003898    0.006462   -0.014534   -0.030257  ...    0.014751   \n",
       "ACN    -0.003012    0.003569   -0.011758   -0.006895  ...   -0.007836   \n",
       "...          ...         ...         ...         ...  ...         ...   \n",
       "XEL    -0.008884    0.008055    0.008813    0.008736  ...    0.006799   \n",
       "YUM    -0.007515   -0.004123   -0.004140   -0.011965  ...   -0.012668   \n",
       "ZBRA    0.001489    0.023040   -0.015998    0.000615  ...   -0.007900   \n",
       "ZBH     0.002366    0.002192   -0.013309   -0.018953  ...   -0.000934   \n",
       "ZION   -0.015468   -0.017296   -0.017197   -0.012176  ...    0.006232   \n",
       "\n",
       "Date  2019-12-18  2019-12-19  2019-12-20  2019-12-23  2019-12-24  2019-12-26  \\\n",
       "MMM    -0.005310    0.018290    0.018532    0.017523   -0.010080   -0.000510   \n",
       "AOS     0.006813    0.004657    0.001477   -0.005922    0.007608    0.005040   \n",
       "ABT    -0.001494    0.004820   -0.007931    0.007931   -0.000802    0.000000   \n",
       "ABMD   -0.010788   -0.043766   -0.039365    0.045308    0.010854   -0.007515   \n",
       "ACN     0.011536    0.012269    0.013353   -0.001280    0.003693    0.002077   \n",
       "...          ...         ...         ...         ...         ...         ...   \n",
       "XEL     0.005187    0.000940    0.004688   -0.017772   -0.002542   -0.001114   \n",
       "YUM    -0.008873    0.010878    0.007684   -0.007784    0.005196    0.014447   \n",
       "ZBRA    0.007821   -0.009045   -0.002532    0.016653   -0.009392    0.000354   \n",
       "ZBH    -0.006561   -0.000537    0.010163    0.006102   -0.002449   -0.003785   \n",
       "ZION   -0.003111    0.002723    0.002715   -0.005633    0.003694    0.002520   \n",
       "\n",
       "Date  2019-12-27  2019-12-30  2019-12-31  \n",
       "MMM     0.003787   -0.008100    0.003350  \n",
       "AOS     0.001465   -0.005033    0.001470  \n",
       "ABT     0.001374   -0.006889    0.000691  \n",
       "ABMD   -0.010227   -0.011766    0.019534  \n",
       "ACN     0.000801   -0.007473   -0.000332  \n",
       "...          ...         ...         ...  \n",
       "XEL     0.005242    0.002690    0.003155  \n",
       "YUM     0.001080   -0.012442    0.000894  \n",
       "ZBRA    0.006191   -0.007410    0.005220  \n",
       "ZBH    -0.001931   -0.008435    0.006233  \n",
       "ZION   -0.003102    0.005229    0.002893  \n",
       "\n",
       "[439 rows x 1258 columns]"
      ]
     },
     "execution_count": 26,
     "metadata": {},
     "output_type": "execute_result"
    }
   ],
   "source": [
    "test_data.T/100"
   ]
  },
  {
   "cell_type": "code",
   "execution_count": 27,
   "metadata": {},
   "outputs": [
    {
     "data": {
      "text/plain": [
       "Text(0, 0.5, 'Cumulative Returns')"
      ]
     },
     "execution_count": 27,
     "metadata": {},
     "output_type": "execute_result"
    },
    {
     "data": {
      "image/png": "[encoded data removed]",
      "text/plain": [
       "<Figure size 720x576 with 1 Axes>"
      ]
     },
     "metadata": {
      "needs_background": "light"
     },
     "output_type": "display_data"
    }
   ],
   "source": [
    "cum_returns_1=np.cumprod(1+np.dot(min_var_weights,test_data.T/100))\n",
    "cum_returns_2=np.cumprod(1+np.dot(optimal_mean_var_weights,test_data.T/100))\n",
    "cum_returns_3=np.cumprod(1+np.dot(optimal_bias_portfolio,test_data.T/100))\n",
    "cum_returns_4=np.cumprod(1+np.dot(w_sb_unbias,test_data.T/100))\n",
    "cum_returns_5=np.cumprod(1+np.dot(w_sb_bias,test_data.T/100))\n",
    "\n",
    "cum_returns_equal=np.cumprod(1+np.dot(np.ones(len(mean))/len(mean),test_data.T/100))\n",
    "\n",
    "\n",
    "fig,ax=plt.subplots(figsize=(10,8))\n",
    "plt.title(\"Out of Sample Performance\")\n",
    "plt.plot(pd.to_datetime(test_data.index),cum_returns_1,label='Minimum Variance',color='red')\n",
    "plt.plot(pd.to_datetime(test_data.index),cum_returns_2,label='Mean Variance',color='blue')\n",
    "plt.plot(pd.to_datetime(test_data.index),cum_returns_3,label='Mean Variance Biased',color='green')\n",
    "plt.plot(pd.to_datetime(test_data.index),cum_returns_4,label='Split Bregman Unbiased',color='orange')\n",
    "plt.plot(pd.to_datetime(test_data.index),cum_returns_5,label='Split Bregman Biased',color='purple')\n",
    "plt.plot(pd.to_datetime(test_data.index),cum_returns_equal,label='Equal Weighted',color='black')\n",
    "plt.legend()\n",
    "plt.xlabel(\"Date\")\n",
    "plt.ylabel(\"Cumulative Returns\")\n"
   ]
  },
  {
   "cell_type": "code",
   "execution_count": 28,
   "metadata": {},
   "outputs": [],
   "source": [
    "def get_sharpe(port_returns,rf=0.025):\n",
    "    de_meaned_returns=port_returns-1\n",
    "    \n",
    "    sd=np.std(de_meaned_returns-rf)\n",
    "    mu=np.mean(de_meaned_returns)\n",
    "    \n",
    "    sharpe=(mu-rf)/sd\n",
    "    \n",
    "    return sharpe"
   ]
  },
  {
   "cell_type": "code",
   "execution_count": 29,
   "metadata": {},
   "outputs": [
    {
     "name": "stdout",
     "output_type": "stream",
     "text": [
      "Minimum Variance Sharpe: 0.8450090635975535\n",
      "Mean Variance Sharpe: 1.4963026745153374\n",
      "Mean Variance Biased Sharpe: 0.5748677304473063\n",
      "Split Bregman Unbiased Sharpe: 0.8408243835934821\n",
      "Split Bregman Biased Sharpe: 1.0718702402039624\n",
      "Equal Weighted Sharpe: 1.0312661458734798\n"
     ]
    }
   ],
   "source": [
    "sharpe_1=get_sharpe(cum_returns_1)\n",
    "sharpe_2=get_sharpe(cum_returns_2)\n",
    "sharpe_3=get_sharpe(cum_returns_3)\n",
    "sharpe_4=get_sharpe(cum_returns_4)\n",
    "sharpe_5=get_sharpe(cum_returns_5)\n",
    "sharpe_equal=get_sharpe(cum_returns_equal)\n",
    "\n",
    "print(f\"Minimum Variance Sharpe: {sharpe_1}\")\n",
    "print(f\"Mean Variance Sharpe: {sharpe_2}\")\n",
    "print(f\"Mean Variance Biased Sharpe: {sharpe_3}\")\n",
    "\n",
    "print(f\"Split Bregman Unbiased Sharpe: {sharpe_4}\")\n",
    "print(f\"Split Bregman Biased Sharpe: {sharpe_5}\")\n",
    "print(f\"Equal Weighted Sharpe: {sharpe_equal}\")\n"
   ]
  },
  {
   "cell_type": "code",
   "execution_count": null,
   "metadata": {},
   "outputs": [],
   "source": []
  }
 ],
 "metadata": {
  "kernelspec": {
   "display_name": "Python 3.10.4 ('research')",
   "language": "python",
   "name": "python3"
  },
  "language_info": {
   "codemirror_mode": {
    "name": "ipython",
    "version": 3
   },
   "file_extension": ".py",
   "mimetype": "text/x-python",
   "name": "python",
   "nbconvert_exporter": "python",
   "pygments_lexer": "ipython3",
   "version": "3.10.4"
  },
  "orig_nbformat": 4,
  "vscode": {
   "interpreter": {
    "hash": "8fefc22b81b58a95d090389e6427ac7414ba2434182c3be0d4e0279b8ec28ded"
   }
  }
 },
 "nbformat": 4,
 "nbformat_minor": 2
}
