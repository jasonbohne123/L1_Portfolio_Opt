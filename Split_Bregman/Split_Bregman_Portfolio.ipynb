{
 "cells": [
  {
   "cell_type": "markdown",
   "id": "2a179af3-f55e-4e48-97d4-b0520be24774",
   "metadata": {},
   "source": [
    "### Biased Mean Variance Objective with Elastic Net Penalty Solved via Split Bregman \n"
   ]
  },
  {
   "cell_type": "code",
   "execution_count": 1,
   "id": "a682214e-97ce-49c4-9378-e3ce2345257b",
   "metadata": {},
   "outputs": [],
   "source": [
    "import sys\n",
    "import itertools\n",
    "import numpy as np\n",
    "import pandas as pd\n",
    "from scipy.optimize import minimize, Bounds, LinearConstraint\n",
    "from qpsolvers import solve_qp\n",
    "from scipy.sparse import csc_matrix\n",
    "import matplotlib.pyplot as plt\n",
    "\n",
    "path='/home/jbohn/jupyter/personal/L1_Portfolio_Opt'\n",
    "sys.path.append(path)\n",
    "\n",
    "from Features.features import load_features\n",
    "from Parameter_Estimation.bias_mean import reg_mean\n",
    "from Parameter_Estimation.bias_cov import reg_cov"
   ]
  },
  {
   "cell_type": "markdown",
   "id": "45a716ee",
   "metadata": {},
   "source": [
    "### Prep and Load Equity Data "
   ]
  },
  {
   "cell_type": "code",
   "execution_count": 2,
   "id": "adebbded-df83-4b35-844b-f5b889bedae6",
   "metadata": {},
   "outputs": [
    {
     "data": {
      "text/html": [
       "<div>\n",
       "<style scoped>\n",
       "    .dataframe tbody tr th:only-of-type {\n",
       "        vertical-align: middle;\n",
       "    }\n",
       "\n",
       "    .dataframe tbody tr th {\n",
       "        vertical-align: top;\n",
       "    }\n",
       "\n",
       "    .dataframe thead th {\n",
       "        text-align: right;\n",
       "    }\n",
       "</style>\n",
       "<table border=\"1\" class=\"dataframe\">\n",
       "  <thead>\n",
       "    <tr style=\"text-align: right;\">\n",
       "      <th></th>\n",
       "      <th>MMM</th>\n",
       "      <th>AOS</th>\n",
       "      <th>ABT</th>\n",
       "      <th>ABBV</th>\n",
       "      <th>ABMD</th>\n",
       "      <th>ACN</th>\n",
       "      <th>ATVI</th>\n",
       "      <th>ADM</th>\n",
       "      <th>ADBE</th>\n",
       "      <th>ADP</th>\n",
       "      <th>...</th>\n",
       "      <th>WTW</th>\n",
       "      <th>GWW</th>\n",
       "      <th>WYNN</th>\n",
       "      <th>XEL</th>\n",
       "      <th>XYL</th>\n",
       "      <th>YUM</th>\n",
       "      <th>ZBRA</th>\n",
       "      <th>ZBH</th>\n",
       "      <th>ZION</th>\n",
       "      <th>ZTS</th>\n",
       "    </tr>\n",
       "    <tr>\n",
       "      <th>Date</th>\n",
       "      <th></th>\n",
       "      <th></th>\n",
       "      <th></th>\n",
       "      <th></th>\n",
       "      <th></th>\n",
       "      <th></th>\n",
       "      <th></th>\n",
       "      <th></th>\n",
       "      <th></th>\n",
       "      <th></th>\n",
       "      <th></th>\n",
       "      <th></th>\n",
       "      <th></th>\n",
       "      <th></th>\n",
       "      <th></th>\n",
       "      <th></th>\n",
       "      <th></th>\n",
       "      <th></th>\n",
       "      <th></th>\n",
       "      <th></th>\n",
       "      <th></th>\n",
       "    </tr>\n",
       "  </thead>\n",
       "  <tbody>\n",
       "    <tr>\n",
       "      <th>2010-01-05</th>\n",
       "      <td>-0.006283</td>\n",
       "      <td>-0.012860</td>\n",
       "      <td>-0.008112</td>\n",
       "      <td>0.0</td>\n",
       "      <td>-0.024321</td>\n",
       "      <td>0.006161</td>\n",
       "      <td>0.001768</td>\n",
       "      <td>0.005387</td>\n",
       "      <td>0.016313</td>\n",
       "      <td>-0.005385</td>\n",
       "      <td>...</td>\n",
       "      <td>-0.002244</td>\n",
       "      <td>0.000411</td>\n",
       "      <td>0.059041</td>\n",
       "      <td>-0.011930</td>\n",
       "      <td>0.0</td>\n",
       "      <td>-0.003426</td>\n",
       "      <td>-0.001745</td>\n",
       "      <td>0.031165</td>\n",
       "      <td>0.034651</td>\n",
       "      <td>0.0</td>\n",
       "    </tr>\n",
       "    <tr>\n",
       "      <th>2010-01-06</th>\n",
       "      <td>0.014082</td>\n",
       "      <td>0.000454</td>\n",
       "      <td>0.005538</td>\n",
       "      <td>0.0</td>\n",
       "      <td>-0.015358</td>\n",
       "      <td>0.010575</td>\n",
       "      <td>-0.005314</td>\n",
       "      <td>-0.002532</td>\n",
       "      <td>-0.002124</td>\n",
       "      <td>-0.002350</td>\n",
       "      <td>...</td>\n",
       "      <td>0.015971</td>\n",
       "      <td>0.003796</td>\n",
       "      <td>-0.013204</td>\n",
       "      <td>0.001919</td>\n",
       "      <td>0.0</td>\n",
       "      <td>-0.007175</td>\n",
       "      <td>-0.007717</td>\n",
       "      <td>-0.000323</td>\n",
       "      <td>0.083382</td>\n",
       "      <td>0.0</td>\n",
       "    </tr>\n",
       "    <tr>\n",
       "      <th>2010-01-07</th>\n",
       "      <td>0.000717</td>\n",
       "      <td>0.002946</td>\n",
       "      <td>0.008250</td>\n",
       "      <td>0.0</td>\n",
       "      <td>0.000000</td>\n",
       "      <td>-0.000935</td>\n",
       "      <td>-0.024271</td>\n",
       "      <td>-0.010511</td>\n",
       "      <td>-0.019595</td>\n",
       "      <td>-0.000471</td>\n",
       "      <td>...</td>\n",
       "      <td>-0.002952</td>\n",
       "      <td>0.009377</td>\n",
       "      <td>0.021131</td>\n",
       "      <td>-0.004322</td>\n",
       "      <td>0.0</td>\n",
       "      <td>-0.000288</td>\n",
       "      <td>-0.025318</td>\n",
       "      <td>0.022681</td>\n",
       "      <td>0.106160</td>\n",
       "      <td>0.0</td>\n",
       "    </tr>\n",
       "    <tr>\n",
       "      <th>2010-01-08</th>\n",
       "      <td>0.007022</td>\n",
       "      <td>0.014602</td>\n",
       "      <td>0.005099</td>\n",
       "      <td>0.0</td>\n",
       "      <td>-0.020446</td>\n",
       "      <td>-0.003986</td>\n",
       "      <td>-0.008223</td>\n",
       "      <td>-0.012567</td>\n",
       "      <td>-0.005436</td>\n",
       "      <td>-0.001414</td>\n",
       "      <td>...</td>\n",
       "      <td>-0.001109</td>\n",
       "      <td>0.011700</td>\n",
       "      <td>-0.007191</td>\n",
       "      <td>0.000481</td>\n",
       "      <td>0.0</td>\n",
       "      <td>0.000288</td>\n",
       "      <td>-0.003256</td>\n",
       "      <td>-0.021228</td>\n",
       "      <td>-0.016320</td>\n",
       "      <td>0.0</td>\n",
       "    </tr>\n",
       "    <tr>\n",
       "      <th>2010-01-11</th>\n",
       "      <td>-0.004040</td>\n",
       "      <td>-0.004694</td>\n",
       "      <td>0.005073</td>\n",
       "      <td>0.0</td>\n",
       "      <td>-0.018394</td>\n",
       "      <td>-0.000940</td>\n",
       "      <td>-0.000918</td>\n",
       "      <td>0.000648</td>\n",
       "      <td>-0.013169</td>\n",
       "      <td>0.004469</td>\n",
       "      <td>...</td>\n",
       "      <td>0.009939</td>\n",
       "      <td>0.004203</td>\n",
       "      <td>-0.003245</td>\n",
       "      <td>0.009574</td>\n",
       "      <td>0.0</td>\n",
       "      <td>0.017133</td>\n",
       "      <td>0.003256</td>\n",
       "      <td>0.021860</td>\n",
       "      <td>0.006075</td>\n",
       "      <td>0.0</td>\n",
       "    </tr>\n",
       "  </tbody>\n",
       "</table>\n",
       "<p>5 rows × 497 columns</p>\n",
       "</div>"
      ],
      "text/plain": [
       "                 MMM       AOS       ABT  ABBV      ABMD       ACN      ATVI  \\\n",
       "Date                                                                           \n",
       "2010-01-05 -0.006283 -0.012860 -0.008112   0.0 -0.024321  0.006161  0.001768   \n",
       "2010-01-06  0.014082  0.000454  0.005538   0.0 -0.015358  0.010575 -0.005314   \n",
       "2010-01-07  0.000717  0.002946  0.008250   0.0  0.000000 -0.000935 -0.024271   \n",
       "2010-01-08  0.007022  0.014602  0.005099   0.0 -0.020446 -0.003986 -0.008223   \n",
       "2010-01-11 -0.004040 -0.004694  0.005073   0.0 -0.018394 -0.000940 -0.000918   \n",
       "\n",
       "                 ADM      ADBE       ADP  ...       WTW       GWW      WYNN  \\\n",
       "Date                                      ...                                 \n",
       "2010-01-05  0.005387  0.016313 -0.005385  ... -0.002244  0.000411  0.059041   \n",
       "2010-01-06 -0.002532 -0.002124 -0.002350  ...  0.015971  0.003796 -0.013204   \n",
       "2010-01-07 -0.010511 -0.019595 -0.000471  ... -0.002952  0.009377  0.021131   \n",
       "2010-01-08 -0.012567 -0.005436 -0.001414  ... -0.001109  0.011700 -0.007191   \n",
       "2010-01-11  0.000648 -0.013169  0.004469  ...  0.009939  0.004203 -0.003245   \n",
       "\n",
       "                 XEL  XYL       YUM      ZBRA       ZBH      ZION  ZTS  \n",
       "Date                                                                    \n",
       "2010-01-05 -0.011930  0.0 -0.003426 -0.001745  0.031165  0.034651  0.0  \n",
       "2010-01-06  0.001919  0.0 -0.007175 -0.007717 -0.000323  0.083382  0.0  \n",
       "2010-01-07 -0.004322  0.0 -0.000288 -0.025318  0.022681  0.106160  0.0  \n",
       "2010-01-08  0.000481  0.0  0.000288 -0.003256 -0.021228 -0.016320  0.0  \n",
       "2010-01-11  0.009574  0.0  0.017133  0.003256  0.021860  0.006075  0.0  \n",
       "\n",
       "[5 rows x 497 columns]"
      ]
     },
     "execution_count": 2,
     "metadata": {},
     "output_type": "execute_result"
    }
   ],
   "source": [
    "train_data,test_data=load_features(0.5)\n",
    "train_data.head()"
   ]
  },
  {
   "cell_type": "markdown",
   "id": "74e5108a-d783-4073-b3cf-a12ec63a445d",
   "metadata": {},
   "source": [
    "### Mean and covariance estimation from sample"
   ]
  },
  {
   "cell_type": "code",
   "execution_count": 3,
   "id": "4c7d11d7-6d2f-4aa4-b535-477a6329e70d",
   "metadata": {},
   "outputs": [],
   "source": [
    "returns_mean=train_data.mean().values\n",
    "returns_cov=np.cov(train_data.T)"
   ]
  },
  {
   "cell_type": "code",
   "execution_count": 4,
   "id": "4503906a-0734-4193-8ca3-45417b7bafaa",
   "metadata": {},
   "outputs": [
    {
     "data": {
      "text/plain": [
       "Text(0, 0.5, 'Freq')"
      ]
     },
     "execution_count": 4,
     "metadata": {},
     "output_type": "execute_result"
    },
    {
     "data": {
      "image/png": "[encoded data removed]",
      "text/plain": [
       "<Figure size 864x720 with 1 Axes>"
      ]
     },
     "metadata": {
      "needs_background": "light"
     },
     "output_type": "display_data"
    }
   ],
   "source": [
    "fig,ax=plt.subplots(figsize=(12,10))\n",
    "bins=plt.hist(train_data.mean(axis=1),bins=20)\n",
    "plt.title(\"Empirical Distribution of Mean Return per Day\")\n",
    "plt.xlabel(\"Daily Return across S&P 500\")\n",
    "plt.ylabel(\"Freq\")"
   ]
  },
  {
   "cell_type": "code",
   "execution_count": 5,
   "id": "6bce6777-38ba-4fca-b447-ba7565d05792",
   "metadata": {},
   "outputs": [
    {
     "data": {
      "text/plain": [
       "Text(0.5, 1.0, 'Singular Values of Covariance Matrix')"
      ]
     },
     "execution_count": 5,
     "metadata": {},
     "output_type": "execute_result"
    },
    {
     "data": {
      "image/png": "[encoded data removed]",
      "text/plain": [
       "<Figure size 864x720 with 1 Axes>"
      ]
     },
     "metadata": {
      "needs_background": "light"
     },
     "output_type": "display_data"
    }
   ],
   "source": [
    "u,s,v=np.linalg.svd(returns_cov)\n",
    "fig,ax=plt.subplots(figsize=(12,10))\n",
    "bins=plt.plot(s,marker='*',color='red',markersize=7.5,mfc='black',mec='black')\n",
    "plt.xlabel('Singular Values')\n",
    "plt.ylabel('Magnitude')\n",
    "plt.title(\"Singular Values of Covariance Matrix\")"
   ]
  },
  {
   "cell_type": "markdown",
   "id": "cb4b999e-f203-4331-950d-a144a2ccd5b6",
   "metadata": {},
   "source": [
    "### Regularized Mean and Covariance Estimators "
   ]
  },
  {
   "cell_type": "code",
   "execution_count": 6,
   "id": "b7fca589-d472-4b6b-9a53-c14ab9174517",
   "metadata": {},
   "outputs": [],
   "source": [
    "biased_mean=reg_mean(returns_mean)\n",
    "\n",
    "biased_cov=reg_cov(returns_cov)"
   ]
  },
  {
   "cell_type": "markdown",
   "id": "c450a641-15c4-4962-acda-9446b17952e3",
   "metadata": {},
   "source": [
    "### Application of Sparse Solver Split Bregman Operator\n",
    "\n",
    "Utilizes nested optimization routine where\n",
    "- Inner Optimization is unconstrained QP problem involving L2 penalty\n",
    "    - Can solve numerically via constrained minimization and box constraints\n",
    "    - Solve analytically via closed form solution\n",
    "- Applies shrinkage (L1) penalty within outer loop\n",
    "\n",
    "\n",
    "Interesting results in normalization of w vector"
   ]
  },
  {
   "cell_type": "code",
   "execution_count": 21,
   "id": "e4089057-840a-4e01-be86-37de74378db2",
   "metadata": {},
   "outputs": [],
   "source": [
    "def qp(cov,mean,w,d,b,lb,ub,lambda2,approach,tol=10e-6,maxiter=25,verbose=True):\n",
    "    \"\"\" Inner optimization problem using unconstrained optimization \n",
    "        Approach \"numerical\" solves numerically via unconstrained minimization\n",
    "        Approach \"closed-form\" solves analytically via cvxopt within qpsolvers \n",
    "        Support for standard mean variance optimization (approach=2; pen=False)\n",
    "    \"\"\"\n",
    "    \n",
    "    # reinitialize unit starting point randomly to not get stuck in local minima\n",
    "    x0=w\n",
    "    \n",
    "\n",
    "    status=None\n",
    "\n",
    "    if approach==\"numerical\":\n",
    "        def objective_val(w,cov,mean,d,b,lambda2):\n",
    "            obj=np.dot(np.dot(w,cov+lambda2*np.diag(d-b)),w)-np.dot(w,mean)\n",
    "            \n",
    "            return obj\n",
    "        bounds=Bounds(lb,ub)\n",
    "        lc=LinearConstraint(np.ones(len(mean)),1,1)\n",
    "        res=minimize(objective_val,x0=x0,args=(cov,mean,d,b,lambda2),method='SLSQP',bounds=bounds,constraints=lc,options={'maxiter':maxiter},tol=tol)\n",
    "        w=res.x\n",
    "        status=res.status\n",
    "        \n",
    "    if approach==\"closed-form\":\n",
    "        w_old=w\n",
    "        \n",
    "        # define objective function with l2 penalty\n",
    "        quad=csc_matrix((cov+lambda2*np.diag(d-b)))\n",
    "        linear=-1*mean\n",
    "        \n",
    "        # constrain solution vector to be unit norm and non-negative\n",
    "        A=np.ones(len(mean))\n",
    "        constraint=np.array([1.0])\n",
    "\n",
    "        # set box constraints\n",
    "        lb_vec=lb*np.ones(len(mean))\n",
    "        ub_vec=ub*np.ones(len(mean))\n",
    "\n",
    "        w = solve_qp(quad,linear.reshape(len(linear),),A=A,b=constraint,initvals=x0, lb=lb_vec,ub=ub_vec,solver=\"cvxopt\")\n",
    "        status=\"solved\"\n",
    "\n",
    "        if w is None:\n",
    "            print(\"QP Optimization fails, Trying again\")\n",
    "            status=\"failed\"\n",
    "            return w_old,status\n",
    "    return w,status\n",
    "\n",
    "def shrinkage(w,b,lambda1,beta):\n",
    "    \"\"\" Applies one-sided soft-thresholding operator that is equivalent to L1 penalization \n",
    "    \"\"\"\n",
    "    \n",
    "    if lambda1==0:\n",
    "        return np.zeros(len(w))\n",
    "    x=beta*w+b\n",
    "    obj=np.fmax([np.abs(x)-(1/lambda1)],[np.zeros(len(w))])  \n",
    "    signed_obj=np.sign(x)*obj\n",
    "\n",
    "    return signed_obj[0]\n",
    "\n",
    "def split_bregman(cov,mean,lambda1,lambda2,lb,ub,beta=None,tol=1e-10,maxiter=100,approach=2,verbose=True):\n",
    "    \"\"\" Split Bregman Optimization Routine\n",
    "    \"\"\"\n",
    "\n",
    "    total_cost=1\n",
    "    n=len(mean)\n",
    "    if beta is None:\n",
    "        beta=np.ones(n)\n",
    "    \n",
    "    b=np.zeros(n)\n",
    "    w=np.random.rand(n)\n",
    "    w=w/np.linalg.norm(w,ord=1)\n",
    "    d=np.zeros(n)\n",
    "    \n",
    "    i=0\n",
    "    while total_cost>tol:\n",
    "        if i>maxiter:\n",
    "            if verbose:\n",
    "                print(\"MaxIter Achieved\")\n",
    "            break\n",
    "        \n",
    "        # solve qp problem either closed form or numerically\n",
    "        w,status=qp(cov,mean,w,d,b,lb,ub,lambda2,approach,tol,maxiter,verbose)\n",
    "        \n",
    "        if status==\"failed\":\n",
    "            w=w_old\n",
    "            break\n",
    " \n",
    "        # solve for sparse vector near previous optimal solution\n",
    "        d=shrinkage(w,b,lambda1,beta)\n",
    "        b=b+beta*w -d \n",
    "        i+=1\n",
    "\n",
    "        # compute total cost\n",
    "        total_cost=np.dot(np.dot(w,cov),w)-np.dot(w,mean)+(lambda1*np.sum(np.abs(w))+lambda2*np.sum((w)**2))/2\n",
    "        if verbose:\n",
    "            print(f\"Total Cost: {total_cost}\")\n",
    "        \n",
    "        w_old=w\n",
    "\n",
    "    if sum(abs(w))==0:\n",
    "        return w,total_cost\n",
    "\n",
    "    return w, total_cost"
   ]
  },
  {
   "cell_type": "markdown",
   "id": "50a4e2d5-343e-490e-a35c-21dd3d22a745",
   "metadata": {},
   "source": [
    "### Numerical Results\n",
    "\n",
    "Unit Tests\n",
    "- Solve for the optimal solution both via closed form solution and numerically via minimization \n",
    "- Compare optimal objective values and solution\n"
   ]
  },
  {
   "cell_type": "markdown",
   "id": "6b67b61d",
   "metadata": {},
   "source": [
    "### Test 1: Equal Penalties Closed Form and Numerically"
   ]
  },
  {
   "cell_type": "code",
   "execution_count": 22,
   "id": "a35c47f7-3531-43c5-a3cf-19907f53cbcf",
   "metadata": {},
   "outputs": [
    {
     "name": "stdout",
     "output_type": "stream",
     "text": [
      "Total Cost: 5.010864493121129\n",
      "Total Cost: 5.010864493121129\n",
      "Total Cost: 5.0109958965398835\n",
      "Total Cost: 5.0109958965398835\n",
      "Total Cost: 5.011250334954815\n",
      "Total Cost: 5.012357396348641\n",
      "Total Cost: 5.013506720649527\n",
      "Total Cost: 5.015193150712365\n",
      "Total Cost: 5.017517791430888\n",
      "Total Cost: 5.053258016834011\n",
      "Total Cost: 5.206004358757582\n",
      "Total Cost: 5.299897051819779\n",
      "Total Cost: 6.296568807959731\n",
      "Total Cost: 8.491519223851244\n",
      "Total Cost: 6.360759247600042\n",
      "Total Cost: 14.273921682977436\n",
      "Total Cost: 6.634021235009368\n",
      "Total Cost: 14.017082669408692\n",
      "Total Cost: 5.63397795682822\n",
      "Total Cost: 17.170795316966245\n",
      "Total Cost: 5.596280768640836\n",
      "Total Cost: 17.16801219381819\n",
      "Total Cost: 5.515112377252176\n",
      "Total Cost: 17.168670725968845\n",
      "Total Cost: 5.49352607632862\n",
      "Total Cost: 17.169379089616285\n",
      "MaxIter Achieved\n"
     ]
    },
    {
     "data": {
      "text/plain": [
       "array([-2.18300644e-03, -3.31843318e-03, -2.14473694e-03, -2.19581383e-03,\n",
       "       -4.07937335e-03, -2.20830964e-03, -2.15612001e-03, -2.12437776e-03,\n",
       "       -2.18578558e-03, -2.23703094e-03, -3.90707104e-03, -2.06516036e-03,\n",
       "       -2.07698556e-03, -2.15534756e-03, -2.14027984e-03, -2.27275373e-03,\n",
       "       -4.94414705e-04, -2.11853072e-03, -2.09631707e-03, -2.48229043e-03,\n",
       "       -2.08208952e-03, -2.23084922e-03, -2.24143496e-03, -2.14023455e-03,\n",
       "       -2.13882346e-03, -2.35605640e-03, -2.26896360e-03, -2.11473063e-03,\n",
       "       -2.19161868e-03, -2.12493233e-03,  1.00000000e-01, -2.13626251e-03,\n",
       "       -2.22749162e-03, -2.14499910e-03, -2.25416256e-03, -2.29204388e-03,\n",
       "       -2.61640070e-03, -3.12573237e-03, -2.54489607e-03, -2.44467600e-03,\n",
       "       -2.24400196e-03, -2.15217468e-03, -2.16264862e-03, -2.31841057e-03,\n",
       "       -2.10166652e-03, -3.36780883e-03, -2.14914884e-03, -3.33529793e-03,\n",
       "       -2.32779417e-03, -2.08120892e-03, -2.21649278e-03, -2.23257304e-03,\n",
       "       -2.07063485e-03, -2.16549807e-03, -2.23824383e-03, -4.23303787e-03,\n",
       "       -2.18749128e-03, -2.09576776e-03, -2.08306571e-03, -2.36111260e-03,\n",
       "       -2.07922470e-03, -4.58098478e-03, -2.08606390e-03, -2.15356514e-03,\n",
       "       -2.21574890e-03, -2.08524051e-03, -2.09090580e-03, -2.10205734e-03,\n",
       "        1.00000000e-01, -2.10828246e-03, -2.09077169e-03, -2.23809153e-03,\n",
       "        1.00000000e-01, -2.59551980e-03, -2.16684626e-03, -2.10754817e-03,\n",
       "       -2.27486497e-03,  1.00000000e-01, -2.20432948e-03, -2.15735507e-03,\n",
       "       -2.09351941e-03, -2.58793242e-03, -2.06354142e-03, -2.14737049e-03,\n",
       "       -2.08529345e-03, -2.18901878e-03, -2.31633737e-03, -2.38251515e-03,\n",
       "       -2.08910395e-03, -2.10958066e-03, -2.11145239e-03, -2.20038918e-03,\n",
       "       -2.24743344e-03, -2.20778362e-03, -2.13643521e-03,  1.00000000e-01,\n",
       "       -2.12044018e-03, -2.06465229e-03, -2.49193311e-03, -2.16853559e-03,\n",
       "       -2.11621260e-03,  1.00000000e-01, -2.09194547e-03, -3.55558620e-04,\n",
       "       -2.26269797e-03, -2.39000676e-03, -2.45391564e-03, -2.17268327e-03,\n",
       "       -2.54643755e-03, -2.07756163e-03, -2.10572061e-03, -2.07113524e-03,\n",
       "       -2.14642295e-03, -2.09233576e-03, -2.23696563e-03, -2.10686133e-03,\n",
       "       -2.22680685e-03, -2.13944377e-03, -3.03699137e-03, -2.10348606e-03,\n",
       "       -2.12239576e-03, -2.13292698e-03, -2.09866430e-03,  1.00000000e-01,\n",
       "       -4.52603997e-03, -2.19696790e-03, -2.08052029e-03, -2.06465249e-03,\n",
       "       -4.26960153e-03, -2.30663457e-03, -2.29384157e-03, -2.18918681e-03,\n",
       "       -2.22114094e-03, -2.44730759e-03, -2.55976442e-03, -2.21388002e-03,\n",
       "       -2.23465139e-03, -2.13464349e-03, -2.34637504e-03, -2.11333581e-03,\n",
       "       -3.76772690e-03, -2.11123775e-03, -2.07652238e-03,  1.00000000e-01,\n",
       "       -3.42447379e-03, -2.09579702e-03, -4.49707715e-03, -3.00143352e-03,\n",
       "       -2.50402580e-03, -2.79679217e-03,  1.00000000e-01, -2.18399492e-03,\n",
       "       -8.02189422e-05, -2.18317223e-03, -2.06465230e-03, -2.18642218e-03,\n",
       "       -2.12608191e-03, -2.11052331e-03, -2.07573745e-03, -2.26744275e-03,\n",
       "       -2.19405009e-03, -2.26671966e-03, -2.26182606e-03, -2.16390321e-03,\n",
       "       -2.56024808e-03, -2.31141808e-03, -2.21580769e-03, -2.17897951e-03,\n",
       "       -2.09722237e-03, -2.22145767e-03, -2.05799781e-03, -2.14395204e-03,\n",
       "       -3.36992086e-03, -2.13273778e-03, -2.33225494e-03, -2.20995492e-03,\n",
       "       -2.21261986e-03, -2.31174658e-03, -2.68124939e-03, -2.06465109e-03,\n",
       "       -2.18601547e-03, -2.16809120e-03, -2.20595607e-03, -2.05733209e-03,\n",
       "       -2.15451578e-03, -2.09067873e-03,  1.00000000e-01, -2.08385073e-03,\n",
       "       -2.26655039e-03, -2.20771269e-03, -2.23931033e-03, -2.18562646e-03,\n",
       "       -2.19112893e-03, -2.15790986e-03, -2.18065203e-03, -2.05442861e-03,\n",
       "       -2.36531309e-03, -2.49307045e-03,  1.00000000e-01, -2.18819695e-03,\n",
       "       -2.11120951e-03, -2.84913922e-03, -2.06465191e-03, -3.41108003e-03,\n",
       "       -2.06465212e-03, -2.06465184e-03, -2.10586124e-03, -2.12123158e-03,\n",
       "       -2.13084939e-03, -3.75811532e-03, -2.09852480e-03, -3.14556337e-03,\n",
       "       -2.17730880e-03, -2.11909905e-03, -2.11219377e-03, -2.08546436e-03,\n",
       "       -2.43737934e-03, -4.58944596e-03, -2.37747598e-03, -2.12197231e-03,\n",
       "       -2.07485502e-03, -2.08800554e-03, -2.12318776e-03, -2.14265976e-03,\n",
       "       -2.29285230e-03, -2.09368940e-03, -2.33435921e-03, -2.63258523e-03,\n",
       "       -2.07273940e-03, -2.06465218e-03, -2.08716898e-03, -2.15392718e-03,\n",
       "       -3.42405463e-03, -2.27380602e-03, -2.47185495e-03, -2.16077989e-03,\n",
       "       -2.06465160e-03, -2.07675331e-03, -2.76026741e-03, -2.36559270e-03,\n",
       "       -2.72471782e-03, -2.07824791e-03, -2.27626716e-03, -2.41495225e-03,\n",
       "       -2.17416813e-03,  1.00000000e-01, -4.57666275e-04, -2.06465205e-03,\n",
       "       -2.14137104e-03, -2.17302327e-03, -2.16868153e-03, -2.33292201e-03,\n",
       "       -2.28023543e-03, -2.56869527e-03, -2.15122620e-03, -2.12048503e-03,\n",
       "       -2.06465201e-03, -2.11193274e-03, -2.15367746e-03, -2.32973935e-03,\n",
       "       -2.34335694e-03, -2.08248105e-03, -2.12952828e-03, -2.28471246e-03,\n",
       "       -2.09304495e-03, -2.09684504e-03, -2.08189522e-03, -2.33756927e-03,\n",
       "       -2.22203117e-03, -2.08169896e-03, -2.17546659e-03, -2.14350984e-03,\n",
       "       -2.10370018e-03, -2.16474041e-03, -2.06465186e-03, -2.88418634e-03,\n",
       "       -2.11048328e-03, -2.10165048e-03, -2.18008094e-03, -2.06465215e-03,\n",
       "       -2.75215954e-03, -2.07300904e-03, -2.70089767e-03, -2.18386933e-03,\n",
       "       -2.12223453e-03, -2.37657806e-03, -2.42095826e-03, -2.33256108e-03,\n",
       "       -2.06938763e-03, -2.55656863e-03, -2.06351799e-03, -2.94661181e-03,\n",
       "       -2.15178987e-03, -2.10194262e-03, -2.30056960e-03,  1.00000000e-01,\n",
       "       -2.46517145e-03, -2.35777722e-03, -2.08346419e-03, -2.13326589e-03,\n",
       "       -2.83187282e-03, -2.57513524e-03, -2.20373302e-03, -2.11137630e-03,\n",
       "       -2.94418981e-03, -2.12797866e-03, -2.11450263e-03, -2.23557356e-03,\n",
       "       -2.09956239e-03, -2.42960934e-03, -2.18715548e-03, -2.12920153e-03,\n",
       "       -2.48867237e-03, -2.11078772e-03, -2.11934994e-03, -2.06465199e-03,\n",
       "       -2.56169324e-03, -2.83700871e-03, -2.13043325e-03, -2.08803067e-03,\n",
       "       -2.21488549e-03,  1.00000000e-01, -2.93000226e-03, -2.08119580e-03,\n",
       "       -2.09468018e-03, -2.20429212e-03, -2.10953829e-03, -2.25396942e-03,\n",
       "       -2.08956916e-03,  1.00000000e-01, -2.29077526e-03, -2.13950077e-03,\n",
       "       -2.07011377e-03, -2.06922838e-03, -2.18970614e-03, -2.54533950e-03,\n",
       "       -2.44175209e-03, -2.26390920e-03, -2.19345681e-03, -2.08324598e-03,\n",
       "       -2.48622983e-03, -2.19814138e-03, -2.06359717e-03, -2.07330345e-03,\n",
       "       -2.09641655e-03, -2.14822255e-03,  1.00000000e-01, -2.19778768e-03,\n",
       "       -2.07332195e-03,  1.00000000e-01, -2.17735885e-03, -2.10100416e-03,\n",
       "       -2.29439283e-03, -2.15570588e-03, -2.15276867e-03, -2.80751118e-03,\n",
       "       -3.23989637e-03, -2.23675098e-03, -2.11050228e-03, -2.16816166e-03,\n",
       "       -2.06465161e-03, -2.17907108e-03, -2.11767646e-03, -2.20878177e-03,\n",
       "       -2.13075000e-03, -2.07160017e-03, -2.13042745e-03, -2.24191385e-03,\n",
       "       -2.15926545e-03, -2.38789520e-03, -2.12330120e-03, -2.73891223e-03,\n",
       "       -3.42915517e-03, -2.06494213e-03, -2.16817239e-03, -2.10689838e-03,\n",
       "       -2.10425680e-03, -2.12702250e-03, -2.12990392e-03, -2.07002681e-03,\n",
       "       -2.21419345e-03, -2.24978804e-03, -2.17673188e-03, -2.06465151e-03,\n",
       "       -2.10327878e-03, -2.12297349e-03, -2.06988337e-03, -2.24072880e-03,\n",
       "       -2.23420338e-03, -2.11780073e-03, -2.15691989e-03, -2.14855507e-03,\n",
       "        1.89739331e-04, -2.14484996e-03, -2.09785495e-03, -2.21586539e-03,\n",
       "       -2.20252494e-03, -2.23197354e-03, -2.30794960e-03, -2.51533105e-03,\n",
       "        1.00000000e-01, -2.45022049e-03, -2.36725489e-03, -2.55190001e-03,\n",
       "       -2.78480225e-03, -2.08395022e-03, -2.87834019e-03, -2.16700962e-03,\n",
       "       -2.18704295e-03, -2.54853154e-03, -4.57656357e-03, -3.55864925e-03,\n",
       "       -2.28344739e-03, -4.58700025e-03, -2.13335981e-03, -2.63281841e-03,\n",
       "       -2.06465193e-03, -2.10195115e-03, -3.35093739e-03, -2.14909237e-03,\n",
       "       -3.11990883e-03, -2.13062737e-03, -2.25305178e-03, -2.15300824e-03,\n",
       "       -2.32280431e-03, -2.09348100e-03, -2.18570688e-03, -2.10178174e-03,\n",
       "       -2.14404848e-03, -2.11025438e-03, -2.35056183e-03, -2.09064180e-03,\n",
       "       -4.53427925e-03, -2.12278251e-03, -2.29730784e-03, -2.31743963e-03,\n",
       "       -2.19864424e-03, -2.14802323e-03,  1.00000000e-01, -2.20390859e-03,\n",
       "       -2.19741502e-03, -2.34787284e-03, -3.66993053e-03,  1.00000000e-01,\n",
       "       -2.21020427e-03, -3.71578444e-03, -2.21329878e-03, -2.19593734e-03,\n",
       "       -2.10114924e-03, -3.75618892e-03, -2.95771038e-03, -2.16655213e-03,\n",
       "       -2.16497315e-03, -4.92437742e-04, -3.23360399e-03, -7.56678656e-04,\n",
       "       -2.17444859e-03,  1.00000000e-01, -2.83927431e-03, -3.16924277e-03,\n",
       "       -2.46358864e-03, -2.12236814e-03, -2.25792024e-03, -2.24555879e-03,\n",
       "       -2.10866221e-03, -2.36176879e-03, -3.98097482e-03, -2.54876225e-03,\n",
       "       -2.06465200e-03, -2.55675965e-03, -2.12726347e-03, -2.08303065e-03,\n",
       "       -3.73483549e-03, -2.19938439e-03, -2.12560877e-03, -2.22044699e-03,\n",
       "       -2.11068423e-03, -2.16312030e-03, -2.21963695e-03, -2.16410654e-03,\n",
       "       -2.13626021e-03, -2.39169628e-03, -2.27139543e-03, -2.06465109e-03,\n",
       "       -2.08431387e-03, -2.23117356e-03, -2.29299591e-03, -2.14048308e-03,\n",
       "       -2.34526651e-03, -2.23018691e-03, -2.13450442e-03, -2.13721855e-03,\n",
       "       -2.20407597e-03, -2.37897820e-03, -2.16698670e-03, -2.17973073e-03,\n",
       "       -2.10712540e-03])"
      ]
     },
     "execution_count": 22,
     "metadata": {},
     "output_type": "execute_result"
    }
   ],
   "source": [
    "lambda1=10\n",
    "lambda2=10\n",
    "w_numerical,error_numerical=split_bregman(biased_cov,biased_mean,lb=-0.05,ub=0.1,lambda1=lambda1,lambda2=lambda2,tol=1e-6,maxiter=25,approach=\"numerical\",verbose=True)\n",
    "w_numerical"
   ]
  },
  {
   "cell_type": "code",
   "execution_count": 23,
   "id": "32fe6c81",
   "metadata": {},
   "outputs": [
    {
     "name": "stdout",
     "output_type": "stream",
     "text": [
      "Total Cost: 0.5036532816684033\n",
      "Total Cost: 0.5036903478534912\n",
      "Total Cost: 0.5037275710091168\n",
      "Total Cost: 0.5037649587481677\n",
      "Total Cost: 0.503802519175406\n",
      "Total Cost: 0.5038402609269681\n",
      "Total Cost: 0.5038781932140627\n",
      "Total Cost: 0.5039163258714319\n",
      "Total Cost: 0.5039546694112336\n",
      "Total Cost: 0.5039932350830999\n",
      "Total Cost: 0.5040320349412777\n",
      "Total Cost: 0.5040710819198954\n",
      "Total Cost: 0.5041103899176047\n",
      "Total Cost: 0.5041499738930707\n",
      "Total Cost: 0.504189849973072\n",
      "Total Cost: 0.5042300355753143\n",
      "Total Cost: 0.5042705495485017\n",
      "Total Cost: 0.5043114123327374\n",
      "Total Cost: 0.5043526461439936\n",
      "Total Cost: 0.5043942751872487\n",
      "Total Cost: 0.504436325903949\n",
      "Total Cost: 0.5044788272608254\n",
      "Total Cost: 0.5045218110888813\n",
      "Total Cost: 0.5045653124836511\n",
      "Total Cost: 0.5046093702808737\n",
      "Total Cost: 0.5046540276257343\n",
      "MaxIter Achieved\n"
     ]
    },
    {
     "data": {
      "text/plain": [
       "array([ 0.00187386,  0.00318132,  0.00165564,  0.00184915,  0.00348184,\n",
       "        0.00200874,  0.00169266,  0.00152746,  0.00182867,  0.0021121 ,\n",
       "        0.00334373,  0.00061608,  0.00101492,  0.00164489,  0.00161427,\n",
       "        0.00222067,  0.00458938,  0.00138305,  0.00120359,  0.00266274,\n",
       "        0.000962  ,  0.00210458,  0.002174  ,  0.00157747,  0.00156612,\n",
       "        0.00239056,  0.00216294,  0.0014127 , -0.00142749,  0.0015783 ,\n",
       "        0.00591169,  0.0016749 ,  0.00211689,  0.00169508,  0.00216717,\n",
       "        0.0022618 ,  0.00284072,  0.00300853,  0.00272202,  0.00256702,\n",
       "        0.0021647 ,  0.00162072,  0.00171312,  0.00234644, -0.00025556,\n",
       "        0.00313674,  0.00159618,  0.00306121,  0.00234945,  0.00090218,\n",
       "        0.00201571,  0.00213479,  0.00095894,  0.00180875,  0.00212223,\n",
       "        0.00336646,  0.00191033,  0.00120407,  0.00111776,  0.00242585,\n",
       "        0.00077355,  0.00358094,  0.00105832,  0.00169295,  0.0020105 ,\n",
       "        0.00057145,  0.00099947,  0.00116866,  0.00444479,  0.00129752,\n",
       "        0.00122947,  0.00216152,  0.00386735,  0.00281051,  0.0018026 ,\n",
       "        0.00129704,  0.00221813,  0.0039705 ,  0.00194116,  0.00173451,\n",
       "        0.00104778,  0.00275249,  0.00061427,  0.00166444,  0.00114764,\n",
       "        0.00195545,  0.00233866,  0.00251232,  0.00120825,  0.00132903,\n",
       "        0.00137952,  0.0018859 ,  0.00222086,  0.00191608,  0.00159318,\n",
       "        0.00372817,  0.00151095,  0.00074242,  0.00266022,  0.0017817 ,\n",
       "        0.00133133,  0.00378022,  0.00125214,  0.00498192,  0.00220919,\n",
       "        0.00244547,  0.00258416,  0.00184633,  0.00269146,  0.00083607,\n",
       "        0.00137035,  0.00086784,  0.00164112,  0.00107347,  0.00212449,\n",
       "        0.00137642,  0.00208823,  0.00160496,  0.00299538,  0.00135035,\n",
       "        0.00148882,  0.00160765,  0.00136041,  0.00434494,  0.00351153,\n",
       "        0.00190934,  0.00086996,  0.00074242,  0.00349962,  0.00228894,\n",
       "        0.00233802,  0.00190318,  0.00206869,  0.00267034,  0.00268328,\n",
       "        0.00207895,  0.00213369,  0.00156426,  0.00238861,  0.00142251,\n",
       "        0.00348896,  0.0013454 ,  0.00023392,  0.00441269,  0.00308092,\n",
       "        0.00113336,  0.00355442,  0.00299965,  0.00265862,  0.00281725,\n",
       "        0.00361234,  0.00192069,  0.00591676,  0.00188376,  0.00074242,\n",
       "        0.00192101,  0.0015826 ,  0.00135415,  0.00074849,  0.00223832,\n",
       "        0.00193981,  0.00218413,  0.00219193,  0.00182458,  0.00267572,\n",
       "        0.0023707 ,  0.00199781,  0.00186967,  0.00122694,  0.00186373,\n",
       "        0.00078666,  0.00167384,  0.00306753,  0.00154309,  0.00239016,\n",
       "        0.00193251,  0.0020312 ,  0.00234196,  0.00280524,  0.00074242,\n",
       "        0.00191381,  0.00182529,  0.00200904,  0.0002223 ,  0.00149738,\n",
       "        0.00103161,  0.00380776,  0.0011559 ,  0.00219179,  0.00199105,\n",
       "        0.00211089,  0.00189868,  0.0019413 ,  0.00184044,  0.00179532,\n",
       "        0.00037347,  0.00243305,  0.00262644,  0.00411602,  0.00186942,\n",
       "        0.00131131,  0.00294922,  0.00074242,  0.00313227,  0.00074242,\n",
       "        0.00074242,  0.00133611, -0.00037318,  0.00152596,  0.00361037,\n",
       "        0.00120746,  0.00309644,  0.00187655,  0.00149486,  0.00142079,\n",
       "        0.0006604 ,  0.00256571,  0.00354791,  0.00249486,  0.00138509,\n",
       "        0.00080001,  0.0009661 ,  0.00152712,  0.00158436,  0.00225137,\n",
       "        0.00130582,  0.0023823 ,  0.00269099,  0.0008512 ,  0.00074242,\n",
       "        0.00106893,  0.00166138,  0.00316216,  0.00228284,  0.00255992,\n",
       "        0.00182272,  0.00074242,  0.00017666,  0.0028322 ,  0.0025396 ,\n",
       "        0.00276611,  0.00099325,  0.00225478,  0.00252902,  0.00181849,\n",
       "        0.00429222,  0.004846  ,  0.00074242,  0.00162946,  0.00182931,\n",
       "        0.00183236,  0.00246315,  0.00226206,  0.0027094 ,  0.00159144,\n",
       "        0.00147529,  0.00074242,  0.00132194,  0.00172997,  0.0023698 ,\n",
       "        0.00241042,  0.0008412 ,  0.00154028,  0.00227608,  0.00125684,\n",
       "        0.0002614 ,  0.00106459,  0.0023594 ,  0.00213915,  0.00105324,\n",
       "        0.00183713,  0.00169696,  0.00122198,  0.00175673,  0.00074242,\n",
       "        0.0028628 ,  0.00130656,  0.00127201,  0.00183407,  0.00074242,\n",
       "        0.00295996,  0.00050998,  0.00292152,  0.0019817 ,  0.00146671,\n",
       "        0.00254475,  0.00257563,  0.00237938,  0.00084202,  0.00269696,\n",
       "        0.00080118,  0.00303531,  0.00175435,  0.00127959,  0.00228107,\n",
       "        0.00386223,  0.00265917,  0.00243586,  0.0009318 ,  0.00155283,\n",
       "        0.00292621,  0.00270441,  0.00198254,  0.00139619,  0.00292794,\n",
       "        0.00152811,  0.00142599,  0.00201687,  0.00125909,  0.00257687,\n",
       "        0.00196211,  0.00139274,  0.00274108,  0.00136491,  0.001419  ,\n",
       "        0.00074242,  0.00278745,  0.00292781,  0.0015187 ,  0.00116918,\n",
       "        0.00190596,  0.00411662,  0.00300336,  0.00093838,  0.00010402,\n",
       "        0.00198097,  0.00130033,  0.00219424,  0.00093895,  0.00444937,\n",
       "        0.00231889, -0.00081466,  0.00071344,  0.00067706,  0.00194085,\n",
       "        0.00268198,  0.0025515 ,  0.00224422,  0.00195167,  0.00104883,\n",
       "        0.0026278 ,  0.00188119,  0.00084221,  0.00064799,  0.00071594,\n",
       "        0.00170051,  0.0039729 ,  0.00391021,  0.00062053,  0.00424391,\n",
       "        0.00183648,  0.0008036 ,  0.00232695,  0.00168461,  0.00169608,\n",
       "        0.0029138 ,  0.00319435,  0.0021622 ,  0.0013629 ,  0.00171308,\n",
       "        0.00074242,  0.00184004,  0.00146607,  0.00197984,  0.00155024,\n",
       "        0.00099865,  0.00156923,  0.00207481,  0.00178614,  0.00256963,\n",
       "        0.00155568,  0.00287372,  0.00320859,  0.00088282,  0.00187928,\n",
       "        0.00140177,  0.00135476,  0.0015209 ,  0.00155644,  0.00103332,\n",
       "        0.00200986,  0.00217693,  0.00187196,  0.00074242,  0.00110209,\n",
       "        0.00144568,  0.00082237,  0.00211638,  0.00215213,  0.00146808,\n",
       "        0.00173755,  0.00170413,  0.00723296,  0.00174075,  0.00124861,\n",
       "        0.00201297,  0.00198273,  0.00212231,  0.00233799,  0.00267501,\n",
       "        0.00360582,  0.0027232 ,  0.00245606,  0.00276462,  0.00284524,\n",
       "        0.0010064 ,  0.00299533,  0.0017874 ,  0.00192384,  0.00260805,\n",
       "        0.00351657,  0.00326144,  0.00228996,  0.00370868,  0.00154318,\n",
       "        0.00280406,  0.00074242,  0.0013962 ,  0.00320208,  0.00166964,\n",
       "        0.00307225,  0.00161015,  0.00215273,  0.00170212,  0.00242626,\n",
       "        0.00119296,  0.0018464 ,  0.00128445,  0.00151786,  0.0013813 ,\n",
       "        0.00245142,  0.00065896,  0.00353481,  0.00146584,  0.00232197,\n",
       "        0.00237569,  0.00196796,  0.00160739,  0.00543751,  0.00192945,\n",
       "        0.00199417,  0.00242913,  0.00326101,  0.0042554 ,  0.00201672,\n",
       "        0.0033213 ,  0.00203403,  0.00190665,  0.00132974,  0.00402254,\n",
       "        0.00292957,  0.00183831,  0.00178344,  0.00459229,  0.00311481,\n",
       "        0.00389889,  0.00182151,  0.00549688,  0.00287349,  0.00307969,\n",
       "        0.00266569,  0.00153518,  0.00217712,  0.00207908,  0.00139992,\n",
       "        0.00246245,  0.00339096,  0.00270493,  0.00074242,  0.00269828,\n",
       "        0.00154027,  0.00096604,  0.00338251,  0.00196329,  0.00151685,\n",
       "        0.00204251,  0.0013759 ,  0.0016942 ,  0.0020601 ,  0.00185793,\n",
       "        0.0016188 ,  0.00249116,  0.00224198,  0.00074242,  0.00025572,\n",
       "        0.0021577 ,  0.0023364 ,  0.00158366,  0.00242532,  0.00211388,\n",
       "        0.00163995,  0.00149582,  0.00197563,  0.00247529,  0.00178911,\n",
       "        0.00194744,  0.00130578])"
      ]
     },
     "execution_count": 23,
     "metadata": {},
     "output_type": "execute_result"
    }
   ],
   "source": [
    "lambda1=1\n",
    "lambda2=1\n",
    "w_cf,error_cf=split_bregman(biased_cov,biased_mean,lb=-0.05,ub=0.1,lambda1=lambda1,lambda2=lambda2,tol=1e-6,maxiter=25,approach=\"closed-form\",verbose=True)\n",
    "w_cf"
   ]
  },
  {
   "cell_type": "markdown",
   "id": "286630b7",
   "metadata": {},
   "source": [
    "### Comparisons of Optimal Solution"
   ]
  },
  {
   "cell_type": "code",
   "execution_count": 24,
   "id": "750ad876",
   "metadata": {},
   "outputs": [],
   "source": [
    "cutoff_threshold=0.001"
   ]
  },
  {
   "cell_type": "code",
   "execution_count": 25,
   "id": "62f68dd6",
   "metadata": {},
   "outputs": [
    {
     "data": {
      "text/plain": [
       "Text(0, 0.5, 'Weight Allocation')"
      ]
     },
     "execution_count": 25,
     "metadata": {},
     "output_type": "execute_result"
    },
    {
     "data": {
      "image/png": "[encoded data removed]",
      "text/plain": [
       "<Figure size 720x576 with 1 Axes>"
      ]
     },
     "metadata": {
      "needs_background": "light"
     },
     "output_type": "display_data"
    }
   ],
   "source": [
    "optimal_numerical=np.where(abs(w_numerical)>cutoff_threshold)[0]\n",
    "fig,ax=plt.subplots(figsize=(10,8))\n",
    "plt.title(\"Optimal Portfolio Components for \")\n",
    "ax.stem(optimal_numerical,w_numerical[optimal_numerical],markerfmt='o',use_line_collection=True)\n",
    "ax.set_xlabel(f\"{len(optimal_numerical)}  Optimal Numerical Allocation\")\n",
    "ax.set_ylabel(\"Weight Allocation\")"
   ]
  },
  {
   "cell_type": "code",
   "execution_count": 26,
   "id": "105f851a-18a3-4fa2-aa5a-df4cb71d1aba",
   "metadata": {},
   "outputs": [
    {
     "data": {
      "text/plain": [
       "Text(0, 0.5, 'Weight Allocation')"
      ]
     },
     "execution_count": 26,
     "metadata": {},
     "output_type": "execute_result"
    },
    {
     "data": {
      "image/png": "[encoded data removed]",
      "text/plain": [
       "<Figure size 720x576 with 1 Axes>"
      ]
     },
     "metadata": {
      "needs_background": "light"
     },
     "output_type": "display_data"
    }
   ],
   "source": [
    "optimal_cf=np.where(abs(w_cf)>cutoff_threshold)[0]\n",
    "fig,ax=plt.subplots(figsize=(10,8))\n",
    "plt.title(\"Optimal Portfolio Components for \")\n",
    "ax.stem(optimal_cf,w_cf[optimal_cf],markerfmt='o',use_line_collection=True)\n",
    "ax.set_xlabel(f\"{len(optimal_cf)}  Optimal Numerical Allocation\")\n",
    "ax.set_ylabel(\"Weight Allocation\")"
   ]
  },
  {
   "cell_type": "markdown",
   "id": "68c5e945-e90a-468e-9202-b4df8e141797",
   "metadata": {},
   "source": [
    "### Grid Search for Optimal Lambda Values \n",
    "- Cross valaidate optimal $\\lambda_1$ and $\\lambda_2$ parameters representing L1 and L2 regularization"
   ]
  },
  {
   "cell_type": "code",
   "execution_count": 27,
   "id": "364d03c8-4e3c-4c55-9a67-9b0ec2d98455",
   "metadata": {},
   "outputs": [
    {
     "name": "stdout",
     "output_type": "stream",
     "text": [
      " lambda1: 0.0001 lambda2: 0.0001 error: 0.0005255\n",
      " lambda1: 0.0001 lambda2: 0.0032 error: 0.00052912\n",
      " lambda1: 0.0001 lambda2: 0.1 error: 0.0006443\n",
      "QP Optimization fails, Trying again\n",
      " lambda1: 0.0001 lambda2: 3.1623 error: 0.00680613\n",
      "QP Optimization fails, Trying again\n",
      " lambda1: 0.0001 lambda2: 100.0 error: 0.11550339\n",
      " lambda1: 0.0032 lambda2: 0.0001 error: 0.00205664\n",
      " lambda1: 0.0032 lambda2: 0.0032 error: 0.00206026\n",
      " lambda1: 0.0032 lambda2: 0.1 error: 0.00217543\n",
      "QP Optimization fails, Trying again\n",
      " lambda1: 0.0032 lambda2: 3.1623 error: 0.00833727\n",
      "QP Optimization fails, Trying again\n",
      " lambda1: 0.0032 lambda2: 100.0 error: 0.11703453\n",
      " lambda1: 0.1 lambda2: 0.0001 error: 0.0504755\n",
      " lambda1: 0.1 lambda2: 0.0032 error: 0.05047912\n",
      " lambda1: 0.1 lambda2: 0.1 error: 0.0505943\n",
      "QP Optimization fails, Trying again\n",
      " lambda1: 0.1 lambda2: 3.1623 error: 0.05675613\n",
      "QP Optimization fails, Trying again\n",
      " lambda1: 0.1 lambda2: 100.0 error: 0.16545339\n",
      " lambda1: 3.1623 lambda2: 0.0001 error: 1.58161433\n",
      " lambda1: 3.1623 lambda2: 0.0032 error: 1.58161795\n",
      " lambda1: 3.1623 lambda2: 0.1 error: 1.58173313\n",
      "QP Optimization fails, Trying again\n",
      " lambda1: 3.1623 lambda2: 3.1623 error: 1.58789496\n",
      "QP Optimization fails, Trying again\n",
      " lambda1: 3.1623 lambda2: 100.0 error: 1.69659222\n",
      " lambda1: 100.0 lambda2: 0.0001 error: 50.0004755\n",
      " lambda1: 100.0 lambda2: 0.0032 error: 50.00047902\n",
      " lambda1: 100.0 lambda2: 0.1 error: 50.00059054\n",
      " lambda1: 100.0 lambda2: 3.1623 error: 50.00414784\n",
      "QP Optimization fails, Trying again\n",
      " lambda1: 100.0 lambda2: 100.0 error: 50.11545339\n"
     ]
    }
   ],
   "source": [
    "def grid_search(params,returns_mean,returns_cov,tol=1e-8,maxiter=25):\n",
    "    \"\"\" Grid Search for optimal lambda1 and lambda2 under constrained portfolio problem \n",
    "    \"\"\"\n",
    "    results={}\n",
    "    for i in params:\n",
    "        lambda1,lambda2=i\n",
    "        lb,ub=0,1\n",
    "        w,error=split_bregman(returns_cov,returns_mean,lambda1,lambda2,lb=lb,ub=ub,tol=tol,maxiter=maxiter,approach=\"closed-form\",verbose=False)\n",
    "        print(f\" lambda1: {np.round(lambda1,4)} lambda2: {np.round(lambda2,4)} error: {np.round(error,8)}\")\n",
    "        results[i]=(w,error)\n",
    "    sorted_dict=sorted(results.items(), key=lambda x:x[1][1])\n",
    "    return sorted_dict\n",
    "\n",
    "lambda1_grid=np.geomspace(0.0001,100,5)\n",
    "lambda2_grid=np.geomspace(0.0001,100,5)\n",
    "\n",
    "params=[]\n",
    "for i in itertools.product(lambda1_grid,lambda2_grid):\n",
    "    params.append(i)\n",
    "\n",
    "sorted_dict=grid_search(params,biased_mean,biased_cov)"
   ]
  },
  {
   "cell_type": "code",
   "execution_count": 29,
   "id": "d1456ca0-a078-425c-85eb-aedfdc7e4e34",
   "metadata": {},
   "outputs": [
    {
     "data": {
      "text/plain": [
       "Text(0, 0.5, 'Weight Allocation')"
      ]
     },
     "execution_count": 29,
     "metadata": {},
     "output_type": "execute_result"
    },
    {
     "data": {
      "image/png": "[encoded data removed]",
      "text/plain": [
       "<Figure size 720x576 with 1 Axes>"
      ]
     },
     "metadata": {
      "needs_background": "light"
     },
     "output_type": "display_data"
    }
   ],
   "source": [
    "wi=sorted_dict[0][1][0]\n",
    "nonzero_wi=np.where(abs(wi)>0.0001)[0]\n",
    "\n",
    "fig,ax=plt.subplots(figsize=(10,8))\n",
    "plt.title(\"Portfolio Components for $\\lambda_1=50$\")\n",
    "ax.stem(wi[nonzero_wi])\n",
    "plt.xlabel(f\"{len(wi[nonzero_wi])} Nonzero components\")\n",
    "plt.ylabel(\"Weight Allocation\")"
   ]
  },
  {
   "cell_type": "code",
   "execution_count": 30,
   "id": "4b9c3518-142c-4c61-80fa-08dd88939c8a",
   "metadata": {},
   "outputs": [
    {
     "name": "stdout",
     "output_type": "stream",
     "text": [
      "Largest Component is 0.005287348934712082\n",
      "Smallest Component is 0.00034467562829224133\n"
     ]
    }
   ],
   "source": [
    "print(f\"Largest Component is {max(abs(wi[nonzero_wi]))}\")\n",
    "print(f\"Smallest Component is {min(abs(wi[nonzero_wi]))}\")"
   ]
  }
 ],
 "metadata": {
  "kernelspec": {
   "display_name": "Python 3.10.4 ('research')",
   "language": "python",
   "name": "python3"
  },
  "language_info": {
   "codemirror_mode": {
    "name": "ipython",
    "version": 3
   },
   "file_extension": ".py",
   "mimetype": "text/x-python",
   "name": "python",
   "nbconvert_exporter": "python",
   "pygments_lexer": "ipython3",
   "version": "3.10.4"
  },
  "vscode": {
   "interpreter": {
    "hash": "8fefc22b81b58a95d090389e6427ac7414ba2434182c3be0d4e0279b8ec28ded"
   }
  }
 },
 "nbformat": 4,
 "nbformat_minor": 5
}
