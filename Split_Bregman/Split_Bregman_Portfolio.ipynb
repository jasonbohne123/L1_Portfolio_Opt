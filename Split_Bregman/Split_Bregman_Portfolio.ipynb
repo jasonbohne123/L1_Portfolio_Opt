{
 "cells": [
  {
   "cell_type": "markdown",
   "id": "2a179af3-f55e-4e48-97d4-b0520be24774",
   "metadata": {},
   "source": [
    "### Biased Mean Variance Objective with Elastic Net Penalty Solved via Split Bregman \n"
   ]
  },
  {
   "cell_type": "code",
   "execution_count": 1,
   "id": "a682214e-97ce-49c4-9378-e3ce2345257b",
   "metadata": {},
   "outputs": [],
   "source": [
    "import sys\n",
    "import itertools\n",
    "import numpy as np\n",
    "import pandas as pd\n",
    "from scipy.optimize import minimize, Bounds, LinearConstraint\n",
    "from qpsolvers import solve_qp\n",
    "from scipy.sparse import csc_matrix\n",
    "import matplotlib.pyplot as plt\n",
    "\n",
    "path='/home/jbohn/jupyter/personal/L1_Portfolio_Opt'\n",
    "sys.path.append(path)\n",
    "\n",
    "from Features.features import load_features\n",
    "from Parameter_Estimation.bias_mean import reg_mean\n",
    "from Parameter_Estimation.bias_cov import reg_cov"
   ]
  },
  {
   "cell_type": "markdown",
   "id": "45a716ee",
   "metadata": {},
   "source": [
    "### Prep and Load Equity Data "
   ]
  },
  {
   "cell_type": "code",
   "execution_count": 2,
   "id": "adebbded-df83-4b35-844b-f5b889bedae6",
   "metadata": {},
   "outputs": [
    {
     "data": {
      "text/html": [
       "<div>\n",
       "<style scoped>\n",
       "    .dataframe tbody tr th:only-of-type {\n",
       "        vertical-align: middle;\n",
       "    }\n",
       "\n",
       "    .dataframe tbody tr th {\n",
       "        vertical-align: top;\n",
       "    }\n",
       "\n",
       "    .dataframe thead th {\n",
       "        text-align: right;\n",
       "    }\n",
       "</style>\n",
       "<table border=\"1\" class=\"dataframe\">\n",
       "  <thead>\n",
       "    <tr style=\"text-align: right;\">\n",
       "      <th></th>\n",
       "      <th>MMM</th>\n",
       "      <th>AOS</th>\n",
       "      <th>ABT</th>\n",
       "      <th>ABBV</th>\n",
       "      <th>ABMD</th>\n",
       "      <th>ACN</th>\n",
       "      <th>ATVI</th>\n",
       "      <th>ADM</th>\n",
       "      <th>ADBE</th>\n",
       "      <th>ADP</th>\n",
       "      <th>...</th>\n",
       "      <th>WTW</th>\n",
       "      <th>GWW</th>\n",
       "      <th>WYNN</th>\n",
       "      <th>XEL</th>\n",
       "      <th>XYL</th>\n",
       "      <th>YUM</th>\n",
       "      <th>ZBRA</th>\n",
       "      <th>ZBH</th>\n",
       "      <th>ZION</th>\n",
       "      <th>ZTS</th>\n",
       "    </tr>\n",
       "    <tr>\n",
       "      <th>Date</th>\n",
       "      <th></th>\n",
       "      <th></th>\n",
       "      <th></th>\n",
       "      <th></th>\n",
       "      <th></th>\n",
       "      <th></th>\n",
       "      <th></th>\n",
       "      <th></th>\n",
       "      <th></th>\n",
       "      <th></th>\n",
       "      <th></th>\n",
       "      <th></th>\n",
       "      <th></th>\n",
       "      <th></th>\n",
       "      <th></th>\n",
       "      <th></th>\n",
       "      <th></th>\n",
       "      <th></th>\n",
       "      <th></th>\n",
       "      <th></th>\n",
       "      <th></th>\n",
       "    </tr>\n",
       "  </thead>\n",
       "  <tbody>\n",
       "    <tr>\n",
       "      <th>2010-01-05</th>\n",
       "      <td>-0.006283</td>\n",
       "      <td>-0.012860</td>\n",
       "      <td>-0.008112</td>\n",
       "      <td>0.0</td>\n",
       "      <td>-0.024321</td>\n",
       "      <td>0.006161</td>\n",
       "      <td>0.001768</td>\n",
       "      <td>0.005387</td>\n",
       "      <td>0.016313</td>\n",
       "      <td>-0.005385</td>\n",
       "      <td>...</td>\n",
       "      <td>-0.002244</td>\n",
       "      <td>0.000411</td>\n",
       "      <td>0.059041</td>\n",
       "      <td>-0.011930</td>\n",
       "      <td>0.0</td>\n",
       "      <td>-0.003426</td>\n",
       "      <td>-0.001745</td>\n",
       "      <td>0.031165</td>\n",
       "      <td>0.034651</td>\n",
       "      <td>0.0</td>\n",
       "    </tr>\n",
       "    <tr>\n",
       "      <th>2010-01-06</th>\n",
       "      <td>0.014082</td>\n",
       "      <td>0.000454</td>\n",
       "      <td>0.005538</td>\n",
       "      <td>0.0</td>\n",
       "      <td>-0.015358</td>\n",
       "      <td>0.010575</td>\n",
       "      <td>-0.005314</td>\n",
       "      <td>-0.002532</td>\n",
       "      <td>-0.002124</td>\n",
       "      <td>-0.002350</td>\n",
       "      <td>...</td>\n",
       "      <td>0.015971</td>\n",
       "      <td>0.003796</td>\n",
       "      <td>-0.013204</td>\n",
       "      <td>0.001919</td>\n",
       "      <td>0.0</td>\n",
       "      <td>-0.007175</td>\n",
       "      <td>-0.007717</td>\n",
       "      <td>-0.000323</td>\n",
       "      <td>0.083382</td>\n",
       "      <td>0.0</td>\n",
       "    </tr>\n",
       "    <tr>\n",
       "      <th>2010-01-07</th>\n",
       "      <td>0.000717</td>\n",
       "      <td>0.002946</td>\n",
       "      <td>0.008250</td>\n",
       "      <td>0.0</td>\n",
       "      <td>0.000000</td>\n",
       "      <td>-0.000935</td>\n",
       "      <td>-0.024271</td>\n",
       "      <td>-0.010511</td>\n",
       "      <td>-0.019595</td>\n",
       "      <td>-0.000471</td>\n",
       "      <td>...</td>\n",
       "      <td>-0.002952</td>\n",
       "      <td>0.009377</td>\n",
       "      <td>0.021131</td>\n",
       "      <td>-0.004322</td>\n",
       "      <td>0.0</td>\n",
       "      <td>-0.000288</td>\n",
       "      <td>-0.025318</td>\n",
       "      <td>0.022681</td>\n",
       "      <td>0.106160</td>\n",
       "      <td>0.0</td>\n",
       "    </tr>\n",
       "    <tr>\n",
       "      <th>2010-01-08</th>\n",
       "      <td>0.007022</td>\n",
       "      <td>0.014602</td>\n",
       "      <td>0.005099</td>\n",
       "      <td>0.0</td>\n",
       "      <td>-0.020446</td>\n",
       "      <td>-0.003986</td>\n",
       "      <td>-0.008223</td>\n",
       "      <td>-0.012567</td>\n",
       "      <td>-0.005436</td>\n",
       "      <td>-0.001414</td>\n",
       "      <td>...</td>\n",
       "      <td>-0.001109</td>\n",
       "      <td>0.011700</td>\n",
       "      <td>-0.007191</td>\n",
       "      <td>0.000481</td>\n",
       "      <td>0.0</td>\n",
       "      <td>0.000288</td>\n",
       "      <td>-0.003256</td>\n",
       "      <td>-0.021228</td>\n",
       "      <td>-0.016320</td>\n",
       "      <td>0.0</td>\n",
       "    </tr>\n",
       "    <tr>\n",
       "      <th>2010-01-11</th>\n",
       "      <td>-0.004040</td>\n",
       "      <td>-0.004694</td>\n",
       "      <td>0.005073</td>\n",
       "      <td>0.0</td>\n",
       "      <td>-0.018394</td>\n",
       "      <td>-0.000940</td>\n",
       "      <td>-0.000918</td>\n",
       "      <td>0.000648</td>\n",
       "      <td>-0.013169</td>\n",
       "      <td>0.004469</td>\n",
       "      <td>...</td>\n",
       "      <td>0.009939</td>\n",
       "      <td>0.004203</td>\n",
       "      <td>-0.003245</td>\n",
       "      <td>0.009574</td>\n",
       "      <td>0.0</td>\n",
       "      <td>0.017133</td>\n",
       "      <td>0.003256</td>\n",
       "      <td>0.021860</td>\n",
       "      <td>0.006075</td>\n",
       "      <td>0.0</td>\n",
       "    </tr>\n",
       "  </tbody>\n",
       "</table>\n",
       "<p>5 rows × 497 columns</p>\n",
       "</div>"
      ],
      "text/plain": [
       "                 MMM       AOS       ABT  ABBV      ABMD       ACN      ATVI  \\\n",
       "Date                                                                           \n",
       "2010-01-05 -0.006283 -0.012860 -0.008112   0.0 -0.024321  0.006161  0.001768   \n",
       "2010-01-06  0.014082  0.000454  0.005538   0.0 -0.015358  0.010575 -0.005314   \n",
       "2010-01-07  0.000717  0.002946  0.008250   0.0  0.000000 -0.000935 -0.024271   \n",
       "2010-01-08  0.007022  0.014602  0.005099   0.0 -0.020446 -0.003986 -0.008223   \n",
       "2010-01-11 -0.004040 -0.004694  0.005073   0.0 -0.018394 -0.000940 -0.000918   \n",
       "\n",
       "                 ADM      ADBE       ADP  ...       WTW       GWW      WYNN  \\\n",
       "Date                                      ...                                 \n",
       "2010-01-05  0.005387  0.016313 -0.005385  ... -0.002244  0.000411  0.059041   \n",
       "2010-01-06 -0.002532 -0.002124 -0.002350  ...  0.015971  0.003796 -0.013204   \n",
       "2010-01-07 -0.010511 -0.019595 -0.000471  ... -0.002952  0.009377  0.021131   \n",
       "2010-01-08 -0.012567 -0.005436 -0.001414  ... -0.001109  0.011700 -0.007191   \n",
       "2010-01-11  0.000648 -0.013169  0.004469  ...  0.009939  0.004203 -0.003245   \n",
       "\n",
       "                 XEL  XYL       YUM      ZBRA       ZBH      ZION  ZTS  \n",
       "Date                                                                    \n",
       "2010-01-05 -0.011930  0.0 -0.003426 -0.001745  0.031165  0.034651  0.0  \n",
       "2010-01-06  0.001919  0.0 -0.007175 -0.007717 -0.000323  0.083382  0.0  \n",
       "2010-01-07 -0.004322  0.0 -0.000288 -0.025318  0.022681  0.106160  0.0  \n",
       "2010-01-08  0.000481  0.0  0.000288 -0.003256 -0.021228 -0.016320  0.0  \n",
       "2010-01-11  0.009574  0.0  0.017133  0.003256  0.021860  0.006075  0.0  \n",
       "\n",
       "[5 rows x 497 columns]"
      ]
     },
     "execution_count": 2,
     "metadata": {},
     "output_type": "execute_result"
    }
   ],
   "source": [
    "train_data,test_data=load_features(0.5)\n",
    "train_data.head()"
   ]
  },
  {
   "cell_type": "markdown",
   "id": "74e5108a-d783-4073-b3cf-a12ec63a445d",
   "metadata": {},
   "source": [
    "### Mean and covariance estimation from sample"
   ]
  },
  {
   "cell_type": "code",
   "execution_count": 3,
   "id": "4c7d11d7-6d2f-4aa4-b535-477a6329e70d",
   "metadata": {},
   "outputs": [],
   "source": [
    "returns_mean=train_data.mean().values\n",
    "returns_cov=np.cov(train_data.T)"
   ]
  },
  {
   "cell_type": "code",
   "execution_count": 4,
   "id": "4503906a-0734-4193-8ca3-45417b7bafaa",
   "metadata": {},
   "outputs": [
    {
     "data": {
      "text/plain": [
       "Text(0, 0.5, 'Freq')"
      ]
     },
     "execution_count": 4,
     "metadata": {},
     "output_type": "execute_result"
    },
    {
     "data": {
      "image/png": "[encoded data removed]",
      "text/plain": [
       "<Figure size 864x720 with 1 Axes>"
      ]
     },
     "metadata": {
      "needs_background": "light"
     },
     "output_type": "display_data"
    }
   ],
   "source": [
    "fig,ax=plt.subplots(figsize=(12,10))\n",
    "bins=plt.hist(train_data.mean(axis=1),bins=20)\n",
    "plt.title(\"Empirical Distribution of Mean Return per Day\")\n",
    "plt.xlabel(\"Daily Return across S&P 500\")\n",
    "plt.ylabel(\"Freq\")"
   ]
  },
  {
   "cell_type": "code",
   "execution_count": 5,
   "id": "6bce6777-38ba-4fca-b447-ba7565d05792",
   "metadata": {},
   "outputs": [
    {
     "data": {
      "text/plain": [
       "Text(0.5, 1.0, 'Singular Values of Covariance Matrix')"
      ]
     },
     "execution_count": 5,
     "metadata": {},
     "output_type": "execute_result"
    },
    {
     "data": {
      "image/png": "[encoded data removed]",
      "text/plain": [
       "<Figure size 864x720 with 1 Axes>"
      ]
     },
     "metadata": {
      "needs_background": "light"
     },
     "output_type": "display_data"
    }
   ],
   "source": [
    "u,s,v=np.linalg.svd(returns_cov)\n",
    "fig,ax=plt.subplots(figsize=(12,10))\n",
    "bins=plt.plot(s,marker='*',color='red',markersize=7.5,mfc='black',mec='black')\n",
    "plt.xlabel('Singular Values')\n",
    "plt.ylabel('Magnitude')\n",
    "plt.title(\"Singular Values of Covariance Matrix\")"
   ]
  },
  {
   "cell_type": "markdown",
   "id": "cb4b999e-f203-4331-950d-a144a2ccd5b6",
   "metadata": {},
   "source": [
    "### Regularized Mean and Covariance Estimators "
   ]
  },
  {
   "cell_type": "code",
   "execution_count": 6,
   "id": "d2dbc690",
   "metadata": {},
   "outputs": [
    {
     "data": {
      "text/plain": [
       "(1257, 497)"
      ]
     },
     "execution_count": 6,
     "metadata": {},
     "output_type": "execute_result"
    }
   ],
   "source": [
    "train_data.shape"
   ]
  },
  {
   "cell_type": "code",
   "execution_count": 7,
   "id": "b7fca589-d472-4b6b-9a53-c14ab9174517",
   "metadata": {},
   "outputs": [],
   "source": [
    "biased_mean=reg_mean(train_data,train_data.shape[0])\n",
    "\n",
    "biased_cov=reg_cov(train_data)"
   ]
  },
  {
   "cell_type": "markdown",
   "id": "c450a641-15c4-4962-acda-9446b17952e3",
   "metadata": {},
   "source": [
    "### Application of Sparse Solver Split Bregman Operator\n",
    "\n",
    "Utilizes nested optimization routine where\n",
    "- Inner Optimization is unconstrained QP problem involving L2 penalty\n",
    "    - Can solve numerically via constrained minimization and box constraints\n",
    "    - Solve analytically via closed form solution\n",
    "- Applies shrinkage (L1) penalty within outer loop\n",
    "\n",
    "\n",
    "Interesting results in normalization of w vector"
   ]
  },
  {
   "cell_type": "code",
   "execution_count": 8,
   "id": "e4089057-840a-4e01-be86-37de74378db2",
   "metadata": {},
   "outputs": [],
   "source": [
    "def qp(cov,mean,w,d,b,lb,ub,lambda2,approach,tol=10e-6,maxiter=25,verbose=True):\n",
    "    \"\"\" Inner optimization problem using unconstrained optimization \n",
    "        Approach \"numerical\" solves numerically via unconstrained minimization\n",
    "        Approach \"closed-form\" solves analytically via cvxopt within qpsolvers \n",
    "        Support for standard mean variance optimization (approach=2; pen=False)\n",
    "    \"\"\"\n",
    "    \n",
    "    # reinitialize unit starting point randomly to not get stuck in local minima\n",
    "    x0=w\n",
    "    \n",
    "\n",
    "    status=None\n",
    "\n",
    "    if approach==\"numerical\":\n",
    "        def objective_val(w,cov,mean,d,b,lambda2):\n",
    "            obj=np.dot(np.dot(w,cov+lambda2*np.diag(d-b)),w)-np.dot(w,mean)\n",
    "            \n",
    "            return obj\n",
    "        bounds=Bounds(lb,ub)\n",
    "        lc=LinearConstraint(np.ones(len(mean)),1,1)\n",
    "        res=minimize(objective_val,x0=x0,args=(cov,mean,d,b,lambda2),method='SLSQP',bounds=bounds,constraints=lc,options={'maxiter':maxiter},tol=tol)\n",
    "        w=res.x\n",
    "        status=res.status\n",
    "        \n",
    "    if approach==\"closed-form\":\n",
    "        w_old=w\n",
    "        \n",
    "        # define objective function with l2 penalty\n",
    "        quad=csc_matrix((cov+lambda2*np.diag(d-b)))\n",
    "        linear=-1*mean\n",
    "        \n",
    "        # constrain solution vector to be unit norm and non-negative\n",
    "        A=np.ones(len(mean))\n",
    "        constraint=np.array([1.0])\n",
    "\n",
    "        # set box constraints\n",
    "        lb_vec=lb*np.ones(len(mean))\n",
    "        ub_vec=ub*np.ones(len(mean))\n",
    "\n",
    "        w = solve_qp(quad,linear.reshape(len(linear),),A=A,b=constraint,initvals=x0, lb=lb_vec,ub=ub_vec,solver=\"cvxopt\")\n",
    "        status=\"solved\"\n",
    "\n",
    "        if w is None:\n",
    "            print(\"QP Optimization fails, Trying again\")\n",
    "            status=\"failed\"\n",
    "            return w_old,status\n",
    "    return w,status\n",
    "\n",
    "def shrinkage(w,b,lambda1,beta):\n",
    "    \"\"\" Applies one-sided soft-thresholding operator that is equivalent to L1 penalization \n",
    "    \"\"\"\n",
    "    \n",
    "    if lambda1==0:\n",
    "        return np.zeros(len(w))\n",
    "    x=beta*w+b\n",
    "    obj=np.fmax([np.abs(x)-(1/lambda1)],[np.zeros(len(w))])  \n",
    "    signed_obj=np.sign(x)*obj\n",
    "\n",
    "    return signed_obj[0]\n",
    "\n",
    "def split_bregman(cov,mean,lambda1,lambda2,lb,ub,beta=None,tol=1e-10,maxiter=100,approach=2,verbose=True):\n",
    "    \"\"\" Split Bregman Optimization Routine\n",
    "    \"\"\"\n",
    "\n",
    "    total_cost=1\n",
    "    n=len(mean)\n",
    "    if beta is None:\n",
    "        beta=np.ones(n)\n",
    "    \n",
    "    b=np.zeros(n)\n",
    "    w=np.random.rand(n)\n",
    "    w=w/np.linalg.norm(w,ord=1)\n",
    "    d=np.zeros(n)\n",
    "    \n",
    "    i=0\n",
    "    while total_cost>tol:\n",
    "        if i>maxiter:\n",
    "            if verbose:\n",
    "                print(\"MaxIter Achieved\")\n",
    "            break\n",
    "        \n",
    "        # solve qp problem either closed form or numerically\n",
    "        w,status=qp(cov,mean,w,d,b,lb,ub,lambda2,approach,tol,maxiter,verbose)\n",
    "        \n",
    "        if status==\"failed\":\n",
    "            w=w_old\n",
    "            break\n",
    " \n",
    "        # solve for sparse vector near previous optimal solution\n",
    "        d=shrinkage(w,b,lambda1,beta)\n",
    "        b=b+beta*w -d \n",
    "        i+=1\n",
    "\n",
    "        # compute total cost\n",
    "        total_cost=np.dot(np.dot(w,cov),w)-np.dot(w,mean)+(lambda1*np.sum(np.abs(w))+lambda2*np.sum((w)**2))/2\n",
    "        if verbose:\n",
    "            print(f\"Total Cost: {total_cost}\")\n",
    "        \n",
    "        w_old=w\n",
    "\n",
    "    if sum(abs(w))==0:\n",
    "        return w,total_cost\n",
    "\n",
    "    return w, total_cost"
   ]
  },
  {
   "cell_type": "markdown",
   "id": "50a4e2d5-343e-490e-a35c-21dd3d22a745",
   "metadata": {},
   "source": [
    "### Numerical Results\n",
    "\n",
    "Unit Tests\n",
    "- Solve for the optimal solution both via closed form solution and numerically via minimization \n",
    "- Compare optimal objective values and solution\n"
   ]
  },
  {
   "cell_type": "markdown",
   "id": "6b67b61d",
   "metadata": {},
   "source": [
    "### Test 1: Equal Penalties Closed Form and Numerically"
   ]
  },
  {
   "cell_type": "code",
   "execution_count": 9,
   "id": "a35c47f7-3531-43c5-a3cf-19907f53cbcf",
   "metadata": {},
   "outputs": [
    {
     "name": "stdout",
     "output_type": "stream",
     "text": [
      "Total Cost: 119.12615746475076\n",
      "Total Cost: 139.2176230704294\n",
      "Total Cost: 74.71520729948831\n",
      "Total Cost: 37.92167139145341\n",
      "Total Cost: 74.67481051669876\n",
      "Total Cost: 6.057876621370828\n",
      "Total Cost: 74.26992444310969\n",
      "Total Cost: 5.908625339334444\n",
      "Total Cost: 74.25488040552594\n",
      "Total Cost: 6.034562118960941\n",
      "Total Cost: 74.24823473452152\n",
      "Total Cost: 6.043354204209881\n",
      "Total Cost: 74.247884945034\n",
      "Total Cost: 6.05494445069802\n",
      "Total Cost: 74.24788481315824\n",
      "Total Cost: 6.055006276082356\n",
      "Total Cost: 74.2478848159617\n",
      "Total Cost: 6.055005068975078\n",
      "Total Cost: 74.24788481591541\n",
      "Total Cost: 6.055005063344313\n",
      "Total Cost: 74.24788481590063\n",
      "Total Cost: 6.055005097323604\n",
      "Total Cost: 74.24788481591322\n",
      "Total Cost: 6.0550050675547125\n",
      "Total Cost: 74.24788481591524\n",
      "Total Cost: 6.05500506788248\n",
      "MaxIter Achieved\n"
     ]
    },
    {
     "data": {
      "text/plain": [
       "array([-1.85755438e-04,  1.04514859e-04, -2.32877943e-04, -1.77718269e-04,\n",
       "        1.64798765e-04, -1.54078492e-04, -2.27828102e-04, -2.73202055e-04,\n",
       "       -2.02362660e-04, -1.26784886e-04,  1.48804306e-04, -5.20713522e-04,\n",
       "       -4.15300827e-04, -2.55504119e-04, -2.51531775e-04, -1.13076386e-04,\n",
       "        3.76064112e-04, -3.20329504e-04, -3.57468993e-04,  1.38238843e-02,\n",
       "       -4.03158565e-04, -1.24794079e-04, -1.14333771e-04, -2.60125146e-04,\n",
       "       -2.62969544e-04,  1.40706478e-02, -1.20434945e-04, -2.81138253e-04,\n",
       "       -1.17548820e-03, -2.52640580e-04,  5.85020353e-04, -2.26286754e-04,\n",
       "       -1.32335147e-04, -2.40825617e-04, -1.13265748e-04, -8.60211139e-05,\n",
       "        1.45873627e-02,  7.77457746e-05,  1.44651644e-02,  1.42776931e-02,\n",
       "       -1.22625134e-04, -2.52226409e-04, -2.29611395e-04, -7.24746808e-05,\n",
       "       -7.79103763e-04,  1.04310822e-04, -2.59564630e-04,  9.50326738e-05,\n",
       "        1.39250395e-02, -4.19172963e-04, -1.49147042e-04, -1.24176774e-04,\n",
       "       -4.12832963e-04, -1.97529483e-04, -1.39530424e-04,  1.58527863e-04,\n",
       "       -1.75008637e-04, -3.60655947e-04, -3.87838730e-04,  1.39698709e-02,\n",
       "       -4.85468538e-04,  1.89325240e-04, -3.90583416e-04, -2.25581698e-04,\n",
       "       -1.48005939e-04, -5.28822805e-04, -4.10075831e-04, -3.63062161e-04,\n",
       "        3.54856292e-04, -3.39974018e-04, -3.54752918e-04, -1.21178612e-04,\n",
       "        2.43370402e-04,  1.44084164e-02, -2.03929595e-04, -3.35416051e-04,\n",
       "       -9.70858817e-05,  2.63538547e-04, -1.67864559e-04, -2.18070210e-04,\n",
       "       -3.95517602e-04,  1.44874146e-02, -4.97167454e-04, -2.37012225e-04,\n",
       "       -3.61229201e-04, -1.73997555e-04, -7.44731241e-05, -4.26600684e-05,\n",
       "       -3.61790498e-04, -3.04084527e-04, -3.18167307e-04, -1.77124761e-04,\n",
       "       -1.17326306e-04, -1.58944148e-04, -2.72914328e-04,  2.16046896e-04,\n",
       "       -2.71649898e-04, -4.60352701e-04,  1.40843416e-02, -2.10913683e-04,\n",
       "       -3.30634391e-04,  2.36068517e-04, -3.42676153e-04,  4.47758530e-04,\n",
       "       -1.04029102e-04,  1.41296918e-02,  1.41149233e-02, -1.93150667e-04,\n",
       "        1.45497596e-02, -4.55028077e-04, -3.26000577e-04, -4.26621918e-04,\n",
       "       -2.33692659e-04, -3.92308218e-04, -1.18586761e-04, -3.02890827e-04,\n",
       "       -1.40656869e-04, -2.44100547e-04,  1.52451800e-02, -3.24007440e-04,\n",
       "       -2.73323760e-04, -2.52375178e-04, -3.03022265e-04,  3.37906906e-04,\n",
       "        1.79054523e-04, -1.76295181e-04, -4.51601029e-04, -4.60352758e-04,\n",
       "        1.71133286e-04, -8.05476667e-05, -8.40329461e-05, -1.76399821e-04,\n",
       "       -1.44130262e-04,  1.40802111e-02,  1.46341644e-02, -1.46211606e-04,\n",
       "       -1.27346866e-04, -2.62420241e-04,  1.38496052e-02, -3.03313168e-04,\n",
       "        1.67214801e-04, -3.21670755e-04, -6.29383077e-04,  3.42587622e-04,\n",
       "        1.01605373e-04, -3.71415083e-04,  1.80607635e-04,  1.50103028e-02,\n",
       "        1.44172870e-02,  1.49040773e-02,  2.05734974e-04, -1.65761998e-04,\n",
       "        5.95590303e-04, -1.91808003e-04, -4.60352738e-04, -1.67386793e-04,\n",
       "       -2.46745286e-04, -3.28621763e-04, -4.85354822e-04, -1.09180791e-04,\n",
       "       -1.80053339e-04, -1.16223411e-04, -1.07888046e-04, -1.89894826e-04,\n",
       "        1.42940171e-02, -7.52518607e-05, -1.57758766e-04, -1.79318849e-04,\n",
       "       -3.54539715e-04, -1.84510845e-04, -4.59081200e-04, -2.44521956e-04,\n",
       "        9.77111890e-05, -2.73368847e-04, -6.45153063e-05, -1.77002872e-04,\n",
       "       -1.47447459e-04, -7.32186590e-05,  1.46840858e-02, -4.60352755e-04,\n",
       "       -1.71767333e-04, -1.90610763e-04, -1.46187107e-04, -6.17617637e-04,\n",
       "       -2.83874457e-04, -4.05560672e-04,  2.35647756e-04, -3.66329118e-04,\n",
       "       -1.22439206e-04, -1.59098643e-04, -1.33489440e-04, -1.76587075e-04,\n",
       "       -1.74789146e-04, -2.04069509e-04, -1.99900396e-04, -5.74672280e-04,\n",
       "        1.39494761e-02,  1.44230539e-02,  3.00772590e-04, -1.93089694e-04,\n",
       "       -3.36353095e-04,  1.44999211e-02, -4.60352743e-04,  1.06240588e-04,\n",
       "       -4.60352696e-04, -4.60352705e-04, -3.31048713e-04, -8.22430152e-04,\n",
       "       -2.71914142e-04,  1.97884804e-04, -3.57376965e-04,  1.50010955e-02,\n",
       "       -1.87161438e-04, -2.83112117e-04, -2.88955378e-04, -5.04933127e-04,\n",
       "        1.42645361e-02,  1.87232122e-04,  1.40702547e-02, -3.09755717e-04,\n",
       "       -4.68337703e-04, -4.30858916e-04, -2.89282211e-04, -2.56145806e-04,\n",
       "       -9.27801447e-05, -3.27907878e-04, -6.57990460e-05,  1.47980039e-02,\n",
       "       -4.60212947e-04, -4.60352706e-04, -3.74123017e-04, -2.42535094e-04,\n",
       "        1.08148379e-04, -9.46833979e-05,  1.44107716e-02, -2.11160538e-04,\n",
       "       -4.60352697e-04, -6.44267685e-04,  1.47254410e-02,  1.38885504e-02,\n",
       "        1.48616151e-02, -4.07534838e-04, -1.03442272e-04,  1.41164915e-02,\n",
       "       -2.03841647e-04,  3.24704021e-04,  4.14291506e-04, -4.60352695e-04,\n",
       "       -2.45679360e-04, -1.98276921e-04, -2.05973944e-04, -5.96726889e-05,\n",
       "       -9.47907203e-05,  1.45659762e-02, -2.57647485e-04, -3.02386743e-04,\n",
       "       -4.60352694e-04, -3.08374284e-04, -2.20681431e-04, -6.98217063e-05,\n",
       "       -6.15940168e-05, -4.62214984e-04, -2.60946360e-04, -9.19296896e-05,\n",
       "       -3.48407695e-04, -6.25776889e-04, -3.82775274e-04,  1.38979233e-02,\n",
       "       -1.31609636e-04, -3.76221257e-04, -1.84434084e-04, -2.34371214e-04,\n",
       "       -3.43415312e-04, -2.21465301e-04, -4.60352759e-04,  1.51323010e-02,\n",
       "       -3.34053621e-04, -3.33676545e-04, -2.02938937e-04, -4.60352695e-04,\n",
       "        1.46020731e-02, -5.42551956e-04,  1.45686790e-02, -1.79591801e-04,\n",
       "       -2.86459309e-04, -3.90993766e-05,  1.40258559e-02,  1.39268754e-02,\n",
       "       -4.53322953e-04,  1.44941214e-02, -4.57495840e-04,  1.48874878e-02,\n",
       "       -2.17138529e-04, -3.43461469e-04, -8.83627897e-05,  2.44963316e-04,\n",
       "        1.42446068e-02,  1.40010112e-02, -4.32251189e-04, -2.82409849e-04,\n",
       "        1.48778270e-02,  1.45186354e-02, -1.53365569e-04, -2.96838898e-04,\n",
       "        1.51438253e-02, -2.71513245e-04, -2.92730173e-04, -1.38304107e-04,\n",
       "       -3.54506521e-04,  1.41007976e-02, -1.83599845e-04, -3.09135211e-04,\n",
       "        1.38044987e-02, -3.11757135e-04, -2.97223478e-04, -4.60352755e-04,\n",
       "        1.43595204e-02,  1.44679822e-02, -2.71253021e-04, -3.57540605e-04,\n",
       "       -1.86543450e-04,  2.97298946e-04,  1.50242891e-02, -4.40081456e-04,\n",
       "       -6.70385392e-04, -1.59323814e-04, -3.35509722e-04, -1.14541754e-04,\n",
       "       -4.31362664e-04,  3.54997273e-04, -8.46749686e-05, -9.40761820e-04,\n",
       "       -4.71722883e-04, -4.81400043e-04, -1.61139596e-04,  1.44687731e-02,\n",
       "        1.43804097e-02, -1.08656629e-04, -1.70736437e-04, -3.99619867e-04,\n",
       "        1.44228858e-02, -1.68642117e-04, -4.52432069e-04, -5.11708627e-04,\n",
       "       -4.98346402e-04, -2.26023074e-04,  2.56489240e-04,  2.63009891e-04,\n",
       "       -5.20457698e-04,  3.13761643e-04, -1.98357680e-04, -4.73731962e-04,\n",
       "       -7.94533247e-05, -2.35715470e-04, -2.39074390e-04,  1.49153736e-02,\n",
       "        1.52815751e-02, -1.26878691e-04, -3.12357632e-04, -2.06536203e-04,\n",
       "       -4.60352695e-04, -2.02365920e-04, -2.77771539e-04, -1.64893492e-04,\n",
       "       -2.62181344e-04, -3.99807168e-04, -2.55429998e-04, -1.25802770e-04,\n",
       "       -2.00284367e-04,  1.37412265e-02, -2.70033666e-04,  1.47773310e-02,\n",
       "        1.11992213e-04, -4.31121889e-04, -1.98782257e-04, -2.93727511e-04,\n",
       "       -3.14767884e-04, -2.82567872e-04, -2.77820929e-04, -3.93715615e-04,\n",
       "       -1.64479001e-04, -1.12363008e-04, -2.04708721e-04, -4.60352756e-04,\n",
       "       -3.90532145e-04, -2.93895979e-04, -4.53619717e-04, -1.32732057e-04,\n",
       "       -1.29559115e-04, -2.89196128e-04, -2.15351318e-04, -2.30285105e-04,\n",
       "        7.69168720e-04, -2.33859262e-04, -3.40475169e-04, -1.52328742e-04,\n",
       "       -1.68807604e-04, -1.37916490e-04, -7.97594584e-05,  1.44483144e-02,\n",
       "        2.01849885e-04,  1.39336833e-02,  1.39109906e-02,  1.41877873e-02,\n",
       "        1.49922619e-02, -4.16667682e-04,  1.46225786e-02, -2.12342204e-04,\n",
       "       -1.67785030e-04,  1.43314670e-02,  1.82954847e-04,  1.24466756e-04,\n",
       "       -8.74852673e-05,  2.05369799e-04, -2.61259663e-04,  1.46846186e-02,\n",
       "       -4.60352697e-04, -2.92272737e-04,  1.13344436e-04, -2.44242160e-04,\n",
       "        1.53036388e-02, -2.58204291e-04, -1.20905893e-04, -2.28798182e-04,\n",
       "       -6.54973874e-05, -3.39344918e-04, -1.90976966e-04, -3.27901481e-04,\n",
       "       -2.83822500e-04, -3.19683885e-04, -5.51733303e-05, -5.10275463e-04,\n",
       "        1.87651949e-04, -2.81606183e-04, -8.53207874e-05, -7.40779533e-05,\n",
       "       -1.62424571e-04, -2.66483284e-04,  5.18714863e-04, -1.75009698e-04,\n",
       "       -1.72352207e-04, -5.81506020e-05,  1.31083784e-04,  3.19401625e-04,\n",
       "       -1.60628760e-04,  1.37620492e-04, -1.44079570e-04, -1.87105026e-04,\n",
       "       -3.27634016e-04,  2.75837406e-04,  1.50922448e-02, -1.97582454e-04,\n",
       "       -2.08887699e-04,  3.77911303e-04,  9.38704158e-05,  2.47968913e-04,\n",
       "       -1.96439196e-04,  5.08315745e-04,  1.49026894e-02,  8.68197511e-05,\n",
       "        1.40774624e-02, -2.68522693e-04, -1.13810698e-04, -1.29585111e-04,\n",
       "       -2.96055003e-04, -5.06242545e-05,  1.54107945e-04,  1.44308360e-02,\n",
       "       -4.60352698e-04,  1.44812613e-02, -2.71451699e-04, -4.27902759e-04,\n",
       "        1.45230676e-04, -1.59965926e-04, -2.64319815e-04, -1.48668595e-04,\n",
       "       -3.07289227e-04, -2.35222301e-04, -1.32375658e-04, -1.95945166e-04,\n",
       "       -2.45435800e-04,  1.40455509e-02, -1.07623512e-04, -4.60352758e-04,\n",
       "       -6.21320212e-04, -1.28543764e-04, -8.30346190e-05, -2.52950260e-04,\n",
       "       -5.72500225e-05, -1.42652077e-04, -2.34716956e-04, -2.70063944e-04,\n",
       "       -1.60883291e-04, -4.77109458e-05, -2.06350099e-04, -1.79172753e-04,\n",
       "       -3.12855278e-04])"
      ]
     },
     "execution_count": 9,
     "metadata": {},
     "output_type": "execute_result"
    }
   ],
   "source": [
    "lambda1=10\n",
    "lambda2=10\n",
    "w_numerical,error_numerical=split_bregman(biased_cov,biased_mean,lb=-0.05,ub=0.1,lambda1=lambda1,lambda2=lambda2,tol=1e-6,maxiter=25,approach=\"numerical\",verbose=True)\n",
    "w_numerical"
   ]
  },
  {
   "cell_type": "code",
   "execution_count": 10,
   "id": "32fe6c81",
   "metadata": {},
   "outputs": [
    {
     "name": "stdout",
     "output_type": "stream",
     "text": [
      "Total Cost: 177.41927250956292\n",
      "QP Optimization fails, Trying again\n"
     ]
    },
    {
     "data": {
      "text/plain": [
       "array([-0.04999984,  0.09999994, -0.04999991, -0.04999984,  0.09999994,\n",
       "       -0.04999966, -0.04999991, -0.04999993, -0.04999988, -0.04999817,\n",
       "        0.09999995, -0.04999997, -0.04999996, -0.04999993, -0.04999992,\n",
       "       -0.049118  ,  0.09999997, -0.04999995, -0.04999995,  0.09999943,\n",
       "       -0.04999996, -0.01111307,  0.09829625, -0.04999993, -0.04999993,\n",
       "        0.09999979, -0.04999959, -0.04999993, -0.04999999, -0.04999991,\n",
       "        0.09999998, -0.04999988, -0.04999865, -0.0499999 , -0.04998565,\n",
       "        0.09999954,  0.0999999 ,  0.09999993,  0.09999987,  0.09999982,\n",
       "       -0.04999301, -0.04999992, -0.04999991,  0.09999962, -0.04999998,\n",
       "        0.09999994, -0.04999992,  0.09999994,  0.09999973, -0.04999996,\n",
       "       -0.04999972, -0.02356496, -0.04999996, -0.04999986, -0.0499996 ,\n",
       "        0.09999995, -0.04999975, -0.04999995, -0.04999995,  0.09999976,\n",
       "       -0.04999997,  0.09999996, -0.04999996, -0.0499999 , -0.0499996 ,\n",
       "       -0.04999997, -0.04999996, -0.04999996,  0.09999997, -0.04999995,\n",
       "       -0.04999995, -0.04999567,  0.09999996,  0.09999986, -0.04999986,\n",
       "       -0.04999995,  0.09998104,  0.09999996, -0.0499998 , -0.0499999 ,\n",
       "       -0.04999996,  0.09999988, -0.04999997, -0.0499999 , -0.04999995,\n",
       "       -0.04999979,  0.0999994 ,  0.09999954, -0.04999995, -0.04999994,\n",
       "       -0.04999994, -0.04999985, -0.0079613 , -0.04999973, -0.04999993,\n",
       "        0.09999995, -0.04999993, -0.04999997,  0.09999981, -0.0499999 ,\n",
       "       -0.04999995,  0.09999996, -0.04999995,  0.09999998,  0.09999736,\n",
       "        0.09999979,  0.09999982, -0.04999985,  0.09999988, -0.04999997,\n",
       "       -0.04999994, -0.04999996, -0.04999991, -0.04999996,  0.099999  ,\n",
       "       -0.04999994, -0.04999923, -0.04999991,  0.09999993, -0.04999994,\n",
       "       -0.04999993, -0.04999991, -0.04999993,  0.09999997,  0.09999995,\n",
       "       -0.04999984, -0.04999997, -0.04999997,  0.09999995,  0.09999954,\n",
       "        0.07675403, -0.04999984, -0.04999954,  0.09999983,  0.09999989,\n",
       "       -0.04999951, -0.04999888, -0.04999993,  0.09999965, -0.04999994,\n",
       "        0.09999994, -0.04999995, -0.04999998,  0.09999997,  0.09999994,\n",
       "       -0.04999995,  0.09999996,  0.09999992,  0.09999987,  0.0999999 ,\n",
       "        0.09999996, -0.04999965,  0.09999998, -0.04999987, -0.04999997,\n",
       "       -0.04999971, -0.0499999 , -0.04999995, -0.04999997, -0.03606165,\n",
       "       -0.04999985, -0.0499939 ,  0.02671595, -0.04999981,  0.09999984,\n",
       "        0.0854797 , -0.0499998 , -0.04999982, -0.04999995, -0.04999984,\n",
       "       -0.04999996, -0.04999991,  0.09999993, -0.04999993,  0.09999963,\n",
       "       -0.04999984, -0.0499991 ,  0.09999968,  0.09999989, -0.04999997,\n",
       "       -0.04999979, -0.04999984, -0.04999854, -0.04999998, -0.04999994,\n",
       "       -0.04999996,  0.09999996, -0.04999995, -0.04999924, -0.04999977,\n",
       "       -0.04999962, -0.0499998 , -0.04999984, -0.04999985, -0.04999987,\n",
       "       -0.04999997,  0.09999975,  0.09999987,  0.09999997, -0.04999987,\n",
       "       -0.04999995,  0.09999989, -0.04999997,  0.09999994, -0.04999997,\n",
       "       -0.04999997, -0.04999995, -0.04999998, -0.04999993,  0.09999996,\n",
       "       -0.04999995,  0.09999991, -0.04999985, -0.04999993, -0.04999993,\n",
       "       -0.04999997,  0.09999984,  0.09999995,  0.09999981, -0.04999995,\n",
       "       -0.04999997, -0.04999996, -0.04999993, -0.04999993,  0.03770704,\n",
       "       -0.04999994,  0.09999962,  0.0999999 , -0.04999996, -0.04999997,\n",
       "       -0.04999996, -0.04999992,  0.09999994,  0.09992082,  0.09999987,\n",
       "       -0.04999988, -0.04999997, -0.04999998,  0.0999999 ,  0.0999998 ,\n",
       "        0.0999999 , -0.04999996, -0.04989372,  0.09999979, -0.04999988,\n",
       "        0.09999997,  0.09999997, -0.04999997, -0.04999991, -0.04999987,\n",
       "       -0.04999988,  0.09999611,  0.09995743,  0.09999988, -0.04999993,\n",
       "       -0.04999994, -0.04999997, -0.04999994, -0.04999989,  0.09999911,\n",
       "        0.09999966, -0.04999997, -0.04999992,  0.09999574, -0.04999995,\n",
       "       -0.04999998, -0.04999996,  0.0999997 , -0.04959818, -0.04999996,\n",
       "       -0.04999983, -0.0499999 , -0.04999995, -0.0499999 , -0.04999997,\n",
       "        0.09999992, -0.04999995, -0.04999995, -0.04999988, -0.04999997,\n",
       "        0.09999989, -0.04999997,  0.09999989, -0.04999981, -0.04999993,\n",
       "        0.09999866,  0.09999974,  0.09999974, -0.04999997,  0.09999987,\n",
       "       -0.04999997,  0.09999991, -0.04999987, -0.04999995,  0.08117682,\n",
       "        0.09999996,  0.09999984,  0.09999977, -0.04999996, -0.04999994,\n",
       "        0.09999991,  0.09999987, -0.04999966, -0.04999994,  0.09999992,\n",
       "       -0.04999993, -0.04999994, -0.04999962, -0.04999995,  0.0999998 ,\n",
       "       -0.04999987, -0.04999994,  0.09999969, -0.04999994, -0.04999994,\n",
       "       -0.04999997,  0.09999985,  0.09999986, -0.04999993, -0.04999995,\n",
       "       -0.04999986,  0.09999997,  0.09999992, -0.04999996, -0.04999998,\n",
       "       -0.04999974, -0.04999995, -0.02339811, -0.04999996,  0.09999997,\n",
       "        0.09082743, -0.04999999, -0.04999997, -0.04999997, -0.0499995 ,\n",
       "        0.09999986,  0.09999987, -0.04940438, -0.04999981, -0.04999996,\n",
       "        0.09999987, -0.04999981, -0.04999996, -0.04999997, -0.04999997,\n",
       "       -0.0499999 ,  0.09999996,  0.09999997, -0.04999997,  0.09999997,\n",
       "       -0.04999988, -0.04999997,  0.0999992 , -0.04999991, -0.04999991,\n",
       "        0.09999991,  0.09999993, -0.04999774, -0.04999994, -0.04999987,\n",
       "       -0.04999997, -0.04999989, -0.04999993, -0.0499998 , -0.04999992,\n",
       "       -0.04999996, -0.04999992, -0.04999818, -0.04999985,  0.09999968,\n",
       "       -0.04999992,  0.09999989,  0.09999994, -0.04999996, -0.04999985,\n",
       "       -0.04999993, -0.04999994, -0.04999993, -0.04999993, -0.04999996,\n",
       "       -0.04999975,  0.08542813, -0.04999988, -0.04999997, -0.04999996,\n",
       "       -0.04999994, -0.04999997, -0.04999965, -0.04999855, -0.04999994,\n",
       "       -0.04999988, -0.0499999 ,  0.09999999, -0.04999988, -0.04999995,\n",
       "       -0.04999972, -0.04999981, -0.04999939,  0.09999906,  0.09999988,\n",
       "        0.09999996,  0.0999998 ,  0.09999974,  0.09999982,  0.09999991,\n",
       "       -0.04999996,  0.09999991, -0.04999989, -0.04999973,  0.09999981,\n",
       "        0.09999996,  0.09999995,  0.09999952,  0.09999995, -0.04999993,\n",
       "        0.0999999 , -0.04999997, -0.04999993,  0.09999994, -0.04999992,\n",
       "        0.09999992, -0.04999992, -0.04999853, -0.04999991,  0.09999926,\n",
       "       -0.04999995, -0.04999987, -0.04999995, -0.04999993, -0.04999994,\n",
       "        0.09911861, -0.04999997,  0.09999996, -0.04999993,  0.09999222,\n",
       "        0.09999866, -0.04999981, -0.04999993,  0.09999998, -0.04999982,\n",
       "       -0.04999984,  0.09999967,  0.09999995,  0.09999997, -0.04999978,\n",
       "        0.09999995, -0.04999934, -0.04999986, -0.04999994,  0.09999997,\n",
       "        0.09999992, -0.04999984, -0.04999988,  0.09999997,  0.09999994,\n",
       "        0.09999995, -0.04999987,  0.09999998,  0.09999991,  0.09999993,\n",
       "        0.09999981, -0.04999992, -0.04999618, -0.0499994 , -0.04999994,\n",
       "        0.01974067,  0.09999995,  0.09999986, -0.04999997,  0.09999988,\n",
       "       -0.04999992, -0.04999996,  0.09999995, -0.04999975, -0.04999992,\n",
       "       -0.04999975, -0.04999994, -0.04999992, -0.01553257, -0.04999982,\n",
       "       -0.04999991,  0.09999977, -0.03547132, -0.04999997, -0.04999998,\n",
       "       -0.04999928,  0.09997618, -0.04999992,  0.09999971, -0.04999979,\n",
       "       -0.04999989, -0.04999993, -0.04999982,  0.09999969, -0.04999988,\n",
       "       -0.04999975, -0.04999994])"
      ]
     },
     "execution_count": 10,
     "metadata": {},
     "output_type": "execute_result"
    }
   ],
   "source": [
    "lambda1=10\n",
    "lambda2=10\n",
    "w_cf,error_cf=split_bregman(biased_cov,biased_mean,lb=-0.05,ub=0.1,lambda1=lambda1,lambda2=lambda2,tol=1e-6,maxiter=25,approach=\"closed-form\",verbose=True)\n",
    "w_cf"
   ]
  },
  {
   "cell_type": "markdown",
   "id": "286630b7",
   "metadata": {},
   "source": [
    "### Comparisons of Optimal Solution"
   ]
  },
  {
   "cell_type": "code",
   "execution_count": 11,
   "id": "750ad876",
   "metadata": {},
   "outputs": [],
   "source": [
    "cutoff_threshold=0.001"
   ]
  },
  {
   "cell_type": "code",
   "execution_count": 14,
   "id": "62f68dd6",
   "metadata": {},
   "outputs": [
    {
     "data": {
      "text/plain": [
       "Text(0, 0.5, 'Weight Allocation')"
      ]
     },
     "execution_count": 14,
     "metadata": {},
     "output_type": "execute_result"
    },
    {
     "data": {
      "image/png": "[encoded data removed]",
      "text/plain": [
       "<Figure size 720x576 with 1 Axes>"
      ]
     },
     "metadata": {
      "needs_background": "light"
     },
     "output_type": "display_data"
    }
   ],
   "source": [
    "optimal_numerical=np.where(abs(w_numerical)>cutoff_threshold)[0]\n",
    "fig,ax=plt.subplots(figsize=(10,8))\n",
    "plt.title(\"Optimal Portfolio Components for \")\n",
    "ax.stem(optimal_numerical,w_numerical[optimal_numerical],markerfmt='o',use_line_collection=True)\n",
    "ax.set_xlabel(f\"{len(optimal_numerical)}  Optimal Numerical Allocation\")\n",
    "ax.set_ylabel(\"Weight Allocation\")"
   ]
  },
  {
   "cell_type": "code",
   "execution_count": 15,
   "id": "105f851a-18a3-4fa2-aa5a-df4cb71d1aba",
   "metadata": {},
   "outputs": [
    {
     "data": {
      "text/plain": [
       "Text(0, 0.5, 'Weight Allocation')"
      ]
     },
     "execution_count": 15,
     "metadata": {},
     "output_type": "execute_result"
    },
    {
     "data": {
      "image/png": "[encoded data removed]",
      "text/plain": [
       "<Figure size 720x576 with 1 Axes>"
      ]
     },
     "metadata": {
      "needs_background": "light"
     },
     "output_type": "display_data"
    }
   ],
   "source": [
    "optimal_cf=np.where(abs(w_cf)>cutoff_threshold)[0]\n",
    "fig,ax=plt.subplots(figsize=(10,8))\n",
    "plt.title(\"Optimal Portfolio Components for \")\n",
    "ax.stem(optimal_cf,w_cf[optimal_cf],markerfmt='o',use_line_collection=True)\n",
    "ax.set_xlabel(f\"{len(optimal_cf)}  Optimal Numerical Allocation\")\n",
    "ax.set_ylabel(\"Weight Allocation\")"
   ]
  },
  {
   "cell_type": "markdown",
   "id": "68c5e945-e90a-468e-9202-b4df8e141797",
   "metadata": {},
   "source": [
    "### Grid Search for Optimal Lambda Values \n",
    "- Cross valaidate optimal $\\lambda_1$ and $\\lambda_2$ parameters representing L1 and L2 regularization"
   ]
  },
  {
   "cell_type": "code",
   "execution_count": 16,
   "id": "364d03c8-4e3c-4c55-9a67-9b0ec2d98455",
   "metadata": {},
   "outputs": [
    {
     "name": "stdout",
     "output_type": "stream",
     "text": [
      " lambda1: 0.0001 lambda2: 0.0001 error: -0.0016405\n",
      " lambda1: 0.0001 lambda2: 0.0032 error: -0.00103341\n",
      "QP Optimization fails, Trying again\n",
      " lambda1: 0.0001 lambda2: 0.1 error: 0.0181645\n",
      "QP Optimization fails, Trying again\n",
      " lambda1: 0.0001 lambda2: 3.1623 error: 0.62525568\n"
     ]
    },
    {
     "ename": "ValueError",
     "evalue": "Rank(A) < p or Rank([P; A; G]) < n",
     "output_type": "error",
     "traceback": [
      "\u001b[0;31m---------------------------------------------------------------------------\u001b[0m",
      "\u001b[0;31mArithmeticError\u001b[0m                           Traceback (most recent call last)",
      "File \u001b[0;32m~/miniconda3/envs/research/lib/python3.10/site-packages/cvxopt/misc.py:1429\u001b[0m, in \u001b[0;36mkkt_chol2.<locals>.factor\u001b[0;34m(W, H, Df)\u001b[0m\n\u001b[1;32m   1428\u001b[0m \u001b[39mif\u001b[39;00m \u001b[39mtype\u001b[39m(F[\u001b[39m'\u001b[39m\u001b[39mS\u001b[39m\u001b[39m'\u001b[39m]) \u001b[39mis\u001b[39;00m matrix: \n\u001b[0;32m-> 1429\u001b[0m     lapack\u001b[39m.\u001b[39;49mpotrf(F[\u001b[39m'\u001b[39;49m\u001b[39mS\u001b[39;49m\u001b[39m'\u001b[39;49m]) \n\u001b[1;32m   1430\u001b[0m \u001b[39melse\u001b[39;00m:\n",
      "\u001b[0;31mArithmeticError\u001b[0m: 31",
      "\nDuring handling of the above exception, another exception occurred:\n",
      "\u001b[0;31mArithmeticError\u001b[0m                           Traceback (most recent call last)",
      "File \u001b[0;32m~/miniconda3/envs/research/lib/python3.10/site-packages/cvxopt/coneprog.py:2256\u001b[0m, in \u001b[0;36mconeqp\u001b[0;34m(P, q, G, h, dims, A, b, initvals, kktsolver, xnewcopy, xdot, xaxpy, xscal, ynewcopy, ydot, yaxpy, yscal, **kwargs)\u001b[0m\n\u001b[1;32m   2247\u001b[0m \u001b[39m# f3(x, y, z) solves\u001b[39;00m\n\u001b[1;32m   2248\u001b[0m \u001b[39m#\u001b[39;00m\n\u001b[1;32m   2249\u001b[0m \u001b[39m#    [ P   A'  G'    ] [ ux        ]   [ bx ]\u001b[39;00m\n\u001b[0;32m   (...)\u001b[0m\n\u001b[1;32m   2253\u001b[0m \u001b[39m# On entry, x, y, z containg bx, by, bz.\u001b[39;00m\n\u001b[1;32m   2254\u001b[0m \u001b[39m# On exit, they contain ux, uy, uz.\u001b[39;00m\n\u001b[0;32m-> 2256\u001b[0m \u001b[39mtry\u001b[39;00m: f3 \u001b[39m=\u001b[39m kktsolver(W)\n\u001b[1;32m   2257\u001b[0m \u001b[39mexcept\u001b[39;00m \u001b[39mArithmeticError\u001b[39;00m:\n",
      "File \u001b[0;32m~/miniconda3/envs/research/lib/python3.10/site-packages/cvxopt/coneprog.py:1981\u001b[0m, in \u001b[0;36mconeqp.<locals>.kktsolver\u001b[0;34m(W)\u001b[0m\n\u001b[1;32m   1980\u001b[0m \u001b[39mdef\u001b[39;00m \u001b[39mkktsolver\u001b[39m(W):\n\u001b[0;32m-> 1981\u001b[0m     \u001b[39mreturn\u001b[39;00m factor(W, P)\n",
      "File \u001b[0;32m~/miniconda3/envs/research/lib/python3.10/site-packages/cvxopt/misc.py:1444\u001b[0m, in \u001b[0;36mkkt_chol2.<locals>.factor\u001b[0;34m(W, H, Df)\u001b[0m\n\u001b[1;32m   1443\u001b[0m \u001b[39mif\u001b[39;00m \u001b[39mtype\u001b[39m(F[\u001b[39m'\u001b[39m\u001b[39mS\u001b[39m\u001b[39m'\u001b[39m]) \u001b[39mis\u001b[39;00m matrix: \n\u001b[0;32m-> 1444\u001b[0m     lapack\u001b[39m.\u001b[39;49mpotrf(F[\u001b[39m'\u001b[39;49m\u001b[39mS\u001b[39;49m\u001b[39m'\u001b[39;49m]) \n\u001b[1;32m   1445\u001b[0m \u001b[39melse\u001b[39;00m:\n",
      "\u001b[0;31mArithmeticError\u001b[0m: 31",
      "\nDuring handling of the above exception, another exception occurred:\n",
      "\u001b[0;31mValueError\u001b[0m                                Traceback (most recent call last)",
      "\u001b[1;32m/home/jbohn/jupyter/personal/L1_Portfolio_Opt/Split_Bregman/Split_Bregman_Portfolio.ipynb Cell 23\u001b[0m in \u001b[0;36m<cell line: 21>\u001b[0;34m()\u001b[0m\n\u001b[1;32m     <a href='vscode-notebook-cell://wsl%2Bubuntu-20.04/home/jbohn/jupyter/personal/L1_Portfolio_Opt/Split_Bregman/Split_Bregman_Portfolio.ipynb#X26sdnNjb2RlLXJlbW90ZQ%3D%3D?line=17'>18</a>\u001b[0m \u001b[39mfor\u001b[39;00m i \u001b[39min\u001b[39;00m itertools\u001b[39m.\u001b[39mproduct(lambda1_grid,lambda2_grid):\n\u001b[1;32m     <a href='vscode-notebook-cell://wsl%2Bubuntu-20.04/home/jbohn/jupyter/personal/L1_Portfolio_Opt/Split_Bregman/Split_Bregman_Portfolio.ipynb#X26sdnNjb2RlLXJlbW90ZQ%3D%3D?line=18'>19</a>\u001b[0m     params\u001b[39m.\u001b[39mappend(i)\n\u001b[0;32m---> <a href='vscode-notebook-cell://wsl%2Bubuntu-20.04/home/jbohn/jupyter/personal/L1_Portfolio_Opt/Split_Bregman/Split_Bregman_Portfolio.ipynb#X26sdnNjb2RlLXJlbW90ZQ%3D%3D?line=20'>21</a>\u001b[0m sorted_dict\u001b[39m=\u001b[39mgrid_search(params,biased_mean,biased_cov)\n",
      "\u001b[1;32m/home/jbohn/jupyter/personal/L1_Portfolio_Opt/Split_Bregman/Split_Bregman_Portfolio.ipynb Cell 23\u001b[0m in \u001b[0;36mgrid_search\u001b[0;34m(params, returns_mean, returns_cov, tol, maxiter)\u001b[0m\n\u001b[1;32m      <a href='vscode-notebook-cell://wsl%2Bubuntu-20.04/home/jbohn/jupyter/personal/L1_Portfolio_Opt/Split_Bregman/Split_Bregman_Portfolio.ipynb#X26sdnNjb2RlLXJlbW90ZQ%3D%3D?line=5'>6</a>\u001b[0m lambda1,lambda2\u001b[39m=\u001b[39mi\n\u001b[1;32m      <a href='vscode-notebook-cell://wsl%2Bubuntu-20.04/home/jbohn/jupyter/personal/L1_Portfolio_Opt/Split_Bregman/Split_Bregman_Portfolio.ipynb#X26sdnNjb2RlLXJlbW90ZQ%3D%3D?line=6'>7</a>\u001b[0m lb,ub\u001b[39m=\u001b[39m\u001b[39m0\u001b[39m,\u001b[39m1\u001b[39m\n\u001b[0;32m----> <a href='vscode-notebook-cell://wsl%2Bubuntu-20.04/home/jbohn/jupyter/personal/L1_Portfolio_Opt/Split_Bregman/Split_Bregman_Portfolio.ipynb#X26sdnNjb2RlLXJlbW90ZQ%3D%3D?line=7'>8</a>\u001b[0m w,error\u001b[39m=\u001b[39msplit_bregman(returns_cov,returns_mean,lambda1,lambda2,lb\u001b[39m=\u001b[39;49mlb,ub\u001b[39m=\u001b[39;49mub,tol\u001b[39m=\u001b[39;49mtol,maxiter\u001b[39m=\u001b[39;49mmaxiter,approach\u001b[39m=\u001b[39;49m\u001b[39m\"\u001b[39;49m\u001b[39mclosed-form\u001b[39;49m\u001b[39m\"\u001b[39;49m,verbose\u001b[39m=\u001b[39;49m\u001b[39mFalse\u001b[39;49;00m)\n\u001b[1;32m      <a href='vscode-notebook-cell://wsl%2Bubuntu-20.04/home/jbohn/jupyter/personal/L1_Portfolio_Opt/Split_Bregman/Split_Bregman_Portfolio.ipynb#X26sdnNjb2RlLXJlbW90ZQ%3D%3D?line=8'>9</a>\u001b[0m \u001b[39mprint\u001b[39m(\u001b[39mf\u001b[39m\u001b[39m\"\u001b[39m\u001b[39m lambda1: \u001b[39m\u001b[39m{\u001b[39;00mnp\u001b[39m.\u001b[39mround(lambda1,\u001b[39m4\u001b[39m)\u001b[39m}\u001b[39;00m\u001b[39m lambda2: \u001b[39m\u001b[39m{\u001b[39;00mnp\u001b[39m.\u001b[39mround(lambda2,\u001b[39m4\u001b[39m)\u001b[39m}\u001b[39;00m\u001b[39m error: \u001b[39m\u001b[39m{\u001b[39;00mnp\u001b[39m.\u001b[39mround(error,\u001b[39m8\u001b[39m)\u001b[39m}\u001b[39;00m\u001b[39m\"\u001b[39m)\n\u001b[1;32m     <a href='vscode-notebook-cell://wsl%2Bubuntu-20.04/home/jbohn/jupyter/personal/L1_Portfolio_Opt/Split_Bregman/Split_Bregman_Portfolio.ipynb#X26sdnNjb2RlLXJlbW90ZQ%3D%3D?line=9'>10</a>\u001b[0m results[i]\u001b[39m=\u001b[39m(w,error)\n",
      "\u001b[1;32m/home/jbohn/jupyter/personal/L1_Portfolio_Opt/Split_Bregman/Split_Bregman_Portfolio.ipynb Cell 23\u001b[0m in \u001b[0;36msplit_bregman\u001b[0;34m(cov, mean, lambda1, lambda2, lb, ub, beta, tol, maxiter, approach, verbose)\u001b[0m\n\u001b[1;32m     <a href='vscode-notebook-cell://wsl%2Bubuntu-20.04/home/jbohn/jupyter/personal/L1_Portfolio_Opt/Split_Bregman/Split_Bregman_Portfolio.ipynb#X26sdnNjb2RlLXJlbW90ZQ%3D%3D?line=79'>80</a>\u001b[0m     \u001b[39mbreak\u001b[39;00m\n\u001b[1;32m     <a href='vscode-notebook-cell://wsl%2Bubuntu-20.04/home/jbohn/jupyter/personal/L1_Portfolio_Opt/Split_Bregman/Split_Bregman_Portfolio.ipynb#X26sdnNjb2RlLXJlbW90ZQ%3D%3D?line=81'>82</a>\u001b[0m \u001b[39m# solve qp problem either closed form or numerically\u001b[39;00m\n\u001b[0;32m---> <a href='vscode-notebook-cell://wsl%2Bubuntu-20.04/home/jbohn/jupyter/personal/L1_Portfolio_Opt/Split_Bregman/Split_Bregman_Portfolio.ipynb#X26sdnNjb2RlLXJlbW90ZQ%3D%3D?line=82'>83</a>\u001b[0m w,status\u001b[39m=\u001b[39mqp(cov,mean,w,d,b,lb,ub,lambda2,approach,tol,maxiter,verbose)\n\u001b[1;32m     <a href='vscode-notebook-cell://wsl%2Bubuntu-20.04/home/jbohn/jupyter/personal/L1_Portfolio_Opt/Split_Bregman/Split_Bregman_Portfolio.ipynb#X26sdnNjb2RlLXJlbW90ZQ%3D%3D?line=84'>85</a>\u001b[0m \u001b[39mif\u001b[39;00m status\u001b[39m==\u001b[39m\u001b[39m\"\u001b[39m\u001b[39mfailed\u001b[39m\u001b[39m\"\u001b[39m:\n\u001b[1;32m     <a href='vscode-notebook-cell://wsl%2Bubuntu-20.04/home/jbohn/jupyter/personal/L1_Portfolio_Opt/Split_Bregman/Split_Bregman_Portfolio.ipynb#X26sdnNjb2RlLXJlbW90ZQ%3D%3D?line=85'>86</a>\u001b[0m     w\u001b[39m=\u001b[39mw_old\n",
      "\u001b[1;32m/home/jbohn/jupyter/personal/L1_Portfolio_Opt/Split_Bregman/Split_Bregman_Portfolio.ipynb Cell 23\u001b[0m in \u001b[0;36mqp\u001b[0;34m(cov, mean, w, d, b, lb, ub, lambda2, approach, tol, maxiter, verbose)\u001b[0m\n\u001b[1;32m     <a href='vscode-notebook-cell://wsl%2Bubuntu-20.04/home/jbohn/jupyter/personal/L1_Portfolio_Opt/Split_Bregman/Split_Bregman_Portfolio.ipynb#X26sdnNjb2RlLXJlbW90ZQ%3D%3D?line=36'>37</a>\u001b[0m lb_vec\u001b[39m=\u001b[39mlb\u001b[39m*\u001b[39mnp\u001b[39m.\u001b[39mones(\u001b[39mlen\u001b[39m(mean))\n\u001b[1;32m     <a href='vscode-notebook-cell://wsl%2Bubuntu-20.04/home/jbohn/jupyter/personal/L1_Portfolio_Opt/Split_Bregman/Split_Bregman_Portfolio.ipynb#X26sdnNjb2RlLXJlbW90ZQ%3D%3D?line=37'>38</a>\u001b[0m ub_vec\u001b[39m=\u001b[39mub\u001b[39m*\u001b[39mnp\u001b[39m.\u001b[39mones(\u001b[39mlen\u001b[39m(mean))\n\u001b[0;32m---> <a href='vscode-notebook-cell://wsl%2Bubuntu-20.04/home/jbohn/jupyter/personal/L1_Portfolio_Opt/Split_Bregman/Split_Bregman_Portfolio.ipynb#X26sdnNjb2RlLXJlbW90ZQ%3D%3D?line=39'>40</a>\u001b[0m w \u001b[39m=\u001b[39m solve_qp(quad,linear\u001b[39m.\u001b[39;49mreshape(\u001b[39mlen\u001b[39;49m(linear),),A\u001b[39m=\u001b[39;49mA,b\u001b[39m=\u001b[39;49mconstraint,initvals\u001b[39m=\u001b[39;49mx0, lb\u001b[39m=\u001b[39;49mlb_vec,ub\u001b[39m=\u001b[39;49mub_vec,solver\u001b[39m=\u001b[39;49m\u001b[39m\"\u001b[39;49m\u001b[39mcvxopt\u001b[39;49m\u001b[39m\"\u001b[39;49m)\n\u001b[1;32m     <a href='vscode-notebook-cell://wsl%2Bubuntu-20.04/home/jbohn/jupyter/personal/L1_Portfolio_Opt/Split_Bregman/Split_Bregman_Portfolio.ipynb#X26sdnNjb2RlLXJlbW90ZQ%3D%3D?line=40'>41</a>\u001b[0m status\u001b[39m=\u001b[39m\u001b[39m\"\u001b[39m\u001b[39msolved\u001b[39m\u001b[39m\"\u001b[39m\n\u001b[1;32m     <a href='vscode-notebook-cell://wsl%2Bubuntu-20.04/home/jbohn/jupyter/personal/L1_Portfolio_Opt/Split_Bregman/Split_Bregman_Portfolio.ipynb#X26sdnNjb2RlLXJlbW90ZQ%3D%3D?line=42'>43</a>\u001b[0m \u001b[39mif\u001b[39;00m w \u001b[39mis\u001b[39;00m \u001b[39mNone\u001b[39;00m:\n",
      "File \u001b[0;32m~/miniconda3/envs/research/lib/python3.10/site-packages/qpsolvers/solve_qp.py:148\u001b[0m, in \u001b[0;36msolve_qp\u001b[0;34m(P, q, G, h, A, b, lb, ub, solver, initvals, sym_proj, verbose, **kwargs)\u001b[0m\n\u001b[1;32m    146\u001b[0m kwargs[\u001b[39m\"\u001b[39m\u001b[39mverbose\u001b[39m\u001b[39m\"\u001b[39m] \u001b[39m=\u001b[39m verbose\n\u001b[1;32m    147\u001b[0m \u001b[39mtry\u001b[39;00m:\n\u001b[0;32m--> 148\u001b[0m     \u001b[39mreturn\u001b[39;00m solve_function[solver](P, q, G, h, A, b, lb, ub, \u001b[39m*\u001b[39;49m\u001b[39m*\u001b[39;49mkwargs)\n\u001b[1;32m    149\u001b[0m \u001b[39mexcept\u001b[39;00m \u001b[39mKeyError\u001b[39;00m \u001b[39mas\u001b[39;00m e:\n\u001b[1;32m    150\u001b[0m     \u001b[39mraise\u001b[39;00m SolverNotFound(\n\u001b[1;32m    151\u001b[0m         \u001b[39mf\u001b[39m\u001b[39m\"\u001b[39m\u001b[39msolver \u001b[39m\u001b[39m'\u001b[39m\u001b[39m{\u001b[39;00msolver\u001b[39m}\u001b[39;00m\u001b[39m'\u001b[39m\u001b[39m is not in the list \u001b[39m\u001b[39m\"\u001b[39m\n\u001b[1;32m    152\u001b[0m         \u001b[39mf\u001b[39m\u001b[39m\"\u001b[39m\u001b[39m{\u001b[39;00mavailable_solvers\u001b[39m}\u001b[39;00m\u001b[39m of available solvers\u001b[39m\u001b[39m\"\u001b[39m\n\u001b[1;32m    153\u001b[0m     ) \u001b[39mfrom\u001b[39;00m \u001b[39me\u001b[39;00m\n",
      "File \u001b[0;32m~/miniconda3/envs/research/lib/python3.10/site-packages/qpsolvers/solvers/cvxopt_.py:205\u001b[0m, in \u001b[0;36mcvxopt_solve_qp\u001b[0;34m(P, q, G, h, A, b, lb, ub, solver, initvals, verbose, maxiters, abstol, reltol, feastol, refinement)\u001b[0m\n\u001b[1;32m    203\u001b[0m original_options \u001b[39m=\u001b[39m cvxopt\u001b[39m.\u001b[39msolvers\u001b[39m.\u001b[39moptions\n\u001b[1;32m    204\u001b[0m cvxopt\u001b[39m.\u001b[39msolvers\u001b[39m.\u001b[39moptions \u001b[39m=\u001b[39m options\n\u001b[0;32m--> 205\u001b[0m sol \u001b[39m=\u001b[39m qp(\u001b[39m*\u001b[39;49margs, solver\u001b[39m=\u001b[39;49msolver, initvals\u001b[39m=\u001b[39;49minitvals_dict, \u001b[39m*\u001b[39;49m\u001b[39m*\u001b[39;49mkwargs)\n\u001b[1;32m    206\u001b[0m cvxopt\u001b[39m.\u001b[39msolvers\u001b[39m.\u001b[39moptions \u001b[39m=\u001b[39m original_options\n\u001b[1;32m    208\u001b[0m \u001b[39mif\u001b[39;00m \u001b[39m\"\u001b[39m\u001b[39moptimal\u001b[39m\u001b[39m\"\u001b[39m \u001b[39mnot\u001b[39;00m \u001b[39min\u001b[39;00m sol[\u001b[39m\"\u001b[39m\u001b[39mstatus\u001b[39m\u001b[39m\"\u001b[39m]:\n",
      "File \u001b[0;32m~/miniconda3/envs/research/lib/python3.10/site-packages/cvxopt/coneprog.py:4485\u001b[0m, in \u001b[0;36mqp\u001b[0;34m(P, q, G, h, A, b, solver, kktsolver, initvals, **kwargs)\u001b[0m\n\u001b[1;32m   4475\u001b[0m         pinfres, dinfres \u001b[39m=\u001b[39m \u001b[39mNone\u001b[39;00m, \u001b[39mNone\u001b[39;00m\n\u001b[1;32m   4477\u001b[0m     \u001b[39mreturn\u001b[39;00m {\u001b[39m'\u001b[39m\u001b[39mstatus\u001b[39m\u001b[39m'\u001b[39m: status, \u001b[39m'\u001b[39m\u001b[39mx\u001b[39m\u001b[39m'\u001b[39m: x, \u001b[39m'\u001b[39m\u001b[39ms\u001b[39m\u001b[39m'\u001b[39m: s, \u001b[39m'\u001b[39m\u001b[39my\u001b[39m\u001b[39m'\u001b[39m: y, \u001b[39m'\u001b[39m\u001b[39mz\u001b[39m\u001b[39m'\u001b[39m: z,\n\u001b[1;32m   4478\u001b[0m         \u001b[39m'\u001b[39m\u001b[39mprimal objective\u001b[39m\u001b[39m'\u001b[39m: pcost, \u001b[39m'\u001b[39m\u001b[39mdual objective\u001b[39m\u001b[39m'\u001b[39m: dcost,\n\u001b[1;32m   4479\u001b[0m         \u001b[39m'\u001b[39m\u001b[39mgap\u001b[39m\u001b[39m'\u001b[39m: gap, \u001b[39m'\u001b[39m\u001b[39mrelative gap\u001b[39m\u001b[39m'\u001b[39m: relgap,\n\u001b[0;32m   (...)\u001b[0m\n\u001b[1;32m   4482\u001b[0m         \u001b[39m'\u001b[39m\u001b[39mresidual as primal infeasibility certificate\u001b[39m\u001b[39m'\u001b[39m: pinfres,\n\u001b[1;32m   4483\u001b[0m         \u001b[39m'\u001b[39m\u001b[39mresidual as dual infeasibility certificate\u001b[39m\u001b[39m'\u001b[39m: dinfres}\n\u001b[0;32m-> 4485\u001b[0m \u001b[39mreturn\u001b[39;00m coneqp(P, q, G, h, \u001b[39mNone\u001b[39;49;00m, A,  b, initvals, kktsolver \u001b[39m=\u001b[39;49m kktsolver, options \u001b[39m=\u001b[39;49m options)\n",
      "File \u001b[0;32m~/miniconda3/envs/research/lib/python3.10/site-packages/cvxopt/coneprog.py:2259\u001b[0m, in \u001b[0;36mconeqp\u001b[0;34m(P, q, G, h, dims, A, b, initvals, kktsolver, xnewcopy, xdot, xaxpy, xscal, ynewcopy, ydot, yaxpy, yscal, **kwargs)\u001b[0m\n\u001b[1;32m   2257\u001b[0m \u001b[39mexcept\u001b[39;00m \u001b[39mArithmeticError\u001b[39;00m:\n\u001b[1;32m   2258\u001b[0m     \u001b[39mif\u001b[39;00m iters \u001b[39m==\u001b[39m \u001b[39m0\u001b[39m:\n\u001b[0;32m-> 2259\u001b[0m         \u001b[39mraise\u001b[39;00m \u001b[39mValueError\u001b[39;00m(\u001b[39m\"\u001b[39m\u001b[39mRank(A) < p or Rank([P; A; G]) < n\u001b[39m\u001b[39m\"\u001b[39m)\n\u001b[1;32m   2260\u001b[0m     \u001b[39melse\u001b[39;00m:\n\u001b[1;32m   2261\u001b[0m         ind \u001b[39m=\u001b[39m dims[\u001b[39m'\u001b[39m\u001b[39ml\u001b[39m\u001b[39m'\u001b[39m] \u001b[39m+\u001b[39m \u001b[39msum\u001b[39m(dims[\u001b[39m'\u001b[39m\u001b[39mq\u001b[39m\u001b[39m'\u001b[39m])\n",
      "\u001b[0;31mValueError\u001b[0m: Rank(A) < p or Rank([P; A; G]) < n"
     ]
    }
   ],
   "source": [
    "def grid_search(params,returns_mean,returns_cov,tol=1e-8,maxiter=25):\n",
    "    \"\"\" Grid Search for optimal lambda1 and lambda2 under constrained portfolio problem \n",
    "    \"\"\"\n",
    "    results={}\n",
    "    for i in params:\n",
    "        lambda1,lambda2=i\n",
    "        lb,ub=0,1\n",
    "        w,error=split_bregman(returns_cov,returns_mean,lambda1,lambda2,lb=lb,ub=ub,tol=tol,maxiter=maxiter,approach=\"closed-form\",verbose=False)\n",
    "        print(f\" lambda1: {np.round(lambda1,4)} lambda2: {np.round(lambda2,4)} error: {np.round(error,8)}\")\n",
    "        results[i]=(w,error)\n",
    "    sorted_dict=sorted(results.items(), key=lambda x:x[1][1])\n",
    "    return sorted_dict\n",
    "\n",
    "lambda1_grid=np.geomspace(0.0001,100,5)\n",
    "lambda2_grid=np.geomspace(0.0001,100,5)\n",
    "\n",
    "params=[]\n",
    "for i in itertools.product(lambda1_grid,lambda2_grid):\n",
    "    params.append(i)\n",
    "\n",
    "sorted_dict=grid_search(params,biased_mean,biased_cov)"
   ]
  },
  {
   "cell_type": "code",
   "execution_count": null,
   "id": "d1456ca0-a078-425c-85eb-aedfdc7e4e34",
   "metadata": {},
   "outputs": [
    {
     "data": {
      "text/plain": [
       "Text(0, 0.5, 'Weight Allocation')"
      ]
     },
     "execution_count": 29,
     "metadata": {},
     "output_type": "execute_result"
    },
    {
     "data": {
      "image/png": "[encoded data removed]",
      "text/plain": [
       "<Figure size 720x576 with 1 Axes>"
      ]
     },
     "metadata": {
      "needs_background": "light"
     },
     "output_type": "display_data"
    }
   ],
   "source": [
    "wi=sorted_dict[0][1][0]\n",
    "nonzero_wi=np.where(abs(wi)>0.0001)[0]\n",
    "\n",
    "fig,ax=plt.subplots(figsize=(10,8))\n",
    "plt.title(\"Portfolio Components for $\\lambda_1=50$\")\n",
    "ax.stem(wi[nonzero_wi])\n",
    "plt.xlabel(f\"{len(wi[nonzero_wi])} Nonzero components\")\n",
    "plt.ylabel(\"Weight Allocation\")"
   ]
  },
  {
   "cell_type": "code",
   "execution_count": null,
   "id": "4b9c3518-142c-4c61-80fa-08dd88939c8a",
   "metadata": {},
   "outputs": [
    {
     "name": "stdout",
     "output_type": "stream",
     "text": [
      "Largest Component is 0.005287348934712082\n",
      "Smallest Component is 0.00034467562829224133\n"
     ]
    }
   ],
   "source": [
    "print(f\"Largest Component is {max(abs(wi[nonzero_wi]))}\")\n",
    "print(f\"Smallest Component is {min(abs(wi[nonzero_wi]))}\")"
   ]
  },
  {
   "cell_type": "code",
   "execution_count": null,
   "id": "7a53cdd2",
   "metadata": {},
   "outputs": [],
   "source": []
  }
 ],
 "metadata": {
  "kernelspec": {
   "display_name": "Python 3.10.4 ('research')",
   "language": "python",
   "name": "python3"
  },
  "language_info": {
   "codemirror_mode": {
    "name": "ipython",
    "version": 3
   },
   "file_extension": ".py",
   "mimetype": "text/x-python",
   "name": "python",
   "nbconvert_exporter": "python",
   "pygments_lexer": "ipython3",
   "version": "3.10.4"
  },
  "vscode": {
   "interpreter": {
    "hash": "8fefc22b81b58a95d090389e6427ac7414ba2434182c3be0d4e0279b8ec28ded"
   }
  }
 },
 "nbformat": 4,
 "nbformat_minor": 5
}
