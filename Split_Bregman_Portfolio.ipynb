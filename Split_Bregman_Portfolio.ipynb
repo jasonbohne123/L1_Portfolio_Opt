{
 "cells": [
  {
   "cell_type": "markdown",
   "id": "2a179af3-f55e-4e48-97d4-b0520be24774",
   "metadata": {},
   "source": [
    "### Mean-Variance Potfolio Optimization with Elastic Net Penalty\n"
   ]
  },
  {
   "cell_type": "code",
   "execution_count": 2,
   "id": "a682214e-97ce-49c4-9378-e3ce2345257b",
   "metadata": {},
   "outputs": [],
   "source": [
    "import pylops \n",
    "import numpy as np\n",
    "import pandas as pd\n",
    "import scipy.optimize\n",
    "import matplotlib.pyplot as plt"
   ]
  },
  {
   "cell_type": "markdown",
   "id": "3ac87213-fec6-491d-9b8e-85b1e475ebeb",
   "metadata": {},
   "source": [
    "###  Returns below\n",
    "- Note log returns have caused some issues numerically within optimiztion"
   ]
  },
  {
   "cell_type": "code",
   "execution_count": 3,
   "id": "adebbded-df83-4b35-844b-f5b889bedae6",
   "metadata": {},
   "outputs": [
    {
     "data": {
      "text/html": [
       "<div>\n",
       "<style scoped>\n",
       "    .dataframe tbody tr th:only-of-type {\n",
       "        vertical-align: middle;\n",
       "    }\n",
       "\n",
       "    .dataframe tbody tr th {\n",
       "        vertical-align: top;\n",
       "    }\n",
       "\n",
       "    .dataframe thead th {\n",
       "        text-align: right;\n",
       "    }\n",
       "</style>\n",
       "<table border=\"1\" class=\"dataframe\">\n",
       "  <thead>\n",
       "    <tr style=\"text-align: right;\">\n",
       "      <th></th>\n",
       "      <th>MMM</th>\n",
       "      <th>AOS</th>\n",
       "      <th>ABT</th>\n",
       "      <th>ABBV</th>\n",
       "      <th>ABMD</th>\n",
       "      <th>ACN</th>\n",
       "      <th>ATVI</th>\n",
       "      <th>ADM</th>\n",
       "      <th>ADBE</th>\n",
       "      <th>ADP</th>\n",
       "      <th>...</th>\n",
       "      <th>WTW</th>\n",
       "      <th>GWW</th>\n",
       "      <th>WYNN</th>\n",
       "      <th>XEL</th>\n",
       "      <th>XYL</th>\n",
       "      <th>YUM</th>\n",
       "      <th>ZBRA</th>\n",
       "      <th>ZBH</th>\n",
       "      <th>ZION</th>\n",
       "      <th>ZTS</th>\n",
       "    </tr>\n",
       "    <tr>\n",
       "      <th>Date</th>\n",
       "      <th></th>\n",
       "      <th></th>\n",
       "      <th></th>\n",
       "      <th></th>\n",
       "      <th></th>\n",
       "      <th></th>\n",
       "      <th></th>\n",
       "      <th></th>\n",
       "      <th></th>\n",
       "      <th></th>\n",
       "      <th></th>\n",
       "      <th></th>\n",
       "      <th></th>\n",
       "      <th></th>\n",
       "      <th></th>\n",
       "      <th></th>\n",
       "      <th></th>\n",
       "      <th></th>\n",
       "      <th></th>\n",
       "      <th></th>\n",
       "      <th></th>\n",
       "    </tr>\n",
       "  </thead>\n",
       "  <tbody>\n",
       "    <tr>\n",
       "      <th>2018-01-03</th>\n",
       "      <td>0.999958</td>\n",
       "      <td>1.006013</td>\n",
       "      <td>1.002211</td>\n",
       "      <td>1.015649</td>\n",
       "      <td>1.017300</td>\n",
       "      <td>1.004615</td>\n",
       "      <td>1.015550</td>\n",
       "      <td>0.992267</td>\n",
       "      <td>1.018796</td>\n",
       "      <td>1.010863</td>\n",
       "      <td>...</td>\n",
       "      <td>1.018709</td>\n",
       "      <td>0.993721</td>\n",
       "      <td>0.989166</td>\n",
       "      <td>0.993307</td>\n",
       "      <td>1.012193</td>\n",
       "      <td>0.999142</td>\n",
       "      <td>1.019863</td>\n",
       "      <td>1.006932</td>\n",
       "      <td>0.998817</td>\n",
       "      <td>1.004598</td>\n",
       "    </tr>\n",
       "    <tr>\n",
       "      <th>2018-01-04</th>\n",
       "      <td>1.013071</td>\n",
       "      <td>1.004685</td>\n",
       "      <td>0.998303</td>\n",
       "      <td>0.994297</td>\n",
       "      <td>1.017516</td>\n",
       "      <td>1.011841</td>\n",
       "      <td>0.990048</td>\n",
       "      <td>1.016843</td>\n",
       "      <td>1.012042</td>\n",
       "      <td>1.009552</td>\n",
       "      <td>...</td>\n",
       "      <td>1.010151</td>\n",
       "      <td>1.007813</td>\n",
       "      <td>1.005415</td>\n",
       "      <td>0.992209</td>\n",
       "      <td>1.006676</td>\n",
       "      <td>1.010180</td>\n",
       "      <td>1.019760</td>\n",
       "      <td>0.998559</td>\n",
       "      <td>1.004147</td>\n",
       "      <td>1.005964</td>\n",
       "    </tr>\n",
       "    <tr>\n",
       "      <th>2018-01-05</th>\n",
       "      <td>1.007792</td>\n",
       "      <td>1.012864</td>\n",
       "      <td>1.002890</td>\n",
       "      <td>1.017408</td>\n",
       "      <td>1.015408</td>\n",
       "      <td>1.008249</td>\n",
       "      <td>1.026446</td>\n",
       "      <td>0.993325</td>\n",
       "      <td>1.011571</td>\n",
       "      <td>0.999409</td>\n",
       "      <td>...</td>\n",
       "      <td>1.006413</td>\n",
       "      <td>1.009277</td>\n",
       "      <td>1.006671</td>\n",
       "      <td>0.992997</td>\n",
       "      <td>0.998126</td>\n",
       "      <td>1.005828</td>\n",
       "      <td>1.015576</td>\n",
       "      <td>1.009941</td>\n",
       "      <td>1.000393</td>\n",
       "      <td>1.011444</td>\n",
       "    </tr>\n",
       "    <tr>\n",
       "      <th>2018-01-08</th>\n",
       "      <td>0.996758</td>\n",
       "      <td>1.004763</td>\n",
       "      <td>0.997118</td>\n",
       "      <td>0.983978</td>\n",
       "      <td>1.027086</td>\n",
       "      <td>1.007991</td>\n",
       "      <td>1.003917</td>\n",
       "      <td>0.997760</td>\n",
       "      <td>0.998381</td>\n",
       "      <td>0.996957</td>\n",
       "      <td>...</td>\n",
       "      <td>0.994613</td>\n",
       "      <td>1.000000</td>\n",
       "      <td>0.986686</td>\n",
       "      <td>1.007480</td>\n",
       "      <td>1.003611</td>\n",
       "      <td>1.001690</td>\n",
       "      <td>1.009951</td>\n",
       "      <td>1.001905</td>\n",
       "      <td>0.995086</td>\n",
       "      <td>1.011996</td>\n",
       "    </tr>\n",
       "    <tr>\n",
       "      <th>2018-01-09</th>\n",
       "      <td>1.006214</td>\n",
       "      <td>0.999210</td>\n",
       "      <td>1.001700</td>\n",
       "      <td>1.007538</td>\n",
       "      <td>1.009432</td>\n",
       "      <td>1.003335</td>\n",
       "      <td>0.993396</td>\n",
       "      <td>1.003243</td>\n",
       "      <td>1.008971</td>\n",
       "      <td>1.006953</td>\n",
       "      <td>...</td>\n",
       "      <td>1.002774</td>\n",
       "      <td>0.995971</td>\n",
       "      <td>1.006778</td>\n",
       "      <td>0.988333</td>\n",
       "      <td>1.000288</td>\n",
       "      <td>0.997349</td>\n",
       "      <td>1.030643</td>\n",
       "      <td>0.983917</td>\n",
       "      <td>1.023509</td>\n",
       "      <td>1.011719</td>\n",
       "    </tr>\n",
       "    <tr>\n",
       "      <th>...</th>\n",
       "      <td>...</td>\n",
       "      <td>...</td>\n",
       "      <td>...</td>\n",
       "      <td>...</td>\n",
       "      <td>...</td>\n",
       "      <td>...</td>\n",
       "      <td>...</td>\n",
       "      <td>...</td>\n",
       "      <td>...</td>\n",
       "      <td>...</td>\n",
       "      <td>...</td>\n",
       "      <td>...</td>\n",
       "      <td>...</td>\n",
       "      <td>...</td>\n",
       "      <td>...</td>\n",
       "      <td>...</td>\n",
       "      <td>...</td>\n",
       "      <td>...</td>\n",
       "      <td>...</td>\n",
       "      <td>...</td>\n",
       "      <td>...</td>\n",
       "    </tr>\n",
       "    <tr>\n",
       "      <th>2021-12-27</th>\n",
       "      <td>1.009887</td>\n",
       "      <td>1.023318</td>\n",
       "      <td>1.016528</td>\n",
       "      <td>1.009918</td>\n",
       "      <td>1.015956</td>\n",
       "      <td>1.029803</td>\n",
       "      <td>1.004450</td>\n",
       "      <td>1.009627</td>\n",
       "      <td>1.014150</td>\n",
       "      <td>1.017727</td>\n",
       "      <td>...</td>\n",
       "      <td>1.010995</td>\n",
       "      <td>1.026123</td>\n",
       "      <td>0.985374</td>\n",
       "      <td>1.003153</td>\n",
       "      <td>1.006723</td>\n",
       "      <td>1.019728</td>\n",
       "      <td>1.041071</td>\n",
       "      <td>1.006457</td>\n",
       "      <td>1.010423</td>\n",
       "      <td>1.016494</td>\n",
       "    </tr>\n",
       "    <tr>\n",
       "      <th>2021-12-28</th>\n",
       "      <td>1.005320</td>\n",
       "      <td>1.009917</td>\n",
       "      <td>0.993002</td>\n",
       "      <td>0.999851</td>\n",
       "      <td>0.998910</td>\n",
       "      <td>0.999856</td>\n",
       "      <td>1.018640</td>\n",
       "      <td>1.013017</td>\n",
       "      <td>0.985598</td>\n",
       "      <td>0.999107</td>\n",
       "      <td>...</td>\n",
       "      <td>0.998578</td>\n",
       "      <td>1.009145</td>\n",
       "      <td>0.987212</td>\n",
       "      <td>1.011973</td>\n",
       "      <td>1.010398</td>\n",
       "      <td>0.999783</td>\n",
       "      <td>0.985140</td>\n",
       "      <td>1.003130</td>\n",
       "      <td>1.001587</td>\n",
       "      <td>0.990832</td>\n",
       "    </tr>\n",
       "    <tr>\n",
       "      <th>2021-12-29</th>\n",
       "      <td>1.004335</td>\n",
       "      <td>1.003156</td>\n",
       "      <td>1.005126</td>\n",
       "      <td>1.007218</td>\n",
       "      <td>1.012310</td>\n",
       "      <td>1.000361</td>\n",
       "      <td>1.007350</td>\n",
       "      <td>1.001195</td>\n",
       "      <td>0.999877</td>\n",
       "      <td>1.007884</td>\n",
       "      <td>...</td>\n",
       "      <td>0.998785</td>\n",
       "      <td>1.008678</td>\n",
       "      <td>0.982882</td>\n",
       "      <td>1.005028</td>\n",
       "      <td>0.998661</td>\n",
       "      <td>1.004928</td>\n",
       "      <td>1.006362</td>\n",
       "      <td>1.000156</td>\n",
       "      <td>1.005387</td>\n",
       "      <td>1.011382</td>\n",
       "    </tr>\n",
       "    <tr>\n",
       "      <th>2021-12-30</th>\n",
       "      <td>0.995684</td>\n",
       "      <td>0.993940</td>\n",
       "      <td>0.998654</td>\n",
       "      <td>1.004211</td>\n",
       "      <td>1.000608</td>\n",
       "      <td>0.996172</td>\n",
       "      <td>1.004914</td>\n",
       "      <td>0.997762</td>\n",
       "      <td>1.002178</td>\n",
       "      <td>0.990121</td>\n",
       "      <td>...</td>\n",
       "      <td>0.994506</td>\n",
       "      <td>0.983384</td>\n",
       "      <td>1.013768</td>\n",
       "      <td>1.003973</td>\n",
       "      <td>0.997822</td>\n",
       "      <td>0.998053</td>\n",
       "      <td>0.994044</td>\n",
       "      <td>1.000312</td>\n",
       "      <td>0.994957</td>\n",
       "      <td>0.992430</td>\n",
       "    </tr>\n",
       "    <tr>\n",
       "      <th>2021-12-31</th>\n",
       "      <td>0.999944</td>\n",
       "      <td>1.006566</td>\n",
       "      <td>0.998156</td>\n",
       "      <td>0.996101</td>\n",
       "      <td>0.992018</td>\n",
       "      <td>1.001740</td>\n",
       "      <td>0.985776</td>\n",
       "      <td>1.010918</td>\n",
       "      <td>0.993918</td>\n",
       "      <td>1.004154</td>\n",
       "      <td>...</td>\n",
       "      <td>1.001560</td>\n",
       "      <td>1.003058</td>\n",
       "      <td>0.987115</td>\n",
       "      <td>0.992232</td>\n",
       "      <td>1.006885</td>\n",
       "      <td>1.003396</td>\n",
       "      <td>0.996084</td>\n",
       "      <td>0.990411</td>\n",
       "      <td>1.000475</td>\n",
       "      <td>0.995391</td>\n",
       "    </tr>\n",
       "  </tbody>\n",
       "</table>\n",
       "<p>1007 rows × 500 columns</p>\n",
       "</div>"
      ],
      "text/plain": [
       "                 MMM       AOS       ABT      ABBV      ABMD       ACN  \\\n",
       "Date                                                                     \n",
       "2018-01-03  0.999958  1.006013  1.002211  1.015649  1.017300  1.004615   \n",
       "2018-01-04  1.013071  1.004685  0.998303  0.994297  1.017516  1.011841   \n",
       "2018-01-05  1.007792  1.012864  1.002890  1.017408  1.015408  1.008249   \n",
       "2018-01-08  0.996758  1.004763  0.997118  0.983978  1.027086  1.007991   \n",
       "2018-01-09  1.006214  0.999210  1.001700  1.007538  1.009432  1.003335   \n",
       "...              ...       ...       ...       ...       ...       ...   \n",
       "2021-12-27  1.009887  1.023318  1.016528  1.009918  1.015956  1.029803   \n",
       "2021-12-28  1.005320  1.009917  0.993002  0.999851  0.998910  0.999856   \n",
       "2021-12-29  1.004335  1.003156  1.005126  1.007218  1.012310  1.000361   \n",
       "2021-12-30  0.995684  0.993940  0.998654  1.004211  1.000608  0.996172   \n",
       "2021-12-31  0.999944  1.006566  0.998156  0.996101  0.992018  1.001740   \n",
       "\n",
       "                ATVI       ADM      ADBE       ADP  ...       WTW       GWW  \\\n",
       "Date                                                ...                       \n",
       "2018-01-03  1.015550  0.992267  1.018796  1.010863  ...  1.018709  0.993721   \n",
       "2018-01-04  0.990048  1.016843  1.012042  1.009552  ...  1.010151  1.007813   \n",
       "2018-01-05  1.026446  0.993325  1.011571  0.999409  ...  1.006413  1.009277   \n",
       "2018-01-08  1.003917  0.997760  0.998381  0.996957  ...  0.994613  1.000000   \n",
       "2018-01-09  0.993396  1.003243  1.008971  1.006953  ...  1.002774  0.995971   \n",
       "...              ...       ...       ...       ...  ...       ...       ...   \n",
       "2021-12-27  1.004450  1.009627  1.014150  1.017727  ...  1.010995  1.026123   \n",
       "2021-12-28  1.018640  1.013017  0.985598  0.999107  ...  0.998578  1.009145   \n",
       "2021-12-29  1.007350  1.001195  0.999877  1.007884  ...  0.998785  1.008678   \n",
       "2021-12-30  1.004914  0.997762  1.002178  0.990121  ...  0.994506  0.983384   \n",
       "2021-12-31  0.985776  1.010918  0.993918  1.004154  ...  1.001560  1.003058   \n",
       "\n",
       "                WYNN       XEL       XYL       YUM      ZBRA       ZBH  \\\n",
       "Date                                                                     \n",
       "2018-01-03  0.989166  0.993307  1.012193  0.999142  1.019863  1.006932   \n",
       "2018-01-04  1.005415  0.992209  1.006676  1.010180  1.019760  0.998559   \n",
       "2018-01-05  1.006671  0.992997  0.998126  1.005828  1.015576  1.009941   \n",
       "2018-01-08  0.986686  1.007480  1.003611  1.001690  1.009951  1.001905   \n",
       "2018-01-09  1.006778  0.988333  1.000288  0.997349  1.030643  0.983917   \n",
       "...              ...       ...       ...       ...       ...       ...   \n",
       "2021-12-27  0.985374  1.003153  1.006723  1.019728  1.041071  1.006457   \n",
       "2021-12-28  0.987212  1.011973  1.010398  0.999783  0.985140  1.003130   \n",
       "2021-12-29  0.982882  1.005028  0.998661  1.004928  1.006362  1.000156   \n",
       "2021-12-30  1.013768  1.003973  0.997822  0.998053  0.994044  1.000312   \n",
       "2021-12-31  0.987115  0.992232  1.006885  1.003396  0.996084  0.990411   \n",
       "\n",
       "                ZION       ZTS  \n",
       "Date                            \n",
       "2018-01-03  0.998817  1.004598  \n",
       "2018-01-04  1.004147  1.005964  \n",
       "2018-01-05  1.000393  1.011444  \n",
       "2018-01-08  0.995086  1.011996  \n",
       "2018-01-09  1.023509  1.011719  \n",
       "...              ...       ...  \n",
       "2021-12-27  1.010423  1.016494  \n",
       "2021-12-28  1.001587  0.990832  \n",
       "2021-12-29  1.005387  1.011382  \n",
       "2021-12-30  0.994957  0.992430  \n",
       "2021-12-31  1.000475  0.995391  \n",
       "\n",
       "[1007 rows x 500 columns]"
      ]
     },
     "execution_count": 3,
     "metadata": {},
     "output_type": "execute_result"
    }
   ],
   "source": [
    "equity_data=pd.read_csv('equity_data_2021.csv')\n",
    "equity_data.index=equity_data['Date']\n",
    "equity_data=equity_data.drop(columns=['Date'])\n",
    "\n",
    "returns=equity_data/equity_data.shift(1)\n",
    "returns=returns.fillna(0)\n",
    "returns=returns.iloc[1:]\n",
    "returns"
   ]
  },
  {
   "cell_type": "markdown",
   "id": "74e5108a-d783-4073-b3cf-a12ec63a445d",
   "metadata": {},
   "source": [
    "### Computation of Naive mean and covariance estimation from sample"
   ]
  },
  {
   "cell_type": "code",
   "execution_count": 8,
   "id": "4c7d11d7-6d2f-4aa4-b535-477a6329e70d",
   "metadata": {},
   "outputs": [],
   "source": [
    "returns_mean=returns.mean()\n",
    "returns_cov=np.cov(returns.T)"
   ]
  },
  {
   "cell_type": "code",
   "execution_count": 9,
   "id": "4503906a-0734-4193-8ca3-45417b7bafaa",
   "metadata": {},
   "outputs": [
    {
     "data": {
      "text/plain": [
       "Text(0, 0.5, 'Freq')"
      ]
     },
     "execution_count": 9,
     "metadata": {},
     "output_type": "execute_result"
    },
    {
     "data": {
      "image/png": "[encoded data removed]",
      "text/plain": [
       "<Figure size 864x720 with 1 Axes>"
      ]
     },
     "metadata": {
      "needs_background": "light"
     },
     "output_type": "display_data"
    }
   ],
   "source": [
    "fig,ax=plt.subplots(figsize=(12,10))\n",
    "bins=plt.hist(returns.mean(axis=1),bins=20)\n",
    "plt.title(\"Empirical Distribution of Mean Return per Day\")\n",
    "plt.xlabel(\"Daily Return across S&P 500\")\n",
    "plt.ylabel(\"Freq\")"
   ]
  },
  {
   "cell_type": "code",
   "execution_count": 10,
   "id": "6bce6777-38ba-4fca-b447-ba7565d05792",
   "metadata": {},
   "outputs": [
    {
     "data": {
      "text/plain": [
       "Text(0.5, 1.0, 'Singular Values of Covariance Matrix')"
      ]
     },
     "execution_count": 10,
     "metadata": {},
     "output_type": "execute_result"
    },
    {
     "data": {
      "image/png": "[encoded data removed]",
      "text/plain": [
       "<Figure size 864x720 with 1 Axes>"
      ]
     },
     "metadata": {
      "needs_background": "light"
     },
     "output_type": "display_data"
    }
   ],
   "source": [
    "u,s,v=np.linalg.svd(returns_cov)\n",
    "fig,ax=plt.subplots(figsize=(12,10))\n",
    "bins=plt.plot(s,marker='*',color='red',markersize=7.5,mfc='black',mec='black')\n",
    "plt.xlabel('Singular Values')\n",
    "plt.ylabel('Magnitude')\n",
    "plt.title(\"Singular Values of Covariance Matrix\")"
   ]
  },
  {
   "cell_type": "markdown",
   "id": "3f8a0d2b-a8a0-4b34-bfcc-63119c8a8d80",
   "metadata": {},
   "source": [
    "### Regularized Covariance and Mean Estimators"
   ]
  },
  {
   "cell_type": "code",
   "execution_count": null,
   "id": "c90f8d32-b937-4b93-9af5-64defdb7405f",
   "metadata": {},
   "outputs": [],
   "source": []
  },
  {
   "cell_type": "code",
   "execution_count": null,
   "id": "b94a11d7-c2c1-41cd-be39-252709070ea4",
   "metadata": {},
   "outputs": [],
   "source": []
  },
  {
   "cell_type": "markdown",
   "id": "c450a641-15c4-4962-acda-9446b17952e3",
   "metadata": {},
   "source": [
    "### Application of Sparse Solver Split Bregman Operator\n",
    "\n",
    "Utilizes nested optimization routine where\n",
    "- Inner Optimization is unconstrained QP problem involving L2 penalty\n",
    "- Applies shrinkage (L1) penalty within outer loop\n"
   ]
  },
  {
   "cell_type": "code",
   "execution_count": 11,
   "id": "e4089057-840a-4e01-be86-37de74378db2",
   "metadata": {},
   "outputs": [],
   "source": [
    "def qp(cov,mean,w,d,b,beta,lambda1,tol,maxiter):\n",
    "    \"\"\" Inner optimization problem using unconstrained optimization \n",
    "    \"\"\"\n",
    "    \n",
    "    x0=w # initial guess is previous result\n",
    "    def objective_val(w,cov,mean,d,b,beta,lambda1):\n",
    "        \"\"\" MPT objective\n",
    "        \"\"\"\n",
    "        \n",
    "        obj=np.dot(np.dot(w,cov),w)-np.dot(w,mean)\n",
    "        \n",
    "        l2_pen=np.sum((d-beta*w-b)**2)\n",
    "\n",
    "        return obj+lambda1*l2_pen/2\n",
    "\n",
    "    res=scipy.optimize.minimize(objective_val,x0=w,args=(returns_cov,returns_mean,d,b,beta,lambda1),method='CG',options={'maxiter':100},tol=1e-5)\n",
    "    \n",
    "    w=res.x\n",
    "    \n",
    "    return w\n",
    "\n",
    "def shrinkage(w,d,b,lambda1,beta):\n",
    "    \"\"\" Shrinkage operator; second optimization routine\n",
    "    \"\"\"\n",
    "    \n",
    "    x=beta*w+b\n",
    "    obj=np.fmax([np.abs(x)-(1/lambda1)],[np.zeros(len(w))])  # elementwise max\n",
    "    signed_obj=np.sign(x)*obj\n",
    "\n",
    "    return signed_obj[0]\n",
    "\n",
    "def split_bregman(cov,mean,lambda1,beta=None,tol=1e-10,maxiter=100):\n",
    "    \"\"\" Split Bregman Optimization Routine\n",
    "    \"\"\"\n",
    "\n",
    "    error=1\n",
    "    n=len(mean)\n",
    "    if beta is None:\n",
    "        beta=np.ones(n)\n",
    "    \n",
    "    b=np.zeros(n)\n",
    "    w=np.zeros(n)\n",
    "    d=np.zeros(n)\n",
    "    \n",
    "    \n",
    "    i=0\n",
    "    while error>tol:\n",
    "        if i>maxiter:\n",
    "            print(\"MaxIter Achieved\")\n",
    "            break\n",
    "            \n",
    "        \n",
    "        if i%25==0 and i>0:\n",
    "            print(f\"{i}-th iteration with error of {error}\")\n",
    "        \n",
    "        w_old=w\n",
    "        w=qp(cov,mean,w_old,d,b,beta,lambda1,tol,maxiter)\n",
    "        error=np.sum((w-w_old)**2)\n",
    "        \n",
    "        d=shrinkage(w,d,b,lambda1,beta)\n",
    "        b=b+w-d       \n",
    "        i+=1\n",
    "    \n",
    "    unit_w=w/np.linalg.norm(w,ord=1)\n",
    "    print(f\"Terminated in {i} iterations of error {error}\")\n",
    "    return np.round(unit_w,4)\n",
    "\n"
   ]
  },
  {
   "cell_type": "markdown",
   "id": "50a4e2d5-343e-490e-a35c-21dd3d22a745",
   "metadata": {},
   "source": [
    "### Numerical Results\n",
    "\n",
    "- 10x magnitude on lambda1 param"
   ]
  },
  {
   "cell_type": "code",
   "execution_count": 24,
   "id": "d9cc4b64-f053-4131-b8c5-840543a34df7",
   "metadata": {},
   "outputs": [
    {
     "name": "stdout",
     "output_type": "stream",
     "text": [
      "25-th iteration with error of 0.002080993808911298\n",
      "50-th iteration with error of 0.00016732998182247526\n",
      "75-th iteration with error of 7.562645038928789e-05\n",
      "100-th iteration with error of 4.930897503830591e-05\n",
      "125-th iteration with error of 3.3391423827730906e-05\n",
      "150-th iteration with error of 2.6441869540947245e-05\n",
      "175-th iteration with error of 2.349478073868865e-05\n",
      "200-th iteration with error of 2.9543003225348274e-05\n",
      "225-th iteration with error of 1.3806889579677048e-05\n",
      "250-th iteration with error of 6.743466244927488e-06\n",
      "MaxIter Achieved\n",
      "Terminated in 251 iterations of error 5.409885772931177e-06\n"
     ]
    }
   ],
   "source": [
    "lambda1=0.1\n",
    "w=split_bregman(returns_mean,returns_cov,lambda1=lambda1,tol=1e-8,maxiter=250)"
   ]
  },
  {
   "cell_type": "code",
   "execution_count": 25,
   "id": "0ccfc36f-80bb-4d74-80c6-0bbc3f525c73",
   "metadata": {},
   "outputs": [
    {
     "data": {
      "text/plain": [
       "Text(0.5, 0, '21 Nonzero components')"
      ]
     },
     "execution_count": 25,
     "metadata": {},
     "output_type": "execute_result"
    },
    {
     "data": {
      "image/png": "[encoded data removed]",
      "text/plain": [
       "<Figure size 720x576 with 1 Axes>"
      ]
     },
     "metadata": {
      "needs_background": "light"
     },
     "output_type": "display_data"
    }
   ],
   "source": [
    "nonzero_w=np.where(w>0)[0]\n",
    "\n",
    "fig,ax=plt.subplots(figsize=(10,8))\n",
    "plt.title(\"Portfolio Components\")\n",
    "plt.scatter(nonzero_w,w[nonzero_w])\n",
    "plt.xlabel(f\"{len(nonzero_w)} Nonzero components\")"
   ]
  },
  {
   "cell_type": "code",
   "execution_count": 26,
   "id": "131ac5e5-2caf-4f31-8421-9c86188d28cd",
   "metadata": {},
   "outputs": [
    {
     "name": "stdout",
     "output_type": "stream",
     "text": [
      "25-th iteration with error of 5.2322801505321414e-05\n",
      "50-th iteration with error of 2.513078273798716e-05\n",
      "75-th iteration with error of 1.5838714964760677e-05\n",
      "100-th iteration with error of 1.1350936067481968e-05\n",
      "125-th iteration with error of 7.67572578046237e-06\n",
      "150-th iteration with error of 5.908968658125385e-06\n",
      "175-th iteration with error of 4.9697009671945125e-06\n",
      "200-th iteration with error of 3.914600556388344e-06\n",
      "225-th iteration with error of 3.182545056607631e-06\n",
      "250-th iteration with error of 2.7703767160504336e-06\n",
      "MaxIter Achieved\n",
      "Terminated in 251 iterations of error 2.757750708937032e-06\n"
     ]
    }
   ],
   "source": [
    "lambda1=1\n",
    "w=split_bregman(returns_mean,returns_cov,lambda1=lambda1,tol=1e-8,maxiter=250)"
   ]
  },
  {
   "cell_type": "code",
   "execution_count": 27,
   "id": "a8194f9b-15d0-44c6-8f66-af592fe3ea06",
   "metadata": {},
   "outputs": [
    {
     "data": {
      "text/plain": [
       "Text(0.5, 0, '61 Nonzero components')"
      ]
     },
     "execution_count": 27,
     "metadata": {},
     "output_type": "execute_result"
    },
    {
     "data": {
      "image/png": "[encoded data removed]",
      "text/plain": [
       "<Figure size 720x576 with 1 Axes>"
      ]
     },
     "metadata": {
      "needs_background": "light"
     },
     "output_type": "display_data"
    }
   ],
   "source": [
    "nonzero_w=np.where(w>0)[0]\n",
    "\n",
    "fig,ax=plt.subplots(figsize=(10,8))\n",
    "plt.title(\"Portfolio Components\")\n",
    "plt.scatter(nonzero_w,w[nonzero_w])\n",
    "plt.xlabel(f\"{len(nonzero_w)} Nonzero components\")"
   ]
  },
  {
   "cell_type": "code",
   "execution_count": 28,
   "id": "5508df5d-0be9-4db2-9316-31f209b6064b",
   "metadata": {},
   "outputs": [
    {
     "name": "stdout",
     "output_type": "stream",
     "text": [
      "25-th iteration with error of 2.504171560145371e-06\n",
      "50-th iteration with error of 1.6451146179449865e-06\n",
      "75-th iteration with error of 1.2115656894242391e-06\n",
      "100-th iteration with error of 9.56052214986571e-07\n",
      "125-th iteration with error of 7.978554282076858e-07\n",
      "150-th iteration with error of 6.824055484404777e-07\n",
      "175-th iteration with error of 5.932414701691666e-07\n",
      "200-th iteration with error of 5.335207207028233e-07\n",
      "225-th iteration with error of 4.825302240148705e-07\n",
      "250-th iteration with error of 4.433805762999005e-07\n",
      "MaxIter Achieved\n",
      "Terminated in 251 iterations of error 4.4241659367454384e-07\n"
     ]
    }
   ],
   "source": [
    "lambda1=10\n",
    "w=split_bregman(returns_mean,returns_cov,lambda1=lambda1,tol=1e-8,maxiter=250)"
   ]
  },
  {
   "cell_type": "code",
   "execution_count": 29,
   "id": "84961315-59ca-45a5-9416-06ccb43c5945",
   "metadata": {},
   "outputs": [
    {
     "data": {
      "text/plain": [
       "Text(0.5, 0, '251 Nonzero components')"
      ]
     },
     "execution_count": 29,
     "metadata": {},
     "output_type": "execute_result"
    },
    {
     "data": {
      "image/png": "[encoded data removed]",
      "text/plain": [
       "<Figure size 720x576 with 1 Axes>"
      ]
     },
     "metadata": {
      "needs_background": "light"
     },
     "output_type": "display_data"
    }
   ],
   "source": [
    "nonzero_w=np.where(w>0)[0]\n",
    "\n",
    "fig,ax=plt.subplots(figsize=(10,8))\n",
    "plt.title(\"Portfolio Components\")\n",
    "plt.scatter(nonzero_w,w[nonzero_w],color='red')\n",
    "plt.xlabel(f\"{len(nonzero_w)} Nonzero components\")"
   ]
  },
  {
   "cell_type": "code",
   "execution_count": null,
   "id": "fe0fa749-dbe5-4385-afac-c1abb63aaefb",
   "metadata": {},
   "outputs": [],
   "source": []
  }
 ],
 "metadata": {
  "kernelspec": {
   "display_name": "Python [conda env:research]",
   "language": "python",
   "name": "conda-env-research-py"
  },
  "language_info": {
   "codemirror_mode": {
    "name": "ipython",
    "version": 3
   },
   "file_extension": ".py",
   "mimetype": "text/x-python",
   "name": "python",
   "nbconvert_exporter": "python",
   "pygments_lexer": "ipython3",
   "version": "3.10.4"
  }
 },
 "nbformat": 4,
 "nbformat_minor": 5
}
