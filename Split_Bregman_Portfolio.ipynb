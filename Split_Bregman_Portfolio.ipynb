{
 "cells": [
  {
   "cell_type": "markdown",
   "id": "2a179af3-f55e-4e48-97d4-b0520be24774",
   "metadata": {},
   "source": [
    "### Mean-Variance Potfolio Optimization with Elastic Net Penalty\n",
    "\n",
    "TO-DO\n",
    "- Compare OOS performance of split-bregman using normal params and regularized params\n",
    "- Compare OOS performance of optimal split bregman against mean variance optimal; equally weighted \n",
    "- Grid search multiple penalty values"
   ]
  },
  {
   "cell_type": "code",
   "execution_count": 3,
   "id": "a682214e-97ce-49c4-9378-e3ce2345257b",
   "metadata": {},
   "outputs": [],
   "source": [
    "import itertools\n",
    "import numpy as np\n",
    "import pandas as pd\n",
    "import scipy.optimize\n",
    "from qpsolvers import solve_qp\n",
    "from scipy.sparse import csc_matrix, csc_array\n",
    "import matplotlib.pyplot as plt"
   ]
  },
  {
   "cell_type": "markdown",
   "id": "3ac87213-fec6-491d-9b8e-85b1e475ebeb",
   "metadata": {},
   "source": [
    "###  Returns below\n",
    "- Note log returns have caused some issues numerically within optimiztion"
   ]
  },
  {
   "cell_type": "code",
   "execution_count": 290,
   "id": "adebbded-df83-4b35-844b-f5b889bedae6",
   "metadata": {},
   "outputs": [
    {
     "data": {
      "text/html": [
       "<div>\n",
       "<style scoped>\n",
       "    .dataframe tbody tr th:only-of-type {\n",
       "        vertical-align: middle;\n",
       "    }\n",
       "\n",
       "    .dataframe tbody tr th {\n",
       "        vertical-align: top;\n",
       "    }\n",
       "\n",
       "    .dataframe thead th {\n",
       "        text-align: right;\n",
       "    }\n",
       "</style>\n",
       "<table border=\"1\" class=\"dataframe\">\n",
       "  <thead>\n",
       "    <tr style=\"text-align: right;\">\n",
       "      <th></th>\n",
       "      <th>MMM</th>\n",
       "      <th>AOS</th>\n",
       "      <th>ABT</th>\n",
       "      <th>ABBV</th>\n",
       "      <th>ABMD</th>\n",
       "      <th>ACN</th>\n",
       "      <th>ATVI</th>\n",
       "      <th>ADM</th>\n",
       "      <th>ADBE</th>\n",
       "      <th>ADP</th>\n",
       "      <th>...</th>\n",
       "      <th>CAT</th>\n",
       "      <th>CBOE</th>\n",
       "      <th>CBRE</th>\n",
       "      <th>CDW</th>\n",
       "      <th>CE</th>\n",
       "      <th>CNC</th>\n",
       "      <th>CNP</th>\n",
       "      <th>CDAY</th>\n",
       "      <th>CF</th>\n",
       "      <th>CRL</th>\n",
       "    </tr>\n",
       "    <tr>\n",
       "      <th>Date</th>\n",
       "      <th></th>\n",
       "      <th></th>\n",
       "      <th></th>\n",
       "      <th></th>\n",
       "      <th></th>\n",
       "      <th></th>\n",
       "      <th></th>\n",
       "      <th></th>\n",
       "      <th></th>\n",
       "      <th></th>\n",
       "      <th></th>\n",
       "      <th></th>\n",
       "      <th></th>\n",
       "      <th></th>\n",
       "      <th></th>\n",
       "      <th></th>\n",
       "      <th></th>\n",
       "      <th></th>\n",
       "      <th></th>\n",
       "      <th></th>\n",
       "      <th></th>\n",
       "    </tr>\n",
       "  </thead>\n",
       "  <tbody>\n",
       "    <tr>\n",
       "      <th>2010-01-05</th>\n",
       "      <td>-0.006264</td>\n",
       "      <td>-0.012777</td>\n",
       "      <td>-0.008079</td>\n",
       "      <td>0.000000</td>\n",
       "      <td>-0.024027</td>\n",
       "      <td>0.006180</td>\n",
       "      <td>0.001770</td>\n",
       "      <td>0.005402</td>\n",
       "      <td>0.016446</td>\n",
       "      <td>-0.005370</td>\n",
       "      <td>...</td>\n",
       "      <td>0.011956</td>\n",
       "      <td>0.000000</td>\n",
       "      <td>0.023878</td>\n",
       "      <td>0.000000</td>\n",
       "      <td>0.022249</td>\n",
       "      <td>-0.031797</td>\n",
       "      <td>-0.007576</td>\n",
       "      <td>0.0</td>\n",
       "      <td>0.016224</td>\n",
       "      <td>0.005660</td>\n",
       "    </tr>\n",
       "    <tr>\n",
       "      <th>2010-01-06</th>\n",
       "      <td>0.014182</td>\n",
       "      <td>0.000454</td>\n",
       "      <td>0.005553</td>\n",
       "      <td>0.000000</td>\n",
       "      <td>-0.015240</td>\n",
       "      <td>0.010631</td>\n",
       "      <td>-0.005300</td>\n",
       "      <td>-0.002528</td>\n",
       "      <td>-0.002122</td>\n",
       "      <td>-0.002347</td>\n",
       "      <td>...</td>\n",
       "      <td>0.003038</td>\n",
       "      <td>0.000000</td>\n",
       "      <td>-0.008481</td>\n",
       "      <td>0.000000</td>\n",
       "      <td>0.010882</td>\n",
       "      <td>0.011899</td>\n",
       "      <td>-0.009715</td>\n",
       "      <td>0.0</td>\n",
       "      <td>0.041680</td>\n",
       "      <td>-0.013329</td>\n",
       "    </tr>\n",
       "    <tr>\n",
       "      <th>2010-01-07</th>\n",
       "      <td>0.000717</td>\n",
       "      <td>0.002951</td>\n",
       "      <td>0.008284</td>\n",
       "      <td>0.000000</td>\n",
       "      <td>0.000000</td>\n",
       "      <td>-0.000935</td>\n",
       "      <td>-0.023979</td>\n",
       "      <td>-0.010456</td>\n",
       "      <td>-0.019405</td>\n",
       "      <td>-0.000471</td>\n",
       "      <td>...</td>\n",
       "      <td>0.004038</td>\n",
       "      <td>0.000000</td>\n",
       "      <td>0.009979</td>\n",
       "      <td>0.000000</td>\n",
       "      <td>0.005237</td>\n",
       "      <td>0.024929</td>\n",
       "      <td>0.009811</td>\n",
       "      <td>0.0</td>\n",
       "      <td>-0.010080</td>\n",
       "      <td>0.039327</td>\n",
       "    </tr>\n",
       "    <tr>\n",
       "      <th>2010-01-08</th>\n",
       "      <td>0.007046</td>\n",
       "      <td>0.014709</td>\n",
       "      <td>0.005112</td>\n",
       "      <td>0.000000</td>\n",
       "      <td>-0.020238</td>\n",
       "      <td>-0.003978</td>\n",
       "      <td>-0.008189</td>\n",
       "      <td>-0.012488</td>\n",
       "      <td>-0.005422</td>\n",
       "      <td>-0.001413</td>\n",
       "      <td>...</td>\n",
       "      <td>0.011228</td>\n",
       "      <td>0.000000</td>\n",
       "      <td>0.002117</td>\n",
       "      <td>0.000000</td>\n",
       "      <td>-0.009262</td>\n",
       "      <td>-0.010096</td>\n",
       "      <td>-0.011797</td>\n",
       "      <td>0.0</td>\n",
       "      <td>0.021509</td>\n",
       "      <td>-0.006644</td>\n",
       "    </tr>\n",
       "    <tr>\n",
       "      <th>2010-01-11</th>\n",
       "      <td>-0.004032</td>\n",
       "      <td>-0.004683</td>\n",
       "      <td>0.005086</td>\n",
       "      <td>0.000000</td>\n",
       "      <td>-0.018226</td>\n",
       "      <td>-0.000940</td>\n",
       "      <td>-0.000917</td>\n",
       "      <td>0.000649</td>\n",
       "      <td>-0.013083</td>\n",
       "      <td>0.004479</td>\n",
       "      <td>...</td>\n",
       "      <td>0.062811</td>\n",
       "      <td>0.000000</td>\n",
       "      <td>-0.009859</td>\n",
       "      <td>0.000000</td>\n",
       "      <td>0.002921</td>\n",
       "      <td>-0.007881</td>\n",
       "      <td>0.007022</td>\n",
       "      <td>0.0</td>\n",
       "      <td>-0.001119</td>\n",
       "      <td>0.010177</td>\n",
       "    </tr>\n",
       "    <tr>\n",
       "      <th>...</th>\n",
       "      <td>...</td>\n",
       "      <td>...</td>\n",
       "      <td>...</td>\n",
       "      <td>...</td>\n",
       "      <td>...</td>\n",
       "      <td>...</td>\n",
       "      <td>...</td>\n",
       "      <td>...</td>\n",
       "      <td>...</td>\n",
       "      <td>...</td>\n",
       "      <td>...</td>\n",
       "      <td>...</td>\n",
       "      <td>...</td>\n",
       "      <td>...</td>\n",
       "      <td>...</td>\n",
       "      <td>...</td>\n",
       "      <td>...</td>\n",
       "      <td>...</td>\n",
       "      <td>...</td>\n",
       "      <td>...</td>\n",
       "      <td>...</td>\n",
       "    </tr>\n",
       "    <tr>\n",
       "      <th>2014-12-24</th>\n",
       "      <td>0.000539</td>\n",
       "      <td>0.003035</td>\n",
       "      <td>-0.000437</td>\n",
       "      <td>0.028904</td>\n",
       "      <td>0.003392</td>\n",
       "      <td>-0.001094</td>\n",
       "      <td>0.005932</td>\n",
       "      <td>-0.001128</td>\n",
       "      <td>0.004840</td>\n",
       "      <td>0.000822</td>\n",
       "      <td>...</td>\n",
       "      <td>0.002353</td>\n",
       "      <td>-0.002473</td>\n",
       "      <td>-0.001715</td>\n",
       "      <td>0.003931</td>\n",
       "      <td>0.001994</td>\n",
       "      <td>0.009816</td>\n",
       "      <td>0.013220</td>\n",
       "      <td>0.0</td>\n",
       "      <td>-0.011340</td>\n",
       "      <td>0.005217</td>\n",
       "    </tr>\n",
       "    <tr>\n",
       "      <th>2014-12-26</th>\n",
       "      <td>-0.004193</td>\n",
       "      <td>0.007653</td>\n",
       "      <td>0.003282</td>\n",
       "      <td>0.011630</td>\n",
       "      <td>0.004680</td>\n",
       "      <td>-0.000657</td>\n",
       "      <td>0.003440</td>\n",
       "      <td>0.005837</td>\n",
       "      <td>-0.000937</td>\n",
       "      <td>-0.000469</td>\n",
       "      <td>...</td>\n",
       "      <td>0.005442</td>\n",
       "      <td>-0.005269</td>\n",
       "      <td>0.001145</td>\n",
       "      <td>0.004755</td>\n",
       "      <td>0.002985</td>\n",
       "      <td>0.000661</td>\n",
       "      <td>0.007155</td>\n",
       "      <td>0.0</td>\n",
       "      <td>-0.003194</td>\n",
       "      <td>0.011008</td>\n",
       "    </tr>\n",
       "    <tr>\n",
       "      <th>2014-12-29</th>\n",
       "      <td>0.002707</td>\n",
       "      <td>0.000883</td>\n",
       "      <td>-0.005453</td>\n",
       "      <td>0.002389</td>\n",
       "      <td>-0.004141</td>\n",
       "      <td>-0.008109</td>\n",
       "      <td>-0.002938</td>\n",
       "      <td>-0.005429</td>\n",
       "      <td>-0.007232</td>\n",
       "      <td>-0.003873</td>\n",
       "      <td>...</td>\n",
       "      <td>-0.005518</td>\n",
       "      <td>0.006231</td>\n",
       "      <td>0.002574</td>\n",
       "      <td>-0.005289</td>\n",
       "      <td>0.001818</td>\n",
       "      <td>-0.006130</td>\n",
       "      <td>0.015044</td>\n",
       "      <td>0.0</td>\n",
       "      <td>-0.006227</td>\n",
       "      <td>0.002333</td>\n",
       "    </tr>\n",
       "    <tr>\n",
       "      <th>2014-12-30</th>\n",
       "      <td>-0.005219</td>\n",
       "      <td>0.002118</td>\n",
       "      <td>0.001974</td>\n",
       "      <td>-0.012511</td>\n",
       "      <td>-0.003118</td>\n",
       "      <td>-0.003646</td>\n",
       "      <td>-0.005894</td>\n",
       "      <td>-0.004517</td>\n",
       "      <td>-0.014164</td>\n",
       "      <td>-0.008955</td>\n",
       "      <td>...</td>\n",
       "      <td>-0.011952</td>\n",
       "      <td>-0.006967</td>\n",
       "      <td>-0.003708</td>\n",
       "      <td>-0.010915</td>\n",
       "      <td>-0.002805</td>\n",
       "      <td>-0.000664</td>\n",
       "      <td>-0.019350</td>\n",
       "      <td>0.0</td>\n",
       "      <td>0.002272</td>\n",
       "      <td>-0.004656</td>\n",
       "    </tr>\n",
       "    <tr>\n",
       "      <th>2014-12-31</th>\n",
       "      <td>-0.009165</td>\n",
       "      <td>-0.006691</td>\n",
       "      <td>-0.014664</td>\n",
       "      <td>-0.012971</td>\n",
       "      <td>-0.007821</td>\n",
       "      <td>-0.009757</td>\n",
       "      <td>-0.004447</td>\n",
       "      <td>-0.016827</td>\n",
       "      <td>-0.005200</td>\n",
       "      <td>-0.008798</td>\n",
       "      <td>...</td>\n",
       "      <td>-0.011448</td>\n",
       "      <td>-0.011225</td>\n",
       "      <td>-0.019468</td>\n",
       "      <td>-0.004810</td>\n",
       "      <td>-0.007778</td>\n",
       "      <td>-0.013864</td>\n",
       "      <td>-0.016373</td>\n",
       "      <td>0.0</td>\n",
       "      <td>-0.003583</td>\n",
       "      <td>-0.007795</td>\n",
       "    </tr>\n",
       "  </tbody>\n",
       "</table>\n",
       "<p>1257 rows × 100 columns</p>\n",
       "</div>"
      ],
      "text/plain": [
       "                 MMM       AOS       ABT      ABBV      ABMD       ACN  \\\n",
       "Date                                                                     \n",
       "2010-01-05 -0.006264 -0.012777 -0.008079  0.000000 -0.024027  0.006180   \n",
       "2010-01-06  0.014182  0.000454  0.005553  0.000000 -0.015240  0.010631   \n",
       "2010-01-07  0.000717  0.002951  0.008284  0.000000  0.000000 -0.000935   \n",
       "2010-01-08  0.007046  0.014709  0.005112  0.000000 -0.020238 -0.003978   \n",
       "2010-01-11 -0.004032 -0.004683  0.005086  0.000000 -0.018226 -0.000940   \n",
       "...              ...       ...       ...       ...       ...       ...   \n",
       "2014-12-24  0.000539  0.003035 -0.000437  0.028904  0.003392 -0.001094   \n",
       "2014-12-26 -0.004193  0.007653  0.003282  0.011630  0.004680 -0.000657   \n",
       "2014-12-29  0.002707  0.000883 -0.005453  0.002389 -0.004141 -0.008109   \n",
       "2014-12-30 -0.005219  0.002118  0.001974 -0.012511 -0.003118 -0.003646   \n",
       "2014-12-31 -0.009165 -0.006691 -0.014664 -0.012971 -0.007821 -0.009757   \n",
       "\n",
       "                ATVI       ADM      ADBE       ADP  ...       CAT      CBOE  \\\n",
       "Date                                                ...                       \n",
       "2010-01-05  0.001770  0.005402  0.016446 -0.005370  ...  0.011956  0.000000   \n",
       "2010-01-06 -0.005300 -0.002528 -0.002122 -0.002347  ...  0.003038  0.000000   \n",
       "2010-01-07 -0.023979 -0.010456 -0.019405 -0.000471  ...  0.004038  0.000000   \n",
       "2010-01-08 -0.008189 -0.012488 -0.005422 -0.001413  ...  0.011228  0.000000   \n",
       "2010-01-11 -0.000917  0.000649 -0.013083  0.004479  ...  0.062811  0.000000   \n",
       "...              ...       ...       ...       ...  ...       ...       ...   \n",
       "2014-12-24  0.005932 -0.001128  0.004840  0.000822  ...  0.002353 -0.002473   \n",
       "2014-12-26  0.003440  0.005837 -0.000937 -0.000469  ...  0.005442 -0.005269   \n",
       "2014-12-29 -0.002938 -0.005429 -0.007232 -0.003873  ... -0.005518  0.006231   \n",
       "2014-12-30 -0.005894 -0.004517 -0.014164 -0.008955  ... -0.011952 -0.006967   \n",
       "2014-12-31 -0.004447 -0.016827 -0.005200 -0.008798  ... -0.011448 -0.011225   \n",
       "\n",
       "                CBRE       CDW        CE       CNC       CNP  CDAY        CF  \\\n",
       "Date                                                                           \n",
       "2010-01-05  0.023878  0.000000  0.022249 -0.031797 -0.007576   0.0  0.016224   \n",
       "2010-01-06 -0.008481  0.000000  0.010882  0.011899 -0.009715   0.0  0.041680   \n",
       "2010-01-07  0.009979  0.000000  0.005237  0.024929  0.009811   0.0 -0.010080   \n",
       "2010-01-08  0.002117  0.000000 -0.009262 -0.010096 -0.011797   0.0  0.021509   \n",
       "2010-01-11 -0.009859  0.000000  0.002921 -0.007881  0.007022   0.0 -0.001119   \n",
       "...              ...       ...       ...       ...       ...   ...       ...   \n",
       "2014-12-24 -0.001715  0.003931  0.001994  0.009816  0.013220   0.0 -0.011340   \n",
       "2014-12-26  0.001145  0.004755  0.002985  0.000661  0.007155   0.0 -0.003194   \n",
       "2014-12-29  0.002574 -0.005289  0.001818 -0.006130  0.015044   0.0 -0.006227   \n",
       "2014-12-30 -0.003708 -0.010915 -0.002805 -0.000664 -0.019350   0.0  0.002272   \n",
       "2014-12-31 -0.019468 -0.004810 -0.007778 -0.013864 -0.016373   0.0 -0.003583   \n",
       "\n",
       "                 CRL  \n",
       "Date                  \n",
       "2010-01-05  0.005660  \n",
       "2010-01-06 -0.013329  \n",
       "2010-01-07  0.039327  \n",
       "2010-01-08 -0.006644  \n",
       "2010-01-11  0.010177  \n",
       "...              ...  \n",
       "2014-12-24  0.005217  \n",
       "2014-12-26  0.011008  \n",
       "2014-12-29  0.002333  \n",
       "2014-12-30 -0.004656  \n",
       "2014-12-31 -0.007795  \n",
       "\n",
       "[1257 rows x 100 columns]"
      ]
     },
     "execution_count": 290,
     "metadata": {},
     "output_type": "execute_result"
    }
   ],
   "source": [
    "equity_data=pd.read_csv('equity_data_2010_2020.csv')\n",
    "equity_data.index=equity_data['Date']\n",
    "equity_data=equity_data.drop(columns=['Date'])\n",
    "equity_data=equity_data[equity_data.columns[:100]]\n",
    "\n",
    "returns=(equity_data/equity_data.shift(1))-1\n",
    "returns=returns.fillna(0)\n",
    "returns=returns.iloc[1:]\n",
    "frac=0.5\n",
    "cutoff=np.floor(frac*len(returns.index)).astype(int)\n",
    "\n",
    "returns_train=returns.iloc[:cutoff]\n",
    "returns_test=returns.iloc[cutoff:]\n",
    "\n",
    "returns_train"
   ]
  },
  {
   "cell_type": "markdown",
   "id": "74e5108a-d783-4073-b3cf-a12ec63a445d",
   "metadata": {},
   "source": [
    "### Computation of Naive mean and covariance estimation from sample"
   ]
  },
  {
   "cell_type": "code",
   "execution_count": 291,
   "id": "4c7d11d7-6d2f-4aa4-b535-477a6329e70d",
   "metadata": {},
   "outputs": [],
   "source": [
    "returns_mean=returns_train.mean().values\n",
    "returns_cov=np.cov(returns_train.T)"
   ]
  },
  {
   "cell_type": "code",
   "execution_count": 292,
   "id": "4503906a-0734-4193-8ca3-45417b7bafaa",
   "metadata": {},
   "outputs": [
    {
     "data": {
      "text/plain": [
       "Text(0, 0.5, 'Freq')"
      ]
     },
     "execution_count": 292,
     "metadata": {},
     "output_type": "execute_result"
    },
    {
     "data": {
      "image/png": "[encoded data removed]",
      "text/plain": [
       "<Figure size 864x720 with 1 Axes>"
      ]
     },
     "metadata": {
      "needs_background": "light"
     },
     "output_type": "display_data"
    }
   ],
   "source": [
    "fig,ax=plt.subplots(figsize=(12,10))\n",
    "bins=plt.hist(returns.mean(axis=1),bins=20)\n",
    "plt.title(\"Empirical Distribution of Mean Return per Day\")\n",
    "plt.xlabel(\"Daily Return across S&P 500\")\n",
    "plt.ylabel(\"Freq\")"
   ]
  },
  {
   "cell_type": "code",
   "execution_count": 293,
   "id": "6bce6777-38ba-4fca-b447-ba7565d05792",
   "metadata": {},
   "outputs": [
    {
     "data": {
      "text/plain": [
       "Text(0.5, 1.0, 'Singular Values of Covariance Matrix')"
      ]
     },
     "execution_count": 293,
     "metadata": {},
     "output_type": "execute_result"
    },
    {
     "data": {
      "image/png": "[encoded data removed]",
      "text/plain": [
       "<Figure size 864x720 with 1 Axes>"
      ]
     },
     "metadata": {
      "needs_background": "light"
     },
     "output_type": "display_data"
    }
   ],
   "source": [
    "u,s,v=np.linalg.svd(returns_cov)\n",
    "fig,ax=plt.subplots(figsize=(12,10))\n",
    "bins=plt.plot(s,marker='*',color='red',markersize=7.5,mfc='black',mec='black')\n",
    "plt.xlabel('Singular Values')\n",
    "plt.ylabel('Magnitude')\n",
    "plt.title(\"Singular Values of Covariance Matrix\")"
   ]
  },
  {
   "cell_type": "markdown",
   "id": "cb4b999e-f203-4331-950d-a144a2ccd5b6",
   "metadata": {},
   "source": [
    "### Regularized Mean and Covariance Estimators "
   ]
  },
  {
   "cell_type": "code",
   "execution_count": 294,
   "id": "b7fca589-d472-4b6b-9a53-c14ab9174517",
   "metadata": {},
   "outputs": [],
   "source": [
    "def james_stein(mu):\n",
    "    pass\n",
    "\n",
    "\n",
    "def reg_cov(cov):\n",
    "    pass"
   ]
  },
  {
   "cell_type": "markdown",
   "id": "c450a641-15c4-4962-acda-9446b17952e3",
   "metadata": {},
   "source": [
    "### Application of Sparse Solver Split Bregman Operator\n",
    "\n",
    "Utilizes nested optimization routine where\n",
    "- Inner Optimization is unconstrained QP problem involving L2 penalty\n",
    "    - Can solve numerically via unconstrained minimization\n",
    "    - Solve analytically via QPSolvers\n",
    "- Applies shrinkage (L1) penalty within outer loop\n"
   ]
  },
  {
   "cell_type": "code",
   "execution_count": 295,
   "id": "e4089057-840a-4e01-be86-37de74378db2",
   "metadata": {},
   "outputs": [],
   "source": [
    "def qp(cov,mean,w,d,b,beta,lambda2,tol,maxiter,approach):\n",
    "    \"\"\" Inner optimization problem using unconstrained optimization \n",
    "        Approach 1 solves numerically via unconstrained minimization\n",
    "        Approach 2 solves analytically via qpsolvers; reformulates penalty\n",
    "    \"\"\"\n",
    "    \n",
    "    x0=w # initial guess is previous result\n",
    "    \n",
    "    if approach==1:\n",
    "        # Numerical soln is much slower as unconstrained minimization\n",
    "        def objective_val(w,cov,mean,d,b,beta,lambda2):\n",
    "            \"\"\" MPT objective\n",
    "            \"\"\"\n",
    "\n",
    "            obj=np.dot(np.dot(w,cov),w)-np.dot(w,mean)\n",
    "\n",
    "            l2_pen=np.sum((d-beta*w-b)**2)\n",
    "\n",
    "            return obj+lambda2*l2_pen/2\n",
    "\n",
    "        res=scipy.optimize.minimize(objective_val,x0=w,args=(returns_cov,returns_mean,d,b,beta,lambda2),method='CG',options={'maxiter':25},tol=1e-12)\n",
    "        w=res.x\n",
    "        \n",
    "    if approach==2:\n",
    "        # analytical soln is very fast; incorporates the penalty term in linear term\n",
    "        \n",
    "        w_old=w\n",
    "        quad=csc_matrix(2*(cov+2*lambda2*np.identity(len(mean))))\n",
    "        linear=-1*mean+lambda2*(-d+b)/2\n",
    "        w = solve_qp(quad,linear,initvals=x0, solver=\"osqp\")\n",
    "        \n",
    "        if w is None:\n",
    "            return w_old\n",
    "        \n",
    "    return w\n",
    "\n",
    "def shrinkage(w,d,b,lambda1,beta):\n",
    "    \"\"\" Shrinkage operator; second optimization routine\n",
    "    \"\"\"\n",
    "    \n",
    "    x=beta*w-b\n",
    "    \n",
    "    obj=np.fmax([np.abs(x)-(1/lambda1)],[np.zeros(len(w))])  # elementwise max\n",
    "    signed_obj=np.sign(x)*obj\n",
    "    \n",
    "    return signed_obj[0]\n",
    "\n",
    "def split_bregman(cov,mean,lambda1,lambda2,beta=None,tol=1e-10,maxiter=100,approach=2):\n",
    "    \"\"\" Split Bregman Optimization Routine\n",
    "    \"\"\"\n",
    "\n",
    "    error=1\n",
    "    n=len(mean)\n",
    "    if beta is None:\n",
    "        beta=np.ones(n)\n",
    "    \n",
    "    b=np.zeros(n)\n",
    "    w=np.zeros(n)\n",
    "    d=np.zeros(n)\n",
    "    \n",
    "    \n",
    "    i=0\n",
    "    while error>tol:\n",
    "        if i>maxiter:\n",
    "            print(\"MaxIter Achieved\")\n",
    "            break\n",
    "            \n",
    "        \n",
    "        if i%25==0 and i>0:\n",
    "            print(f\"{i}-th iteration with error of {error}\")\n",
    "        \n",
    "        w=qp(cov,mean,w,d,b,beta,lambda2,tol,maxiter,approach)\n",
    "        \n",
    "        d=shrinkage(w,d,b,lambda1,beta)\n",
    "        \n",
    "        b=b+w-d  \n",
    "    \n",
    "        i+=1\n",
    "        \n",
    "        # adapt error tol for better results\n",
    "       # error=np.sum((w-w_old)**2)\n",
    "        error=abs(np.dot(np.dot(w,cov),w)-np.dot(w.T,mean)+np.sum(abs(w))+np.sum(w**2))\n",
    "    \n",
    "    \n",
    "    print(f\"Terminated in {i} iterations of error {error} for lambda1={lambda1} and lambda2={lambda2}\")\n",
    "    unit_w=w/np.linalg.norm(w,ord=1)\n",
    "    return unit_w, error\n",
    "\n"
   ]
  },
  {
   "cell_type": "markdown",
   "id": "50a4e2d5-343e-490e-a35c-21dd3d22a745",
   "metadata": {},
   "source": [
    "### Numerical Results\n",
    "\n",
    "- 10x magnitude on lambda1 param"
   ]
  },
  {
   "cell_type": "code",
   "execution_count": 296,
   "id": "a35c47f7-3531-43c5-a3cf-19907f53cbcf",
   "metadata": {},
   "outputs": [
    {
     "name": "stdout",
     "output_type": "stream",
     "text": [
      "25-th iteration with error of 0.14927619609844703\n",
      "50-th iteration with error of 0.01860198697216486\n",
      "75-th iteration with error of 0.0023688060566242693\n",
      "100-th iteration with error of 0.00030356128753273893\n",
      "MaxIter Achieved\n",
      "Terminated in 101 iterations of error 0.0002796263770082308 for lambda1=0.01 and lambda2=0.01\n"
     ]
    }
   ],
   "source": [
    "lambda1=10e-3\n",
    "\n",
    "lambda2=10e-3\n",
    "w0,error1=split_bregman(returns_cov,returns_mean,lambda1=lambda1,lambda2=lambda2,tol=1e-8,maxiter=100,approach=2)"
   ]
  },
  {
   "cell_type": "code",
   "execution_count": 297,
   "id": "105f851a-18a3-4fa2-aa5a-df4cb71d1aba",
   "metadata": {},
   "outputs": [
    {
     "data": {
      "text/plain": [
       "Text(0, 0.5, 'Weight Allocation')"
      ]
     },
     "execution_count": 297,
     "metadata": {},
     "output_type": "execute_result"
    },
    {
     "data": {
      "image/png": "[encoded data removed]",
      "text/plain": [
       "<Figure size 720x576 with 1 Axes>"
      ]
     },
     "metadata": {
      "needs_background": "light"
     },
     "output_type": "display_data"
    }
   ],
   "source": [
    "nonzero_w0=np.where(w0>0)[0]\n",
    "\n",
    "fig,ax=plt.subplots(figsize=(10,8))\n",
    "plt.title(\"Portfolio Components for $\\lambda_1=10e^{-4}$\")\n",
    "ax.stem(nonzero_w0,w0[nonzero_w0])\n",
    "plt.xlabel(f\"{len(nonzero_w0)} Nonzero components\")\n",
    "plt.ylabel(\"Weight Allocation\")"
   ]
  },
  {
   "cell_type": "code",
   "execution_count": 298,
   "id": "d9cc4b64-f053-4131-b8c5-840543a34df7",
   "metadata": {},
   "outputs": [
    {
     "name": "stdout",
     "output_type": "stream",
     "text": [
      "25-th iteration with error of 0.0007428135721566936\n",
      "MaxIter Achieved\n",
      "Terminated in 26 iterations of error 0.000650421249039949 for lambda1=1.0 and lambda2=1.0\n"
     ]
    }
   ],
   "source": [
    "lambda1=10e-1\n",
    "lambda2=10e-1\n",
    "w1,error1=split_bregman(returns_cov,returns_mean,lambda1=lambda1,lambda2=lambda2,tol=1e-8,maxiter=25,approach=2)"
   ]
  },
  {
   "cell_type": "code",
   "execution_count": 299,
   "id": "0ccfc36f-80bb-4d74-80c6-0bbc3f525c73",
   "metadata": {},
   "outputs": [
    {
     "data": {
      "text/plain": [
       "Text(0, 0.5, 'Weight Allocation')"
      ]
     },
     "execution_count": 299,
     "metadata": {},
     "output_type": "execute_result"
    },
    {
     "data": {
      "image/png": "[encoded data removed]",
      "text/plain": [
       "<Figure size 720x576 with 1 Axes>"
      ]
     },
     "metadata": {
      "needs_background": "light"
     },
     "output_type": "display_data"
    }
   ],
   "source": [
    "nonzero_w1=np.where(w1>0)[0]\n",
    "\n",
    "fig,ax=plt.subplots(figsize=(10,8))\n",
    "plt.title(\"Portfolio Components for $\\lambda_1=5*10e^{-4}$\")\n",
    "ax.stem(nonzero_w1,w1[nonzero_w1])\n",
    "plt.xlabel(f\"{len(nonzero_w1)} Nonzero components\")\n",
    "plt.ylabel(\"Weight Allocation\")"
   ]
  },
  {
   "cell_type": "code",
   "execution_count": 300,
   "id": "131ac5e5-2caf-4f31-8421-9c86188d28cd",
   "metadata": {},
   "outputs": [
    {
     "name": "stdout",
     "output_type": "stream",
     "text": [
      "25-th iteration with error of 7.348321832108274e-05\n",
      "MaxIter Achieved\n",
      "Terminated in 26 iterations of error 6.430237932447024e-05 for lambda1=10 and lambda2=10\n"
     ]
    }
   ],
   "source": [
    "lambda1=10\n",
    "lambda2=10\n",
    "w2,error2=split_bregman(returns_cov,returns_mean,lambda1=lambda1,lambda2=lambda2,tol=1e-8,maxiter=25,approach=2)"
   ]
  },
  {
   "cell_type": "code",
   "execution_count": 301,
   "id": "a8194f9b-15d0-44c6-8f66-af592fe3ea06",
   "metadata": {},
   "outputs": [
    {
     "data": {
      "text/plain": [
       "Text(0, 0.5, 'Weight Allocation')"
      ]
     },
     "execution_count": 301,
     "metadata": {},
     "output_type": "execute_result"
    },
    {
     "data": {
      "image/png": "[encoded data removed]",
      "text/plain": [
       "<Figure size 720x576 with 1 Axes>"
      ]
     },
     "metadata": {
      "needs_background": "light"
     },
     "output_type": "display_data"
    }
   ],
   "source": [
    "nonzero_w2=np.where(w2>0)[0]\n",
    "\n",
    "fig,ax=plt.subplots(figsize=(10,8))\n",
    "plt.title(\"Portfolio Components for $\\lambda_1=10e^{-3}$\")\n",
    "ax.stem(nonzero_w2,w2[nonzero_w2])\n",
    "plt.xlabel(f\"{len(nonzero_w2)} Nonzero components\")\n",
    "plt.ylabel(\"Weight Allocation\")\n"
   ]
  },
  {
   "cell_type": "code",
   "execution_count": 302,
   "id": "5508df5d-0be9-4db2-9316-31f209b6064b",
   "metadata": {},
   "outputs": [
    {
     "name": "stdout",
     "output_type": "stream",
     "text": [
      "25-th iteration with error of 7.339457646162496e-08\n",
      "MaxIter Achieved\n",
      "Terminated in 26 iterations of error 6.42202626855691e-08 for lambda1=10000.0 and lambda2=10000.0\n"
     ]
    }
   ],
   "source": [
    "lambda1=10e3\n",
    "lambda2=10e3\n",
    "w3,error3=split_bregman(returns_cov,returns_mean,lambda1=lambda1,lambda2=lambda2,tol=1e-8,maxiter=25,approach=2)"
   ]
  },
  {
   "cell_type": "code",
   "execution_count": 303,
   "id": "84961315-59ca-45a5-9416-06ccb43c5945",
   "metadata": {},
   "outputs": [
    {
     "data": {
      "text/plain": [
       "Text(0, 0.5, 'Weight Allocation')"
      ]
     },
     "execution_count": 303,
     "metadata": {},
     "output_type": "execute_result"
    },
    {
     "data": {
      "image/png": "[encoded data removed]",
      "text/plain": [
       "<Figure size 720x576 with 1 Axes>"
      ]
     },
     "metadata": {
      "needs_background": "light"
     },
     "output_type": "display_data"
    }
   ],
   "source": [
    "nonzero_w3=np.where(w3>0)[0]\n",
    "\n",
    "fig,ax=plt.subplots(figsize=(10,8))\n",
    "plt.title(\"Portfolio Components for $\\lambda_1=5*10e^{-3}$\")\n",
    "ax.stem(nonzero_w3,w3[nonzero_w3])\n",
    "plt.xlabel(f\"{len(nonzero_w3)} Nonzero components\")\n",
    "plt.ylabel(\"Weight Allocation\")"
   ]
  },
  {
   "cell_type": "markdown",
   "id": "68c5e945-e90a-468e-9202-b4df8e141797",
   "metadata": {},
   "source": [
    "### Grid Search Lambda Values \n",
    "- Cross valaidate optimal $\\lambda_1$ and $\\lambda_2$ parameters representing L1 and L2 regularization"
   ]
  },
  {
   "cell_type": "code",
   "execution_count": 304,
   "id": "364d03c8-4e3c-4c55-9a67-9b0ec2d98455",
   "metadata": {},
   "outputs": [
    {
     "name": "stdout",
     "output_type": "stream",
     "text": [
      "25-th iteration with error of 0.008220197655089861\n",
      "MaxIter Achieved\n",
      "Terminated in 26 iterations of error 0.007241758071486855 for lambda1=0.0001 and lambda2=0.1\n",
      "25-th iteration with error of 0.0007428135721566936\n",
      "MaxIter Achieved\n",
      "Terminated in 26 iterations of error 0.000650421249039949 for lambda1=0.0001 and lambda2=1.0\n",
      "25-th iteration with error of 7.348321832108274e-05\n",
      "MaxIter Achieved\n",
      "Terminated in 26 iterations of error 6.430237932447024e-05 for lambda1=0.0001 and lambda2=10.0\n",
      "25-th iteration with error of 7.340336120356363e-06\n",
      "MaxIter Achieved\n",
      "Terminated in 26 iterations of error 6.422840039551544e-06 for lambda1=0.0001 and lambda2=100.0\n",
      "25-th iteration with error of 7.33953750782706e-07\n",
      "MaxIter Achieved\n",
      "Terminated in 26 iterations of error 6.422100247759268e-07 for lambda1=0.0001 and lambda2=1000.0\n",
      "25-th iteration with error of 7.339457646162496e-08\n",
      "MaxIter Achieved\n",
      "Terminated in 26 iterations of error 6.42202626855691e-08 for lambda1=0.0001 and lambda2=10000.0\n",
      "25-th iteration with error of 0.008220197655089861\n",
      "MaxIter Achieved\n",
      "Terminated in 26 iterations of error 0.007241758071486855 for lambda1=0.003981071705534973 and lambda2=0.1\n",
      "25-th iteration with error of 0.0007428135721566936\n",
      "MaxIter Achieved\n",
      "Terminated in 26 iterations of error 0.000650421249039949 for lambda1=0.003981071705534973 and lambda2=1.0\n",
      "25-th iteration with error of 7.348321832108274e-05\n",
      "MaxIter Achieved\n",
      "Terminated in 26 iterations of error 6.430237932447024e-05 for lambda1=0.003981071705534973 and lambda2=10.0\n",
      "25-th iteration with error of 7.340336120356363e-06\n",
      "MaxIter Achieved\n",
      "Terminated in 26 iterations of error 6.422840039551544e-06 for lambda1=0.003981071705534973 and lambda2=100.0\n",
      "25-th iteration with error of 7.33953750782706e-07\n",
      "MaxIter Achieved\n",
      "Terminated in 26 iterations of error 6.422100247759268e-07 for lambda1=0.003981071705534973 and lambda2=1000.0\n",
      "25-th iteration with error of 7.339457646162496e-08\n",
      "MaxIter Achieved\n",
      "Terminated in 26 iterations of error 6.42202626855691e-08 for lambda1=0.003981071705534973 and lambda2=10000.0\n",
      "25-th iteration with error of 0.008220197655089861\n",
      "MaxIter Achieved\n",
      "Terminated in 26 iterations of error 0.007241758071486855 for lambda1=0.15848931924611143 and lambda2=0.1\n",
      "25-th iteration with error of 0.0007428135721566936\n",
      "MaxIter Achieved\n",
      "Terminated in 26 iterations of error 0.000650421249039949 for lambda1=0.15848931924611143 and lambda2=1.0\n",
      "25-th iteration with error of 7.348321832108274e-05\n",
      "MaxIter Achieved\n",
      "Terminated in 26 iterations of error 6.430237932447024e-05 for lambda1=0.15848931924611143 and lambda2=10.0\n",
      "25-th iteration with error of 7.340336120356363e-06\n",
      "MaxIter Achieved\n",
      "Terminated in 26 iterations of error 6.422840039551544e-06 for lambda1=0.15848931924611143 and lambda2=100.0\n",
      "25-th iteration with error of 7.33953750782706e-07\n",
      "MaxIter Achieved\n",
      "Terminated in 26 iterations of error 6.422100247759268e-07 for lambda1=0.15848931924611143 and lambda2=1000.0\n",
      "25-th iteration with error of 7.339457646162496e-08\n",
      "MaxIter Achieved\n",
      "Terminated in 26 iterations of error 6.42202626855691e-08 for lambda1=0.15848931924611143 and lambda2=10000.0\n",
      "25-th iteration with error of 0.008220197655089861\n",
      "MaxIter Achieved\n",
      "Terminated in 26 iterations of error 0.007241758071486855 for lambda1=6.309573444801943 and lambda2=0.1\n",
      "25-th iteration with error of 0.0007428135721566936\n",
      "MaxIter Achieved\n",
      "Terminated in 26 iterations of error 0.000650421249039949 for lambda1=6.309573444801943 and lambda2=1.0\n",
      "25-th iteration with error of 7.348321832108274e-05\n",
      "MaxIter Achieved\n",
      "Terminated in 26 iterations of error 6.430237932447024e-05 for lambda1=6.309573444801943 and lambda2=10.0\n",
      "25-th iteration with error of 7.340336120356363e-06\n",
      "MaxIter Achieved\n",
      "Terminated in 26 iterations of error 6.422840039551544e-06 for lambda1=6.309573444801943 and lambda2=100.0\n",
      "25-th iteration with error of 7.33953750782706e-07\n",
      "MaxIter Achieved\n",
      "Terminated in 26 iterations of error 6.422100247759268e-07 for lambda1=6.309573444801943 and lambda2=1000.0\n",
      "25-th iteration with error of 7.339457646162496e-08\n",
      "MaxIter Achieved\n",
      "Terminated in 26 iterations of error 6.42202626855691e-08 for lambda1=6.309573444801943 and lambda2=10000.0\n",
      "25-th iteration with error of 102481244.80854915\n",
      "MaxIter Achieved\n",
      "Terminated in 26 iterations of error 409812894.7653886 for lambda1=251.18864315095823 and lambda2=0.1\n",
      "25-th iteration with error of 0.04264690970475041\n",
      "MaxIter Achieved\n",
      "Terminated in 26 iterations of error 0.08786319600628781 for lambda1=251.18864315095823 and lambda2=1.0\n",
      "25-th iteration with error of 7.348321832108274e-05\n",
      "MaxIter Achieved\n",
      "Terminated in 26 iterations of error 6.430237932447024e-05 for lambda1=251.18864315095823 and lambda2=10.0\n",
      "25-th iteration with error of 7.340336120356363e-06\n",
      "MaxIter Achieved\n",
      "Terminated in 26 iterations of error 6.422840039551544e-06 for lambda1=251.18864315095823 and lambda2=100.0\n",
      "25-th iteration with error of 7.33953750782706e-07\n",
      "MaxIter Achieved\n",
      "Terminated in 26 iterations of error 6.422100247759268e-07 for lambda1=251.18864315095823 and lambda2=1000.0\n",
      "25-th iteration with error of 7.339457646162496e-08\n",
      "MaxIter Achieved\n",
      "Terminated in 26 iterations of error 6.42202626855691e-08 for lambda1=251.18864315095823 and lambda2=10000.0\n",
      "25-th iteration with error of 8128831.375878786\n",
      "MaxIter Achieved\n",
      "Terminated in 26 iterations of error 32459445.034136802 for lambda1=10000.0 and lambda2=0.1\n",
      "25-th iteration with error of 2061821.2769931853\n",
      "MaxIter Achieved\n",
      "Terminated in 26 iterations of error 8221624.131662299 for lambda1=10000.0 and lambda2=1.0\n",
      "25-th iteration with error of 1138.6381857074753\n",
      "MaxIter Achieved\n",
      "Terminated in 26 iterations of error 4370.432488343671 for lambda1=10000.0 and lambda2=10.0\n",
      "25-th iteration with error of 7.340336120356363e-06\n",
      "MaxIter Achieved\n",
      "Terminated in 26 iterations of error 6.422840039551544e-06 for lambda1=10000.0 and lambda2=100.0\n",
      "25-th iteration with error of 7.33953750782706e-07\n",
      "MaxIter Achieved\n",
      "Terminated in 26 iterations of error 6.422100247759268e-07 for lambda1=10000.0 and lambda2=1000.0\n",
      "25-th iteration with error of 7.339457646162496e-08\n",
      "MaxIter Achieved\n",
      "Terminated in 26 iterations of error 6.42202626855691e-08 for lambda1=10000.0 and lambda2=10000.0\n"
     ]
    }
   ],
   "source": [
    "def grid_search(params,returns_mean,returns_cov,tol=1e-8,maxiter=25):\n",
    "    results={}\n",
    "    for i in params:\n",
    "        lambda1,lambda2=i\n",
    "        w,error=split_bregman(returns_cov,returns_mean,lambda1,lambda2,tol=1e-8,maxiter=25,approach=2)\n",
    "        results[i]=(w,error)\n",
    "    sorted_dict=sorted(results.items(), key=lambda x:x[1][1])\n",
    "    return sorted_dict\n",
    "\n",
    "lambda1_grid=np.logspace(-4,4,6)\n",
    "lambda2_grid=np.logspace(-1,4,6)\n",
    "\n",
    "params=[]\n",
    "for i in itertools.product(lambda1_grid,lambda2_grid):\n",
    "    params.append(i)\n",
    "\n",
    "sorted_dict=grid_search(params,returns_mean,returns_cov)"
   ]
  },
  {
   "cell_type": "code",
   "execution_count": 305,
   "id": "d1456ca0-a078-425c-85eb-aedfdc7e4e34",
   "metadata": {},
   "outputs": [
    {
     "data": {
      "text/plain": [
       "Text(0, 0.5, 'Weight Allocation')"
      ]
     },
     "execution_count": 305,
     "metadata": {},
     "output_type": "execute_result"
    },
    {
     "data": {
      "image/png": "[encoded data removed]",
      "text/plain": [
       "<Figure size 720x576 with 1 Axes>"
      ]
     },
     "metadata": {
      "needs_background": "light"
     },
     "output_type": "display_data"
    }
   ],
   "source": [
    "wi=sorted_dict[0][1][0]\n",
    "nonzero_wi=np.where(abs(wi)>0)[0]\n",
    "\n",
    "fig,ax=plt.subplots(figsize=(10,8))\n",
    "plt.title(\"Portfolio Components for $\\lambda_1=50$\")\n",
    "ax.stem(wi[nonzero_wi])\n",
    "plt.xlabel(f\"{len(wi[nonzero_wi])} Nonzero components\")\n",
    "plt.ylabel(\"Weight Allocation\")"
   ]
  },
  {
   "cell_type": "code",
   "execution_count": 288,
   "id": "4b9c3518-142c-4c61-80fa-08dd88939c8a",
   "metadata": {},
   "outputs": [
    {
     "name": "stdout",
     "output_type": "stream",
     "text": [
      "Largest Component is 0.032383231659619746\n",
      "Smallest Component is 9.755854686904761e-05\n"
     ]
    }
   ],
   "source": [
    "print(f\"Largest Component is {max(abs(wi[nonzero_wi]))}\")\n",
    "print(f\"Smallest Component is {min(abs(wi[nonzero_wi]))}\")"
   ]
  },
  {
   "cell_type": "markdown",
   "id": "027f7dbe-ad54-4dec-93db-8590d1067ed1",
   "metadata": {},
   "source": [
    "### Evaluation Criteria"
   ]
  },
  {
   "cell_type": "code",
   "execution_count": 31,
   "id": "cbee6b2c-4428-4889-b2f4-7f6cd0b40b37",
   "metadata": {},
   "outputs": [
    {
     "data": {
      "text/html": [
       "<div>\n",
       "<style scoped>\n",
       "    .dataframe tbody tr th:only-of-type {\n",
       "        vertical-align: middle;\n",
       "    }\n",
       "\n",
       "    .dataframe tbody tr th {\n",
       "        vertical-align: top;\n",
       "    }\n",
       "\n",
       "    .dataframe thead th {\n",
       "        text-align: right;\n",
       "    }\n",
       "</style>\n",
       "<table border=\"1\" class=\"dataframe\">\n",
       "  <thead>\n",
       "    <tr style=\"text-align: right;\">\n",
       "      <th></th>\n",
       "      <th>MMM</th>\n",
       "      <th>AOS</th>\n",
       "      <th>ABT</th>\n",
       "      <th>ABBV</th>\n",
       "      <th>ABMD</th>\n",
       "      <th>ACN</th>\n",
       "      <th>ATVI</th>\n",
       "      <th>ADM</th>\n",
       "      <th>ADBE</th>\n",
       "      <th>ADP</th>\n",
       "      <th>...</th>\n",
       "      <th>WTW</th>\n",
       "      <th>GWW</th>\n",
       "      <th>WYNN</th>\n",
       "      <th>XEL</th>\n",
       "      <th>XYL</th>\n",
       "      <th>YUM</th>\n",
       "      <th>ZBRA</th>\n",
       "      <th>ZBH</th>\n",
       "      <th>ZION</th>\n",
       "      <th>ZTS</th>\n",
       "    </tr>\n",
       "    <tr>\n",
       "      <th>Date</th>\n",
       "      <th></th>\n",
       "      <th></th>\n",
       "      <th></th>\n",
       "      <th></th>\n",
       "      <th></th>\n",
       "      <th></th>\n",
       "      <th></th>\n",
       "      <th></th>\n",
       "      <th></th>\n",
       "      <th></th>\n",
       "      <th></th>\n",
       "      <th></th>\n",
       "      <th></th>\n",
       "      <th></th>\n",
       "      <th></th>\n",
       "      <th></th>\n",
       "      <th></th>\n",
       "      <th></th>\n",
       "      <th></th>\n",
       "      <th></th>\n",
       "      <th></th>\n",
       "    </tr>\n",
       "  </thead>\n",
       "  <tbody>\n",
       "    <tr>\n",
       "      <th>2015-01-02</th>\n",
       "      <td>-0.001582</td>\n",
       "      <td>-0.007091</td>\n",
       "      <td>-0.002665</td>\n",
       "      <td>0.006876</td>\n",
       "      <td>-0.019706</td>\n",
       "      <td>-0.005263</td>\n",
       "      <td>-0.000993</td>\n",
       "      <td>0.000385</td>\n",
       "      <td>-0.004952</td>\n",
       "      <td>-0.000960</td>\n",
       "      <td>...</td>\n",
       "      <td>-0.005802</td>\n",
       "      <td>0.001295</td>\n",
       "      <td>-0.012571</td>\n",
       "      <td>0.005568</td>\n",
       "      <td>0.000263</td>\n",
       "      <td>-0.006863</td>\n",
       "      <td>0.000258</td>\n",
       "      <td>-0.007318</td>\n",
       "      <td>-0.007717</td>\n",
       "      <td>0.006507</td>\n",
       "    </tr>\n",
       "    <tr>\n",
       "      <th>2015-01-05</th>\n",
       "      <td>-0.022553</td>\n",
       "      <td>-0.017497</td>\n",
       "      <td>0.000223</td>\n",
       "      <td>-0.018819</td>\n",
       "      <td>-0.006433</td>\n",
       "      <td>-0.016884</td>\n",
       "      <td>-0.013910</td>\n",
       "      <td>-0.034602</td>\n",
       "      <td>-0.004976</td>\n",
       "      <td>-0.000720</td>\n",
       "      <td>...</td>\n",
       "      <td>-0.007183</td>\n",
       "      <td>-0.024450</td>\n",
       "      <td>-0.017020</td>\n",
       "      <td>-0.011351</td>\n",
       "      <td>-0.062237</td>\n",
       "      <td>-0.020318</td>\n",
       "      <td>-0.014077</td>\n",
       "      <td>0.037304</td>\n",
       "      <td>-0.037469</td>\n",
       "      <td>-0.006003</td>\n",
       "    </tr>\n",
       "    <tr>\n",
       "      <th>2015-01-06</th>\n",
       "      <td>-0.010664</td>\n",
       "      <td>-0.008177</td>\n",
       "      <td>-0.011356</td>\n",
       "      <td>-0.004950</td>\n",
       "      <td>-0.025357</td>\n",
       "      <td>-0.007213</td>\n",
       "      <td>-0.018640</td>\n",
       "      <td>-0.019713</td>\n",
       "      <td>-0.020145</td>\n",
       "      <td>-0.008290</td>\n",
       "      <td>...</td>\n",
       "      <td>-0.004974</td>\n",
       "      <td>-0.014178</td>\n",
       "      <td>-0.021331</td>\n",
       "      <td>0.005321</td>\n",
       "      <td>-0.005881</td>\n",
       "      <td>-0.012274</td>\n",
       "      <td>-0.007205</td>\n",
       "      <td>-0.008477</td>\n",
       "      <td>-0.038193</td>\n",
       "      <td>-0.009756</td>\n",
       "    </tr>\n",
       "    <tr>\n",
       "      <th>2015-01-07</th>\n",
       "      <td>0.007249</td>\n",
       "      <td>0.007329</td>\n",
       "      <td>0.008108</td>\n",
       "      <td>0.040417</td>\n",
       "      <td>0.031829</td>\n",
       "      <td>0.020990</td>\n",
       "      <td>-0.021561</td>\n",
       "      <td>0.015032</td>\n",
       "      <td>0.008223</td>\n",
       "      <td>0.008723</td>\n",
       "      <td>...</td>\n",
       "      <td>0.014315</td>\n",
       "      <td>0.000896</td>\n",
       "      <td>0.029368</td>\n",
       "      <td>0.008635</td>\n",
       "      <td>0.007887</td>\n",
       "      <td>0.033138</td>\n",
       "      <td>0.025465</td>\n",
       "      <td>0.024870</td>\n",
       "      <td>0.009546</td>\n",
       "      <td>0.020643</td>\n",
       "    </tr>\n",
       "    <tr>\n",
       "      <th>2015-01-08</th>\n",
       "      <td>0.023967</td>\n",
       "      <td>0.026009</td>\n",
       "      <td>0.020554</td>\n",
       "      <td>0.010459</td>\n",
       "      <td>0.045064</td>\n",
       "      <td>0.015249</td>\n",
       "      <td>0.009969</td>\n",
       "      <td>-0.014609</td>\n",
       "      <td>0.025453</td>\n",
       "      <td>0.022940</td>\n",
       "      <td>...</td>\n",
       "      <td>0.011425</td>\n",
       "      <td>0.022266</td>\n",
       "      <td>0.012031</td>\n",
       "      <td>0.011599</td>\n",
       "      <td>0.007546</td>\n",
       "      <td>0.017420</td>\n",
       "      <td>0.021359</td>\n",
       "      <td>0.010617</td>\n",
       "      <td>0.013994</td>\n",
       "      <td>0.015399</td>\n",
       "    </tr>\n",
       "    <tr>\n",
       "      <th>...</th>\n",
       "      <td>...</td>\n",
       "      <td>...</td>\n",
       "      <td>...</td>\n",
       "      <td>...</td>\n",
       "      <td>...</td>\n",
       "      <td>...</td>\n",
       "      <td>...</td>\n",
       "      <td>...</td>\n",
       "      <td>...</td>\n",
       "      <td>...</td>\n",
       "      <td>...</td>\n",
       "      <td>...</td>\n",
       "      <td>...</td>\n",
       "      <td>...</td>\n",
       "      <td>...</td>\n",
       "      <td>...</td>\n",
       "      <td>...</td>\n",
       "      <td>...</td>\n",
       "      <td>...</td>\n",
       "      <td>...</td>\n",
       "      <td>...</td>\n",
       "    </tr>\n",
       "    <tr>\n",
       "      <th>2019-12-24</th>\n",
       "      <td>-0.010030</td>\n",
       "      <td>0.007637</td>\n",
       "      <td>-0.000801</td>\n",
       "      <td>-0.004432</td>\n",
       "      <td>0.010913</td>\n",
       "      <td>0.003700</td>\n",
       "      <td>-0.001358</td>\n",
       "      <td>0.001304</td>\n",
       "      <td>0.002098</td>\n",
       "      <td>-0.000647</td>\n",
       "      <td>...</td>\n",
       "      <td>0.002034</td>\n",
       "      <td>-0.001007</td>\n",
       "      <td>-0.005634</td>\n",
       "      <td>-0.002539</td>\n",
       "      <td>-0.003927</td>\n",
       "      <td>0.005210</td>\n",
       "      <td>-0.009348</td>\n",
       "      <td>-0.002446</td>\n",
       "      <td>0.003701</td>\n",
       "      <td>0.004155</td>\n",
       "    </tr>\n",
       "    <tr>\n",
       "      <th>2019-12-26</th>\n",
       "      <td>-0.000509</td>\n",
       "      <td>0.005053</td>\n",
       "      <td>0.000000</td>\n",
       "      <td>-0.000223</td>\n",
       "      <td>-0.007487</td>\n",
       "      <td>0.002079</td>\n",
       "      <td>0.001360</td>\n",
       "      <td>0.002604</td>\n",
       "      <td>0.004732</td>\n",
       "      <td>0.002590</td>\n",
       "      <td>...</td>\n",
       "      <td>0.000149</td>\n",
       "      <td>0.004535</td>\n",
       "      <td>0.010757</td>\n",
       "      <td>-0.001114</td>\n",
       "      <td>-0.000509</td>\n",
       "      <td>0.014552</td>\n",
       "      <td>0.000354</td>\n",
       "      <td>-0.003778</td>\n",
       "      <td>0.002523</td>\n",
       "      <td>0.000828</td>\n",
       "    </tr>\n",
       "    <tr>\n",
       "      <th>2019-12-27</th>\n",
       "      <td>0.003794</td>\n",
       "      <td>0.001466</td>\n",
       "      <td>0.001375</td>\n",
       "      <td>-0.007013</td>\n",
       "      <td>-0.010175</td>\n",
       "      <td>0.000802</td>\n",
       "      <td>0.005094</td>\n",
       "      <td>0.002164</td>\n",
       "      <td>-0.001238</td>\n",
       "      <td>0.002466</td>\n",
       "      <td>...</td>\n",
       "      <td>-0.001287</td>\n",
       "      <td>-0.004249</td>\n",
       "      <td>-0.008018</td>\n",
       "      <td>0.005256</td>\n",
       "      <td>0.003053</td>\n",
       "      <td>0.001081</td>\n",
       "      <td>0.006210</td>\n",
       "      <td>-0.001929</td>\n",
       "      <td>-0.003097</td>\n",
       "      <td>0.001654</td>\n",
       "    </tr>\n",
       "    <tr>\n",
       "      <th>2019-12-30</th>\n",
       "      <td>-0.008067</td>\n",
       "      <td>-0.005020</td>\n",
       "      <td>-0.006865</td>\n",
       "      <td>-0.007623</td>\n",
       "      <td>-0.011697</td>\n",
       "      <td>-0.007445</td>\n",
       "      <td>-0.005237</td>\n",
       "      <td>-0.003888</td>\n",
       "      <td>-0.007407</td>\n",
       "      <td>-0.006910</td>\n",
       "      <td>...</td>\n",
       "      <td>-0.000892</td>\n",
       "      <td>0.002311</td>\n",
       "      <td>-0.003076</td>\n",
       "      <td>0.002693</td>\n",
       "      <td>-0.001268</td>\n",
       "      <td>-0.012365</td>\n",
       "      <td>-0.007383</td>\n",
       "      <td>-0.008399</td>\n",
       "      <td>0.005243</td>\n",
       "      <td>-0.007805</td>\n",
       "    </tr>\n",
       "    <tr>\n",
       "      <th>2019-12-31</th>\n",
       "      <td>0.003355</td>\n",
       "      <td>0.001472</td>\n",
       "      <td>0.000691</td>\n",
       "      <td>0.000226</td>\n",
       "      <td>0.019726</td>\n",
       "      <td>-0.000332</td>\n",
       "      <td>0.009171</td>\n",
       "      <td>0.004987</td>\n",
       "      <td>0.004477</td>\n",
       "      <td>0.005366</td>\n",
       "      <td>...</td>\n",
       "      <td>0.001786</td>\n",
       "      <td>0.000798</td>\n",
       "      <td>-0.003659</td>\n",
       "      <td>0.003160</td>\n",
       "      <td>0.000635</td>\n",
       "      <td>0.000894</td>\n",
       "      <td>0.005234</td>\n",
       "      <td>0.006252</td>\n",
       "      <td>0.002897</td>\n",
       "      <td>0.001059</td>\n",
       "    </tr>\n",
       "  </tbody>\n",
       "</table>\n",
       "<p>1258 rows × 497 columns</p>\n",
       "</div>"
      ],
      "text/plain": [
       "                 MMM       AOS       ABT      ABBV      ABMD       ACN  \\\n",
       "Date                                                                     \n",
       "2015-01-02 -0.001582 -0.007091 -0.002665  0.006876 -0.019706 -0.005263   \n",
       "2015-01-05 -0.022553 -0.017497  0.000223 -0.018819 -0.006433 -0.016884   \n",
       "2015-01-06 -0.010664 -0.008177 -0.011356 -0.004950 -0.025357 -0.007213   \n",
       "2015-01-07  0.007249  0.007329  0.008108  0.040417  0.031829  0.020990   \n",
       "2015-01-08  0.023967  0.026009  0.020554  0.010459  0.045064  0.015249   \n",
       "...              ...       ...       ...       ...       ...       ...   \n",
       "2019-12-24 -0.010030  0.007637 -0.000801 -0.004432  0.010913  0.003700   \n",
       "2019-12-26 -0.000509  0.005053  0.000000 -0.000223 -0.007487  0.002079   \n",
       "2019-12-27  0.003794  0.001466  0.001375 -0.007013 -0.010175  0.000802   \n",
       "2019-12-30 -0.008067 -0.005020 -0.006865 -0.007623 -0.011697 -0.007445   \n",
       "2019-12-31  0.003355  0.001472  0.000691  0.000226  0.019726 -0.000332   \n",
       "\n",
       "                ATVI       ADM      ADBE       ADP  ...       WTW       GWW  \\\n",
       "Date                                                ...                       \n",
       "2015-01-02 -0.000993  0.000385 -0.004952 -0.000960  ... -0.005802  0.001295   \n",
       "2015-01-05 -0.013910 -0.034602 -0.004976 -0.000720  ... -0.007183 -0.024450   \n",
       "2015-01-06 -0.018640 -0.019713 -0.020145 -0.008290  ... -0.004974 -0.014178   \n",
       "2015-01-07 -0.021561  0.015032  0.008223  0.008723  ...  0.014315  0.000896   \n",
       "2015-01-08  0.009969 -0.014609  0.025453  0.022940  ...  0.011425  0.022266   \n",
       "...              ...       ...       ...       ...  ...       ...       ...   \n",
       "2019-12-24 -0.001358  0.001304  0.002098 -0.000647  ...  0.002034 -0.001007   \n",
       "2019-12-26  0.001360  0.002604  0.004732  0.002590  ...  0.000149  0.004535   \n",
       "2019-12-27  0.005094  0.002164 -0.001238  0.002466  ... -0.001287 -0.004249   \n",
       "2019-12-30 -0.005237 -0.003888 -0.007407 -0.006910  ... -0.000892  0.002311   \n",
       "2019-12-31  0.009171  0.004987  0.004477  0.005366  ...  0.001786  0.000798   \n",
       "\n",
       "                WYNN       XEL       XYL       YUM      ZBRA       ZBH  \\\n",
       "Date                                                                     \n",
       "2015-01-02 -0.012571  0.005568  0.000263 -0.006863  0.000258 -0.007318   \n",
       "2015-01-05 -0.017020 -0.011351 -0.062237 -0.020318 -0.014077  0.037304   \n",
       "2015-01-06 -0.021331  0.005321 -0.005881 -0.012274 -0.007205 -0.008477   \n",
       "2015-01-07  0.029368  0.008635  0.007887  0.033138  0.025465  0.024870   \n",
       "2015-01-08  0.012031  0.011599  0.007546  0.017420  0.021359  0.010617   \n",
       "...              ...       ...       ...       ...       ...       ...   \n",
       "2019-12-24 -0.005634 -0.002539 -0.003927  0.005210 -0.009348 -0.002446   \n",
       "2019-12-26  0.010757 -0.001114 -0.000509  0.014552  0.000354 -0.003778   \n",
       "2019-12-27 -0.008018  0.005256  0.003053  0.001081  0.006210 -0.001929   \n",
       "2019-12-30 -0.003076  0.002693 -0.001268 -0.012365 -0.007383 -0.008399   \n",
       "2019-12-31 -0.003659  0.003160  0.000635  0.000894  0.005234  0.006252   \n",
       "\n",
       "                ZION       ZTS  \n",
       "Date                            \n",
       "2015-01-02 -0.007717  0.006507  \n",
       "2015-01-05 -0.037469 -0.006003  \n",
       "2015-01-06 -0.038193 -0.009756  \n",
       "2015-01-07  0.009546  0.020643  \n",
       "2015-01-08  0.013994  0.015399  \n",
       "...              ...       ...  \n",
       "2019-12-24  0.003701  0.004155  \n",
       "2019-12-26  0.002523  0.000828  \n",
       "2019-12-27 -0.003097  0.001654  \n",
       "2019-12-30  0.005243 -0.007805  \n",
       "2019-12-31  0.002897  0.001059  \n",
       "\n",
       "[1258 rows x 497 columns]"
      ]
     },
     "execution_count": 31,
     "metadata": {},
     "output_type": "execute_result"
    }
   ],
   "source": [
    "returns_test"
   ]
  },
  {
   "cell_type": "code",
   "execution_count": 32,
   "id": "ad49f221-f0a2-48f3-93a0-f9a7dbdfaf7c",
   "metadata": {},
   "outputs": [],
   "source": [
    "def get_sharpe(port_returns,rf=0.0178):\n",
    "    sd=np.std(port_returns)*np.sqrt(252)\n",
    "    mu=np.mean(port_returns)*252\n",
    "    \n",
    "    sharpe=(mu-rf)/sd\n",
    "    \n",
    "    return sharpe"
   ]
  },
  {
   "cell_type": "code",
   "execution_count": null,
   "id": "12b0b0da-abf7-42cb-b7ae-3bdec8ce7654",
   "metadata": {},
   "outputs": [],
   "source": []
  },
  {
   "cell_type": "markdown",
   "id": "12b49299-4204-4770-96ac-0bde3c9d0e1f",
   "metadata": {},
   "source": [
    "### Optimally tuned penalty compared to equal weighted "
   ]
  },
  {
   "cell_type": "code",
   "execution_count": 33,
   "id": "e42e5a81-6444-434d-b096-544419105446",
   "metadata": {},
   "outputs": [
    {
     "data": {
      "text/plain": [
       "<matplotlib.legend.Legend at 0x7f6490e9e2f0>"
      ]
     },
     "execution_count": 33,
     "metadata": {},
     "output_type": "execute_result"
    },
    {
     "data": {
      "image/png": "[encoded data removed]",
      "text/plain": [
       "<Figure size 720x576 with 1 Axes>"
      ]
     },
     "metadata": {
      "needs_background": "light"
     },
     "output_type": "display_data"
    }
   ],
   "source": [
    "cum_returns_split_i=np.cumprod(1+np.dot(wi,returns_test.T))\n",
    "\n",
    "equal=(1/returns_test.shape[1])*np.ones(returns_test.shape[1])\n",
    "cum_returns_equal=np.cumprod(1+np.dot(equal,returns_test.T))\n",
    "fig,ax=plt.subplots(figsize=(10,8))\n",
    "plt.title(\"Portfolio Components for optimal $\\lambda_1$\")\n",
    "plt.plot(pd.to_datetime(returns_test.index),cum_returns_split_i,label='Split Bregamn Optimal',color='red')\n",
    "plt.plot(pd.to_datetime(returns_test.index),cum_returns_equal,label='Equal Weighted',color='blue')\n",
    "plt.xlabel(f\"{len(wi[nonzero_wi])} Nonzero components\")\n",
    "plt.ylabel(\"Weight Allocation\")\n",
    "plt.legend()\n"
   ]
  },
  {
   "cell_type": "code",
   "execution_count": 34,
   "id": "59e031df-987f-4a68-ad0d-2946222d6546",
   "metadata": {},
   "outputs": [
    {
     "name": "stdout",
     "output_type": "stream",
     "text": [
      "Sharpe of equal allocation is 0.83\n",
      "Sharpe of Split-Bregman allocation is 0.85\n"
     ]
    }
   ],
   "source": [
    "print(f\"Sharpe of equal allocation is {round(get_sharpe(np.dot(equal,returns_test.T)),2)}\")\n",
    "print(f\"Sharpe of Split-Bregman allocation is {round(get_sharpe(np.dot(wi,returns_test.T)),2)}\")"
   ]
  },
  {
   "cell_type": "markdown",
   "id": "53120fc5-3c39-42dc-addb-f6103259c344",
   "metadata": {},
   "source": [
    "### Varying levels of lambda penalization "
   ]
  },
  {
   "cell_type": "code",
   "execution_count": 35,
   "id": "c9ead4a1-4ad8-4474-a3f2-f53d94fc1c62",
   "metadata": {},
   "outputs": [
    {
     "data": {
      "text/plain": [
       "<matplotlib.legend.Legend at 0x7f6493e02a70>"
      ]
     },
     "execution_count": 35,
     "metadata": {},
     "output_type": "execute_result"
    },
    {
     "data": {
      "image/png": "[encoded data removed]",
      "text/plain": [
       "<Figure size 720x576 with 1 Axes>"
      ]
     },
     "metadata": {
      "needs_background": "light"
     },
     "output_type": "display_data"
    }
   ],
   "source": [
    "cum_returns_split_0=np.cumprod(1+np.dot(w0,returns_test.T))\n",
    "cum_returns_split_1=np.cumprod(1+np.dot(w1,returns_test.T))\n",
    "cum_returns_split_2=np.cumprod(1+np.dot(w2,returns_test.T))\n",
    "cum_returns_split_3=np.cumprod(1+np.dot(w3,returns_test.T))\n",
    "\n",
    "fig,ax=plt.subplots(figsize=(10,8))\n",
    "plt.title(\"Portfolio Components for varying $\\lambda_1$\")\n",
    "plt.plot(pd.to_datetime(returns_test.index),cum_returns_split_0,label='$\\lambda=10e^{-4}$',color='blue')\n",
    "plt.plot(pd.to_datetime(returns_test.index),cum_returns_split_1,label='$\\lambda=5*10e^{-4}$',color='red')\n",
    "plt.plot(pd.to_datetime(returns_test.index),cum_returns_split_2,label='$\\lambda=10e^{-3}$',color='green')\n",
    "plt.plot(pd.to_datetime(returns_test.index),cum_returns_split_3,label='$\\lambda=5*10e^{-3}$',color='orange')\n",
    "plt.xlabel(\"2016-2019\")\n",
    "plt.ylabel(\"Weight Allocation\")\n",
    "plt.legend()\n",
    "\n"
   ]
  },
  {
   "cell_type": "code",
   "execution_count": null,
   "id": "b63a2d25-88e1-4eba-885d-308081892e79",
   "metadata": {},
   "outputs": [],
   "source": []
  }
 ],
 "metadata": {
  "kernelspec": {
   "display_name": "Python [conda env:research]",
   "language": "python",
   "name": "conda-env-research-py"
  },
  "language_info": {
   "codemirror_mode": {
    "name": "ipython",
    "version": 3
   },
   "file_extension": ".py",
   "mimetype": "text/x-python",
   "name": "python",
   "nbconvert_exporter": "python",
   "pygments_lexer": "ipython3",
   "version": "3.10.4"
  }
 },
 "nbformat": 4,
 "nbformat_minor": 5
}
