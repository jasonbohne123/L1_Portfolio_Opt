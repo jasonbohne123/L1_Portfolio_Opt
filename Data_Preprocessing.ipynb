{
 "cells": [
  {
   "cell_type": "markdown",
   "id": "b36a3337-ff70-4a9d-af16-5ac38cf79c89",
   "metadata": {},
   "source": [
    "### Data Preprocessing\n",
    "\n",
    "S&P500 data from 2016-2019"
   ]
  },
  {
   "cell_type": "code",
   "execution_count": 1,
   "id": "84657e51-9b60-481c-95a8-4fcac4c1bd75",
   "metadata": {},
   "outputs": [],
   "source": [
    "import time\n",
    "import yfinance as yf\n",
    "\n",
    "import pandas as pd\n",
    "from pandas_datareader import data as pdr"
   ]
  },
  {
   "cell_type": "code",
   "execution_count": 2,
   "id": "e07d2034-f977-4595-81e9-74c82b9153ed",
   "metadata": {},
   "outputs": [],
   "source": [
    "def get_tickers():\n",
    "    \"\"\" Returns list of S&P 500 symbols\n",
    "    \"\"\"\n",
    "    table=pd.read_html('https://en.wikipedia.org/wiki/List_of_S%26P_500_companies')\n",
    "    symbols = table[0]['Symbol'].values\n",
    "    return symbols\n",
    "\n",
    "def get_data(start,end,ref='Close'):\n",
    "    \"\"\" Query YFinance for equity data \n",
    "    \"\"\"\n",
    "    start_time=time.time()\n",
    "    ticker_names=get_tickers()\n",
    "    data_dict={}\n",
    "    \n",
    "    for ct,ticker in enumerate(ticker_names):\n",
    "        try:\n",
    "            data = pdr.get_data_yahoo(ticker, start=start, end=end)[ref]\n",
    "            data=data.rename(ticker)\n",
    "            data_dict[ticker]=data\n",
    "        except:\n",
    "            continue\n",
    "        if ct%25==0:\n",
    "            print(f\"{ct} out of {len(ticker_names)} tickers downloaded\")\n",
    "    \n",
    "    data_df=pd.DataFrame(pd.concat(list(data_dict.values()),axis=1))\n",
    "    data_df=data_df.rename(columns=dict(zip(data_df.columns,list(data_dict.keys()))))\n",
    "    \n",
    "    data_df.to_csv('equity_data_2021.csv')\n",
    "    stop_time=time.time()\n",
    "    print(f\"Total time taken for {len(ticker_names)} is {stop_time-start_time})\")\n",
    "    return\n"
   ]
  },
  {
   "cell_type": "code",
   "execution_count": 3,
   "id": "13b759c9-2d4a-4d70-8e83-95558a0fc2dd",
   "metadata": {},
   "outputs": [
    {
     "name": "stdout",
     "output_type": "stream",
     "text": [
      "0 out of 502 tickers downloaded\n",
      "25 out of 502 tickers downloaded\n",
      "50 out of 502 tickers downloaded\n",
      "75 out of 502 tickers downloaded\n",
      "100 out of 502 tickers downloaded\n",
      "125 out of 502 tickers downloaded\n",
      "150 out of 502 tickers downloaded\n",
      "175 out of 502 tickers downloaded\n",
      "200 out of 502 tickers downloaded\n",
      "225 out of 502 tickers downloaded\n",
      "250 out of 502 tickers downloaded\n",
      "275 out of 502 tickers downloaded\n",
      "300 out of 502 tickers downloaded\n",
      "325 out of 502 tickers downloaded\n",
      "350 out of 502 tickers downloaded\n",
      "375 out of 502 tickers downloaded\n",
      "400 out of 502 tickers downloaded\n",
      "425 out of 502 tickers downloaded\n",
      "450 out of 502 tickers downloaded\n",
      "475 out of 502 tickers downloaded\n",
      "500 out of 502 tickers downloaded\n",
      "Total time taken for 502 is 900.1830995082855)\n"
     ]
    }
   ],
   "source": [
    "start=\"2016-01-01\"\n",
    "end=\"2020-01-01\"\n",
    "get_data(start,end)"
   ]
  },
  {
   "cell_type": "code",
   "execution_count": null,
   "id": "e0a41e19-752f-4232-ad3a-7cc9100fcd8b",
   "metadata": {},
   "outputs": [],
   "source": []
  }
 ],
 "metadata": {
  "kernelspec": {
   "display_name": "Python [conda env:research]",
   "language": "python",
   "name": "conda-env-research-py"
  },
  "language_info": {
   "codemirror_mode": {
    "name": "ipython",
    "version": 3
   },
   "file_extension": ".py",
   "mimetype": "text/x-python",
   "name": "python",
   "nbconvert_exporter": "python",
   "pygments_lexer": "ipython3",
   "version": "3.10.4"
  }
 },
 "nbformat": 4,
 "nbformat_minor": 5
}
