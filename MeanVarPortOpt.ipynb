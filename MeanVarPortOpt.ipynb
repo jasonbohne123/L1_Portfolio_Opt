{
 "cells": [
  {
   "cell_type": "code",
   "execution_count": 21,
   "id": "8bcaf802",
   "metadata": {},
   "outputs": [],
   "source": [
    "from datetime import datetime\n",
    "from scipy.optimize import linprog\n",
    "from scipy import optimize\n",
    "\n",
    "import sys\n",
    "sys.path.append(r'c:\\users\\severusbot\\appdata\\local\\programs\\python\\python39\\lib\\site-packages')\n",
    "\n",
    "import matplotlib.pyplot as plt\n",
    "import yfinance as yf\n",
    "import pandas as pd\n",
    "import numpy as np\n",
    "import os\n"
   ]
  },
  {
   "cell_type": "markdown",
   "id": "722244c8",
   "metadata": {},
   "source": [
    "## $\\color{red}{\\text{Get Data}}$\n",
    "\n",
    "We will use python's Yahoo Finance package to get historical stock data. Following the paper's methods,\n",
    "we will look at daily return data from 01/01/2001 - 04/01/2014."
   ]
  },
  {
   "cell_type": "code",
   "execution_count": 22,
   "id": "b38db45e",
   "metadata": {},
   "outputs": [],
   "source": [
    "# OLD DATA\n",
    "\n",
    "# We will use the 13 week T bill as the risk free rate\n",
    "rf = 0.0178\n",
    "\n",
    "prices = pd.read_csv('equity_data_2019.csv')\n",
    "prices['Date'] = pd.to_datetime(prices['Date'], infer_datetime_format = True)\n",
    "prices.set_index('Date', inplace = True)\n",
    "prices = prices.dropna()\n",
    "prices = prices.astype(int)\n",
    "\n",
    "returns = prices.pct_change().iloc[1:, :] * 100\n",
    "#returns = returns.fillna(0)\n",
    "returns = returns.iloc[1:253, :10]\n",
    "frac=0.75\n",
    "cutoff = np.floor(frac*len(returns.index)).astype(int)\n",
    "\n",
    "returns_train = returns.iloc[:cutoff]\n",
    "returns_test = returns.iloc[cutoff:]\n",
    "TrainDays = len(returns_train)\n",
    "TestDays = len(returns_test)\n"
   ]
  },
  {
   "cell_type": "markdown",
   "id": "5718843c",
   "metadata": {},
   "source": [
    "## $\\color{red}{\\text{Perform Reguralization on the Covariance Matrix}}$\n",
    "\n",
    "We want to make sure our covariance matrix is nonsingular. Let's use regularization on the covariance matrix and the James Stein estimator for the mean vector.\n",
    "\n",
    "The regularized covariance matrix is shown as \n",
    "$\\hat{\\Gamma} = \\rho_1 \\Gamma_S + \\rho_2 I$\n",
    "\n",
    "and the estimated mean\n",
    "$\\hat{\\mu} = (1 - \\rho)\\mu_S + \\rho \\eta 1$"
   ]
  },
  {
   "cell_type": "code",
   "execution_count": 4,
   "id": "dbe68acb",
   "metadata": {
    "scrolled": false
   },
   "outputs": [],
   "source": [
    "def regularization(matrix, days):\n",
    "    \n",
    "    cov = matrix.cov()\n",
    "\n",
    "    # Compute sample covariance matrix\n",
    "    sampleCov = np.dot(matrix.values.T, matrix.values) / len(matrix.columns)\n",
    "    sampleMean = matrix.mean()\n",
    "    \n",
    "    I = np.identity(len(cov.columns))\n",
    "    \n",
    "    # Compute the estimates\n",
    "    mu = np.dot(cov, I)\n",
    "    alpha = np.linalg.norm(cov - mu * I)\n",
    "    beta = np.linalg.norm(sampleCov - cov)\n",
    "    delta = np.linalg.norm(sampleCov - mu * I)\n",
    "\n",
    "    row1 = (beta**2)/(alpha**2 + beta**2)\n",
    "    row2 = (alpha**2)/(delta**2)\n",
    "    \n",
    "    covEstimate = row1 * mu * I + row2 * sampleCov  \n",
    "    \n",
    "    # Find the mean estimate\n",
    "    eta = max(sampleMean.sum() / sampleMean.size, 0.0004)   \n",
    "    denom = np.dot(np.transpose((sampleMean - eta*np.ones(shape = (len(sampleMean),))).values.reshape((len(sampleMean), 1))),\n",
    "                   np.dot(np.linalg.pinv(covEstimate), (sampleMean - eta*np.ones(shape = (len(sampleMean),))).values.reshape((len(sampleMean), 1))))\n",
    "    \n",
    "    rightside = ((len(sampleMean) - 2) / days) / (denom + len(sampleMean) + 2)\n",
    "    leftside = 1\n",
    "    rho = min(leftside, rightside)[0][0]       \n",
    "    meanEstimate = (1 - rho)*sampleMean + rho*eta*np.ones(shape = (len(sampleMean),))\n",
    "    \n",
    "    return covEstimate, meanEstimate\n",
    "\n"
   ]
  },
  {
   "cell_type": "markdown",
   "id": "47a2aacd",
   "metadata": {},
   "source": [
    "## $\\color{red}{\\text{Finding the Maximum Return Portfolio}}$\n",
    "\n",
    "If we want to use Markowitz's ideas, we need to first establish an expected return. We can define this a lot of different ways, but will chose to let it represent the maximum possible return of the portfolio.\n",
    "\n",
    "The objective function is:\n",
    "$\\max \\biggr(\\sum_{i = 1}^{N}W_i \\mu_i \\biggr)$\n",
    "$\\\\$ subject to\n",
    "$\\sum_{i = 1}^{N} W_i = 1$ and $0 \\leq W_i \\leq 1$"
   ]
  },
  {
   "cell_type": "code",
   "execution_count": 7,
   "id": "c39feed6",
   "metadata": {},
   "outputs": [],
   "source": [
    "def MaxRetPort(mean):\n",
    "    \n",
    "    c = (np.multiply(-1, mean))\n",
    "    A = np.ones([len(mean), 1]).T\n",
    "    b = [1]\n",
    "    res = linprog(c, A_ub = A, b_ub = b, bounds = (0, 0.33), method = 'simplex') \n",
    "    \n",
    "    return res"
   ]
  },
  {
   "cell_type": "code",
   "execution_count": 8,
   "id": "4629495c",
   "metadata": {},
   "outputs": [
    {
     "name": "stdout",
     "output_type": "stream",
     "text": [
      "Maximum Expected Portfolio Period Return: 0.16969\n"
     ]
    },
    {
     "name": "stderr",
     "output_type": "stream",
     "text": [
      "<ipython-input-7-a465f410095b>:6: DeprecationWarning: `method='simplex'` is deprecated and will be removed in SciPy 1.11.0. Please use one of the HiGHS solvers (e.g. `method='highs'`) in new code.\n",
      "  res = linprog(c, A_ub = A, b_ub = b, bounds = (0, 0.33), method = 'simplex')\n"
     ]
    }
   ],
   "source": [
    "estCov, estMean = regularization(returns_train, TrainDays)\n",
    "maxPort = MaxRetPort(returns_train.mean())\n",
    "weights = maxPort.x\n",
    "maxExpectedReturn = np.dot(weights, returns_train.mean())\n",
    "print(f'Maximum Expected Portfolio Period Return: {np.round(maxExpectedReturn, 5)}')"
   ]
  },
  {
   "cell_type": "markdown",
   "id": "48e634a6",
   "metadata": {},
   "source": [
    "## $\\color{red}{\\text{Finding the Minimum Variance Portfolio}}$\n",
    "\n",
    "With the maximum expected return known, we now need to find the minimum expected return. These results will serve as constraints on our mean-variance optimization search.\n",
    "\n",
    "The objective function is:\n",
    "$\\min \\biggr(\\sqrt{\\sum_{i} \\sum_{j} W_i W_j \\sigma_{ij}} \\biggr)$\n",
    "$\\\\$ subject to\n",
    "$\\sum_{i = 1}^{N} W_i = 1$ and $0 \\leq W_i \\leq 1$"
   ]
  },
  {
   "cell_type": "code",
   "execution_count": 9,
   "id": "60e3b076",
   "metadata": {},
   "outputs": [],
   "source": [
    "def MinVarPort(cov, meanVector = None, R = None, flag = True):\n",
    "    \n",
    "    # Objective function\n",
    "    def f(weights, cov):\n",
    "        return np.dot(np.dot(weights, cov), weights)\n",
    "    \n",
    "    # Constraints\n",
    "    def wConstraint(weights):\n",
    "        A = np.ones(weights.shape)\n",
    "        b = 1\n",
    "        val = np.dot(weights, A) - b        \n",
    "        return val\n",
    "\n",
    "    def rConstraint(weights, meanVector, R):\n",
    "        A = np.array(meanVector)\n",
    "        b = R\n",
    "        val = np.dot(weights, A) - b\n",
    "        return val\n",
    "    \n",
    "    # Initialize weights and constraints\n",
    "    weights = np.repeat(1, len(cov))\n",
    "    \n",
    "    # Assume we don't want a single position larger than 33%\n",
    "    bnds = tuple([(0, 0.33) for _ in weights])\n",
    "    if (flag == True):\n",
    "        cons = ({'type': 'eq', 'fun' : wConstraint})\n",
    "        opt = optimize.minimize (f, x0 = weights, args = (cov),  \n",
    "                                 bounds = bnds, constraints = cons, tol = 10**-3)\n",
    "        \n",
    "    else:\n",
    "        cons = ({'type': 'eq', 'fun': wConstraint}, {'type': 'ineq', 'fun': rConstraint, 'args': (meanVector, R)})\n",
    "        opt = optimize.minimize (f, args = (cov), method ='trust-constr', \n",
    "                                 x0 = weights, bounds = bnds, constraints = cons, tol = 10**-3)\n",
    "    \n",
    "    return opt"
   ]
  },
  {
   "cell_type": "code",
   "execution_count": 10,
   "id": "e21d208f",
   "metadata": {},
   "outputs": [
    {
     "name": "stdout",
     "output_type": "stream",
     "text": [
      "Minimum Expected Portfolio Period Return: 0.0699\n"
     ]
    }
   ],
   "source": [
    "minPort = MinVarPort(estCov)\n",
    "minVarWeights = minPort.x\n",
    "minExpectedReturn = np.dot(minVarWeights, returns_train.mean())\n",
    "print(f'Minimum Expected Portfolio Period Return: {np.round(minExpectedReturn, 5)}')\n"
   ]
  },
  {
   "cell_type": "markdown",
   "id": "63d02825",
   "metadata": {},
   "source": [
    "## $\\color{red}{\\text{Finding the Optimal Mean-Variance Portfolio}}$\n",
    "\n",
    "With our upper and lower bounds, we need to define a constrained minimum variance function that will be used in the mean-variance optimization."
   ]
  },
  {
   "cell_type": "code",
   "execution_count": 25,
   "id": "56860f74",
   "metadata": {},
   "outputs": [],
   "source": [
    "def MeanVarPort(bnds, matrix):\n",
    "\n",
    "    increment = 0.0001\n",
    "    lower = bnds[0]\n",
    "    upper = bnds[1]\n",
    "\n",
    "    meanVector = matrix.mean()\n",
    "    covMatrix = matrix.cov()\n",
    "    \n",
    "    xOptimal = []\n",
    "    minRiskPoint = []\n",
    "    expPortfolioReturn = []\n",
    "\n",
    "    while (lower < upper):\n",
    "\n",
    "        result3 = MinVarPort(covMatrix, meanVector, lower, False)\n",
    "        xOptimal.append(result3.x)\n",
    "        expPortfolioReturn.append(lower)\n",
    "        lower = lower + increment\n",
    "    \n",
    "    numDays = 251\n",
    "    \n",
    "    OptimalPorts = np.array(xOptimal)\n",
    "    minRisk = np.diagonal(np.matmul((np.matmul(OptimalPorts, covMatrix)), np.transpose(OptimalPorts)))\n",
    "    sigma = np.sqrt(minRisk) * np.sqrt(numDays) \n",
    "    mu = numDays * np.array(expPortfolioReturn) \n",
    "    \n",
    "    return sigma, mu, OptimalPorts"
   ]
  },
  {
   "cell_type": "code",
   "execution_count": 26,
   "id": "d668a64b",
   "metadata": {},
   "outputs": [
    {
     "data": {
      "image/png": "[encoded data removed]",
      "text/plain": [
       "<Figure size 432x288 with 1 Axes>"
      ]
     },
     "metadata": {
      "needs_background": "light"
     },
     "output_type": "display_data"
    }
   ],
   "source": [
    "bounds = [minExpectedReturn, maxExpectedReturn]\n",
    "risk, ret, weights = MeanVarPort(bounds, returns_train)\n",
    "\n",
    "plt.title('Efficient Frontier for Portfolio of S&P500 Stocks')\n",
    "plt.xlabel('Annualized Risk (%)')\n",
    "plt.ylabel('Annualized Expected Portfolio Return (%)' )\n",
    "plt.scatter(risk, ret, s = np.pi*3, c= \"blue\" , alpha = 0.5)\n",
    "plt.show()"
   ]
  },
  {
   "cell_type": "code",
   "execution_count": null,
   "id": "ab736482",
   "metadata": {},
   "outputs": [],
   "source": []
  }
 ],
 "metadata": {
  "kernelspec": {
   "display_name": "Python 3",
   "language": "python",
   "name": "python3"
  },
  "language_info": {
   "codemirror_mode": {
    "name": "ipython",
    "version": 3
   },
   "file_extension": ".py",
   "mimetype": "text/x-python",
   "name": "python",
   "nbconvert_exporter": "python",
   "pygments_lexer": "ipython3",
   "version": "3.8.8"
  },
  "vscode": {
   "interpreter": {
    "hash": "e971ed0c59487fd43325119dba4ff93fbae6891269a8839fb1a78a42cb95c7e4"
   }
  }
 },
 "nbformat": 4,
 "nbformat_minor": 5
}
